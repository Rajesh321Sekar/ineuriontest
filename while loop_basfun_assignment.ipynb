{
 "cells": [
  {
   "cell_type": "raw",
   "id": "0585b9dd",
   "metadata": {},
   "source": [
    "q1 : Try to print this by using while loop"
   ]
  },
  {
   "cell_type": "code",
   "execution_count": 2,
   "id": "aedd2adf",
   "metadata": {},
   "outputs": [
    {
     "name": "stdout",
     "output_type": "stream",
     "text": [
      "Enter the number of rows :5\n"
     ]
    }
   ],
   "source": [
    "def pattern(n):\n",
    "    st_row = 1\n",
    "    while st_row<=n:\n",
    "        print(' *' * st_row)\n",
    "        st_row = st_row+1\n",
    "n = int(input(\"Enter the number of rows :\"))"
   ]
  },
  {
   "cell_type": "code",
   "execution_count": 3,
   "id": "481d0d5e",
   "metadata": {},
   "outputs": [
    {
     "name": "stdout",
     "output_type": "stream",
     "text": [
      " *\n",
      " * *\n",
      " * * *\n",
      " * * * *\n",
      " * * * * *\n"
     ]
    }
   ],
   "source": [
    "pattern(5)"
   ]
  },
  {
   "cell_type": "raw",
   "id": "45d8fc85",
   "metadata": {},
   "source": [
    "q2 : try to print below by using while loop :"
   ]
  },
  {
   "cell_type": "code",
   "execution_count": 6,
   "id": "e3afb4b7",
   "metadata": {},
   "outputs": [
    {
     "name": "stdout",
     "output_type": "stream",
     "text": [
      "enter the number of rows:4\n",
      "A \n",
      "B C \n",
      "D E F \n",
      "G H I J \n"
     ]
    }
   ],
   "source": [
    "n=int(input(\"enter the number of rows:\"))\n",
    "k=ord(\"A\")\n",
    "p=1\n",
    "\n",
    "while p<=n:\n",
    "    q=1\n",
    "    while q<=p:\n",
    "        print(chr(k),end=\" \")\n",
    "        k=k+1\n",
    "        q=q+1\n",
    "    print()\n",
    "    p=p+1"
   ]
  },
  {
   "cell_type": "raw",
   "id": "119216d9",
   "metadata": {},
   "source": [
    "q3 : Try to print all the number divisible by 3 in between a range of 40 - 400"
   ]
  },
  {
   "cell_type": "code",
   "execution_count": 7,
   "id": "98c68ce4",
   "metadata": {},
   "outputs": [],
   "source": [
    "a = 40\n",
    "b = 400"
   ]
  },
  {
   "cell_type": "code",
   "execution_count": 8,
   "id": "4e745c83",
   "metadata": {},
   "outputs": [
    {
     "name": "stdout",
     "output_type": "stream",
     "text": [
      "42 \n",
      "\n",
      "45 \n",
      "\n",
      "48 \n",
      "\n",
      "51 \n",
      "\n",
      "54 \n",
      "\n",
      "57 \n",
      "\n",
      "60 \n",
      "\n",
      "63 \n",
      "\n",
      "66 \n",
      "\n",
      "69 \n",
      "\n",
      "72 \n",
      "\n",
      "75 \n",
      "\n",
      "78 \n",
      "\n",
      "81 \n",
      "\n",
      "84 \n",
      "\n",
      "87 \n",
      "\n",
      "90 \n",
      "\n",
      "93 \n",
      "\n",
      "96 \n",
      "\n",
      "99 \n",
      "\n",
      "102 \n",
      "\n",
      "105 \n",
      "\n",
      "108 \n",
      "\n",
      "111 \n",
      "\n",
      "114 \n",
      "\n",
      "117 \n",
      "\n",
      "120 \n",
      "\n",
      "123 \n",
      "\n",
      "126 \n",
      "\n",
      "129 \n",
      "\n",
      "132 \n",
      "\n",
      "135 \n",
      "\n",
      "138 \n",
      "\n",
      "141 \n",
      "\n",
      "144 \n",
      "\n",
      "147 \n",
      "\n",
      "150 \n",
      "\n",
      "153 \n",
      "\n",
      "156 \n",
      "\n",
      "159 \n",
      "\n",
      "162 \n",
      "\n",
      "165 \n",
      "\n",
      "168 \n",
      "\n",
      "171 \n",
      "\n",
      "174 \n",
      "\n",
      "177 \n",
      "\n",
      "180 \n",
      "\n",
      "183 \n",
      "\n",
      "186 \n",
      "\n",
      "189 \n",
      "\n",
      "192 \n",
      "\n",
      "195 \n",
      "\n",
      "198 \n",
      "\n",
      "201 \n",
      "\n",
      "204 \n",
      "\n",
      "207 \n",
      "\n",
      "210 \n",
      "\n",
      "213 \n",
      "\n",
      "216 \n",
      "\n",
      "219 \n",
      "\n",
      "222 \n",
      "\n",
      "225 \n",
      "\n",
      "228 \n",
      "\n",
      "231 \n",
      "\n",
      "234 \n",
      "\n",
      "237 \n",
      "\n",
      "240 \n",
      "\n",
      "243 \n",
      "\n",
      "246 \n",
      "\n",
      "249 \n",
      "\n",
      "252 \n",
      "\n",
      "255 \n",
      "\n",
      "258 \n",
      "\n",
      "261 \n",
      "\n",
      "264 \n",
      "\n",
      "267 \n",
      "\n",
      "270 \n",
      "\n",
      "273 \n",
      "\n",
      "276 \n",
      "\n",
      "279 \n",
      "\n",
      "282 \n",
      "\n",
      "285 \n",
      "\n",
      "288 \n",
      "\n",
      "291 \n",
      "\n",
      "294 \n",
      "\n",
      "297 \n",
      "\n",
      "300 \n",
      "\n",
      "303 \n",
      "\n",
      "306 \n",
      "\n",
      "309 \n",
      "\n",
      "312 \n",
      "\n",
      "315 \n",
      "\n",
      "318 \n",
      "\n",
      "321 \n",
      "\n",
      "324 \n",
      "\n",
      "327 \n",
      "\n",
      "330 \n",
      "\n",
      "333 \n",
      "\n",
      "336 \n",
      "\n",
      "339 \n",
      "\n",
      "342 \n",
      "\n",
      "345 \n",
      "\n",
      "348 \n",
      "\n",
      "351 \n",
      "\n",
      "354 \n",
      "\n",
      "357 \n",
      "\n",
      "360 \n",
      "\n",
      "363 \n",
      "\n",
      "366 \n",
      "\n",
      "369 \n",
      "\n",
      "372 \n",
      "\n",
      "375 \n",
      "\n",
      "378 \n",
      "\n",
      "381 \n",
      "\n",
      "384 \n",
      "\n",
      "387 \n",
      "\n",
      "390 \n",
      "\n",
      "393 \n",
      "\n",
      "396 \n",
      "\n",
      "399 \n",
      "\n"
     ]
    }
   ],
   "source": [
    "while a <= b:\n",
    "    if a % 3 == 0:\n",
    "        print(a,'\\n')\n",
    "    a = a+1    "
   ]
  },
  {
   "cell_type": "raw",
   "id": "2aa029f5",
   "metadata": {},
   "source": [
    "q4. Try to filter out all the vowels form below text by using while loop : \n",
    " \"\"\"Python is a high-level, interpreted, general-purpose programming language. Its design philosophy emphasizes code readability with the use of significant indentation.[32]\n",
    "\n",
    "Python is dynamically-typed and garbage-collected. It supports multiple programming paradigms, including structured (particularly procedural), object-oriented and functional programming. It is often described as a \"batteries included\" language due to its comprehensive standard library.[33][34]\n",
    "\n",
    "Guido van Rossum began working on Python in the late 1980s as a successor to the ABC programming language and first released it in 1991 as Python 0.9.0.[35] Python 2.0 was released in 2000 and introduced new features such as list comprehensions, cycle-detecting garbage collection, reference counting, and Unicode support. Python 3.0, released in 2008, was a major revision that is not completely backward-compatible with earlier versions. Python 2 was discontinued with version 2.7.18 in 2020.[36]\n",
    "\n",
    "Python consistently ranks as one of the most popular programming languagesc\"\"\""
   ]
  },
  {
   "cell_type": "raw",
   "id": "6bfc4a94",
   "metadata": {},
   "source": [
    "q5 : Try to generate all the even number between 1- 1000"
   ]
  },
  {
   "cell_type": "code",
   "execution_count": 28,
   "id": "424ffe30",
   "metadata": {},
   "outputs": [
    {
     "name": "stdout",
     "output_type": "stream",
     "text": [
      "2 4 6 8 10 12 14 16 18 20 22 24 26 28 30 32 34 36 38 40 42 44 46 48 50 52 54 56 58 60 62 64 66 68 70 72 74 76 78 80 82 84 86 88 90 92 94 96 98 100 102 104 106 108 110 112 114 116 118 120 122 124 126 128 130 132 134 136 138 140 142 144 146 148 150 152 154 156 158 160 162 164 166 168 170 172 174 176 178 180 182 184 186 188 190 192 194 196 198 200 202 204 206 208 210 212 214 216 218 220 222 224 226 228 230 232 234 236 238 240 242 244 246 248 250 252 254 256 258 260 262 264 266 268 270 272 274 276 278 280 282 284 286 288 290 292 294 296 298 300 302 304 306 308 310 312 314 316 318 320 322 324 326 328 330 332 334 336 338 340 342 344 346 348 350 352 354 356 358 360 362 364 366 368 370 372 374 376 378 380 382 384 386 388 390 392 394 396 398 400 402 404 406 408 410 412 414 416 418 420 422 424 426 428 430 432 434 436 438 440 442 444 446 448 450 452 454 456 458 460 462 464 466 468 470 472 474 476 478 480 482 484 486 488 490 492 494 496 498 500 502 504 506 508 510 512 514 516 518 520 522 524 526 528 530 532 534 536 538 540 542 544 546 548 550 552 554 556 558 560 562 564 566 568 570 572 574 576 578 580 582 584 586 588 590 592 594 596 598 600 602 604 606 608 610 612 614 616 618 620 622 624 626 628 630 632 634 636 638 640 642 644 646 648 650 652 654 656 658 660 662 664 666 668 670 672 674 676 678 680 682 684 686 688 690 692 694 696 698 700 702 704 706 708 710 712 714 716 718 720 722 724 726 728 730 732 734 736 738 740 742 744 746 748 750 752 754 756 758 760 762 764 766 768 770 772 774 776 778 780 782 784 786 788 790 792 794 796 798 800 802 804 806 808 810 812 814 816 818 820 822 824 826 828 830 832 834 836 838 840 842 844 846 848 850 852 854 856 858 860 862 864 866 868 870 872 874 876 878 880 882 884 886 888 890 892 894 896 898 900 902 904 906 908 910 912 914 916 918 920 922 924 926 928 930 932 934 936 938 940 942 944 946 948 950 952 954 956 958 960 962 964 966 968 970 972 974 976 978 980 982 984 986 988 990 992 994 996 998 1000 "
     ]
    }
   ],
   "source": [
    "s = 1\n",
    "e = 1000\n",
    "while s<=1000:\n",
    "    if s % 2 == 0:\n",
    "        print(s,end =' ')\n",
    "    s =s+1"
   ]
  },
  {
   "cell_type": "raw",
   "id": "8939bdb1",
   "metadata": {},
   "source": [
    "q6 : Define a function for all the above problem statememnt"
   ]
  },
  {
   "cell_type": "raw",
   "id": "d91a69c3",
   "metadata": {},
   "source": [
    "q7 : write a code to get a time of your system"
   ]
  },
  {
   "cell_type": "code",
   "execution_count": 13,
   "id": "d9dfd77f",
   "metadata": {},
   "outputs": [
    {
     "name": "stdout",
     "output_type": "stream",
     "text": [
      "Current Time = 16:47\n"
     ]
    }
   ],
   "source": [
    "from datetime import datetime\n",
    "\n",
    "now = datetime.now()\n",
    "\n",
    "current_time = now.strftime(\"%H:%M\")\n",
    "print(\"Current Time =\", current_time)"
   ]
  },
  {
   "cell_type": "raw",
   "id": "1616eba4",
   "metadata": {},
   "source": [
    "q8 : Write a code to fetch date form your system"
   ]
  },
  {
   "cell_type": "code",
   "execution_count": 14,
   "id": "0af17ffa",
   "metadata": {},
   "outputs": [
    {
     "name": "stdout",
     "output_type": "stream",
     "text": [
      "2022-06-02 16:48:57.011486\n"
     ]
    }
   ],
   "source": [
    "import datetime\n",
    "Current_Date = datetime.datetime.today()\n",
    "print (Current_Date)"
   ]
  },
  {
   "cell_type": "raw",
   "id": "ce55d6d0",
   "metadata": {},
   "source": [
    "q9 : Write a code to send a mail to your friend"
   ]
  },
  {
   "cell_type": "raw",
   "id": "109ba4fa",
   "metadata": {},
   "source": [
    "q10 : write a code to trigger alarm for you at scheduled time "
   ]
  },
  {
   "cell_type": "code",
   "execution_count": 2,
   "id": "f9a7ff55",
   "metadata": {},
   "outputs": [
    {
     "name": "stderr",
     "output_type": "stream",
     "text": [
      "ERROR: Could not find a version that satisfies the requirement smptlib (from versions: none)\n",
      "ERROR: No matching distribution found for smptlib\n",
      "WARNING: You are using pip version 22.0.4; however, version 22.1.2 is available.\n",
      "You should consider upgrading via the 'C:\\Users\\Rajesh\\pythonnew\\Scripts\\python.exe -m pip install --upgrade pip' command.\n"
     ]
    }
   ],
   "source": [
    "!pip install smptlib"
   ]
  },
  {
   "cell_type": "code",
   "execution_count": 17,
   "id": "3efa4cd5",
   "metadata": {},
   "outputs": [],
   "source": [
    "import smtplib"
   ]
  },
  {
   "cell_type": "code",
   "execution_count": 18,
   "id": "972c651f",
   "metadata": {},
   "outputs": [],
   "source": [
    "server = smtplib.SMTP('smtp.gmail.com', 587)"
   ]
  },
  {
   "cell_type": "code",
   "execution_count": 19,
   "id": "65f9cf14",
   "metadata": {},
   "outputs": [
    {
     "data": {
      "text/plain": [
       "(220, b'2.0.0 Ready to start TLS')"
      ]
     },
     "execution_count": 19,
     "metadata": {},
     "output_type": "execute_result"
    }
   ],
   "source": [
    "server.starttls()"
   ]
  },
  {
   "cell_type": "code",
   "execution_count": 20,
   "id": "1dfd3728",
   "metadata": {},
   "outputs": [
    {
     "data": {
      "text/plain": [
       "(235, b'2.7.0 Accepted')"
      ]
     },
     "execution_count": 20,
     "metadata": {},
     "output_type": "execute_result"
    }
   ],
   "source": [
    "server.login('sekarsrajesh7@gmail.com', 'qzgaskatyuqejgau')"
   ]
  },
  {
   "cell_type": "code",
   "execution_count": 23,
   "id": "4b731479",
   "metadata": {},
   "outputs": [
    {
     "data": {
      "text/plain": [
       "{}"
      ]
     },
     "execution_count": 23,
     "metadata": {},
     "output_type": "execute_result"
    }
   ],
   "source": [
    "server.sendmail('sekarsrajesh7@gmail.com', 'adhilakshmi1489@gmail.com', 'This is the message from python')"
   ]
  },
  {
   "cell_type": "code",
   "execution_count": 24,
   "id": "3fb22c3e",
   "metadata": {},
   "outputs": [
    {
     "name": "stdout",
     "output_type": "stream",
     "text": [
      "Mail sent\n"
     ]
    }
   ],
   "source": [
    "print('Mail sent')"
   ]
  },
  {
   "cell_type": "raw",
   "id": "35b654be",
   "metadata": {},
   "source": [
    "q10 : write a code to trigger alarm for you at scheduled time"
   ]
  },
  {
   "cell_type": "code",
   "execution_count": 1,
   "id": "c47fc5f4",
   "metadata": {},
   "outputs": [],
   "source": [
    "import datetime"
   ]
  },
  {
   "cell_type": "code",
   "execution_count": 2,
   "id": "7ae5a3c4",
   "metadata": {},
   "outputs": [
    {
     "name": "stdout",
     "output_type": "stream",
     "text": [
      "What hour do you want to wake up8\n"
     ]
    }
   ],
   "source": [
    "alarmhour = int(input(\"What hour do you want to wake up\"))"
   ]
  },
  {
   "cell_type": "code",
   "execution_count": 3,
   "id": "bcd279ee",
   "metadata": {},
   "outputs": [
    {
     "name": "stdout",
     "output_type": "stream",
     "text": [
      "What minute do you want to wake up57\n"
     ]
    }
   ],
   "source": [
    "alarmminute = int(input(\"What minute do you want to wake up\"))"
   ]
  },
  {
   "cell_type": "code",
   "execution_count": 4,
   "id": "f9612263",
   "metadata": {},
   "outputs": [
    {
     "name": "stdout",
     "output_type": "stream",
     "text": [
      "am or pmpm\n"
     ]
    }
   ],
   "source": [
    "ampm = str(input(\"am or pm\"))"
   ]
  },
  {
   "cell_type": "code",
   "execution_count": 5,
   "id": "19cd5cf1",
   "metadata": {},
   "outputs": [
    {
     "name": "stdout",
     "output_type": "stream",
     "text": [
      "wake up lazy\n",
      "exited\n"
     ]
    }
   ],
   "source": [
    "if(ampm == \"pm\"):\n",
    "    alarmhour = alarmhour + 12\n",
    "while(1 == 1):\n",
    "    if(alarmhour == datetime.datetime.now().hour and alarmminute == datetime.datetime.now().minute):\n",
    "        print(\"wake up lazy\")\n",
    "        break \n",
    "print(\"exited\")    \n",
    "    "
   ]
  },
  {
   "cell_type": "raw",
   "id": "211c72d3",
   "metadata": {},
   "source": [
    "q11 : write a code to check ip address of your system "
   ]
  },
  {
   "cell_type": "code",
   "execution_count": 7,
   "id": "eb5728f4",
   "metadata": {},
   "outputs": [
    {
     "name": "stdout",
     "output_type": "stream",
     "text": [
      "Your Computer Name is:DESKTOP-CMH7MS3\n",
      "Your Computer IP Address is:192.168.216.120\n"
     ]
    }
   ],
   "source": [
    "# Python Program to Get IP Address\n",
    "import socket   \n",
    "hostname = socket.gethostname()   \n",
    "IPAddr = socket.gethostbyname(hostname)   \n",
    "print(\"Your Computer Name is:\" + hostname)   \n",
    "print(\"Your Computer IP Address is:\" + IPAddr) "
   ]
  },
  {
   "cell_type": "raw",
   "id": "21a119af",
   "metadata": {},
   "source": [
    "q12 : Write a code to check a perticular installation in your system"
   ]
  },
  {
   "cell_type": "raw",
   "id": "46f1bcb9",
   "metadata": {},
   "source": [
    "q13 : Write a code to convert any text in to voice "
   ]
  },
  {
   "cell_type": "raw",
   "id": "51a381a2",
   "metadata": {},
   "source": [
    "q14 : you have to write a fun which will take string and return a len of \n",
    "it without using a inbuilt fun len"
   ]
  },
  {
   "cell_type": "raw",
   "id": "6a348d59",
   "metadata": {},
   "source": [
    "q15 :write a fun which will be able to print an index of all premitive element which you will pas"
   ]
  },
  {
   "cell_type": "raw",
   "id": "3b7f6225",
   "metadata": {},
   "source": [
    "q16 : Write a fun which will take input as a dict and give me out as a list of all the values \n",
    "even in case of 2 level nesting it should work"
   ]
  },
  {
   "cell_type": "raw",
   "id": "f333806e",
   "metadata": {},
   "source": [
    "q17 : write a function whihc will take multiple list as a input and give me concatnation of all the element as \n",
    "and output"
   ]
  },
  {
   "cell_type": "raw",
   "id": "63bf9501",
   "metadata": {},
   "source": [
    "q18 : Write a function which will whould return list of all the file name from a directory"
   ]
  },
  {
   "cell_type": "raw",
   "id": "0e134c5c",
   "metadata": {},
   "source": [
    "q19 : write a function whihc will be able to read a image file and show it to you"
   ]
  },
  {
   "cell_type": "raw",
   "id": "f9821a27",
   "metadata": {},
   "source": [
    "q20 : write a function by which you will be able to append two PDF files ."
   ]
  },
  {
   "cell_type": "raw",
   "id": "3fa229d5",
   "metadata": {},
   "source": [
    "q21 : write a function which can help you to filter only word file from a directory"
   ]
  },
  {
   "cell_type": "raw",
   "id": "be1a6452",
   "metadata": {},
   "source": [
    "q22 : write a function which can read video file and play for you "
   ]
  },
  {
   "cell_type": "raw",
   "id": "47bbed8a",
   "metadata": {},
   "source": [
    "q23 : write a function which will be able to shutdonw your system"
   ]
  },
  {
   "cell_type": "raw",
   "id": "94e71dc5",
   "metadata": {},
   "source": [
    "import os\n",
    "\n",
    "shutdown = input(\"Do you wish to shutdown your computer ? (yes / no): \")\n",
    "\n",
    "if shutdown == 'no':\n",
    "\texit()\n",
    "else:\n",
    "\tos.system(\"shutdown /s /t 1\")"
   ]
  },
  {
   "cell_type": "raw",
   "id": "52954b8f",
   "metadata": {},
   "source": [
    "Write a function which will whould return list of all the file name from a directory"
   ]
  },
  {
   "cell_type": "code",
   "execution_count": 6,
   "id": "bdfdf284",
   "metadata": {},
   "outputs": [
    {
     "ename": "OSError",
     "evalue": "[Errno 22] Invalid argument: '\\u202aD:\\\\Personal_Doc\\\\Allegis_INR009451__Dec2021.pdf'",
     "output_type": "error",
     "traceback": [
      "\u001b[1;31m---------------------------------------------------------------------------\u001b[0m",
      "\u001b[1;31mOSError\u001b[0m                                   Traceback (most recent call last)",
      "Input \u001b[1;32mIn [6]\u001b[0m, in \u001b[0;36m<cell line: 2>\u001b[1;34m()\u001b[0m\n\u001b[0;32m      1\u001b[0m \u001b[38;5;28;01mfrom\u001b[39;00m \u001b[38;5;21;01mPyPDF2\u001b[39;00m \u001b[38;5;28;01mimport\u001b[39;00m PdfFileReader, PdfFileMerger\n\u001b[1;32m----> 2\u001b[0m pdf_file1 \u001b[38;5;241m=\u001b[39m \u001b[43mPdfFileReader\u001b[49m\u001b[43m(\u001b[49m\u001b[38;5;124;43m\"\u001b[39;49m\u001b[38;5;124;43m‪D:\u001b[39;49m\u001b[38;5;130;43;01m\\\\\u001b[39;49;00m\u001b[38;5;124;43mPersonal_Doc\u001b[39;49m\u001b[38;5;130;43;01m\\\\\u001b[39;49;00m\u001b[38;5;124;43mAllegis_INR009451__Dec2021.pdf\u001b[39;49m\u001b[38;5;124;43m\"\u001b[39;49m\u001b[43m)\u001b[49m\n\u001b[0;32m      3\u001b[0m pdf_file2 \u001b[38;5;241m=\u001b[39m PdfFileReader(\u001b[38;5;124m\"\u001b[39m\u001b[38;5;124m‪E:\u001b[39m\u001b[38;5;130;01m\\\\\u001b[39;00m\u001b[38;5;124mAllegis_INR009451__Feb2022.pdf\u001b[39m\u001b[38;5;124m\"\u001b[39m)\n\u001b[0;32m      4\u001b[0m output \u001b[38;5;241m=\u001b[39m PdfFileMerger()\n",
      "File \u001b[1;32m~\\pythonnew\\lib\\site-packages\\PyPDF2\\_reader.py:1739\u001b[0m, in \u001b[0;36mPdfFileReader.__init__\u001b[1;34m(self, *args, **kwargs)\u001b[0m\n\u001b[0;32m   1737\u001b[0m \u001b[38;5;28;01mif\u001b[39;00m \u001b[38;5;124m\"\u001b[39m\u001b[38;5;124mstrict\u001b[39m\u001b[38;5;124m\"\u001b[39m \u001b[38;5;129;01mnot\u001b[39;00m \u001b[38;5;129;01min\u001b[39;00m kwargs \u001b[38;5;129;01mand\u001b[39;00m \u001b[38;5;28mlen\u001b[39m(args) \u001b[38;5;241m<\u001b[39m \u001b[38;5;241m2\u001b[39m:\n\u001b[0;32m   1738\u001b[0m     kwargs[\u001b[38;5;124m\"\u001b[39m\u001b[38;5;124mstrict\u001b[39m\u001b[38;5;124m\"\u001b[39m] \u001b[38;5;241m=\u001b[39m \u001b[38;5;28;01mTrue\u001b[39;00m  \u001b[38;5;66;03m# maintain the default\u001b[39;00m\n\u001b[1;32m-> 1739\u001b[0m \u001b[38;5;28msuper\u001b[39m()\u001b[38;5;241m.\u001b[39m\u001b[38;5;21m__init__\u001b[39m(\u001b[38;5;241m*\u001b[39margs, \u001b[38;5;241m*\u001b[39m\u001b[38;5;241m*\u001b[39mkwargs)\n",
      "File \u001b[1;32m~\\pythonnew\\lib\\site-packages\\PyPDF2\\_reader.py:251\u001b[0m, in \u001b[0;36mPdfReader.__init__\u001b[1;34m(self, stream, strict, password)\u001b[0m\n\u001b[0;32m    245\u001b[0m     warnings\u001b[38;5;241m.\u001b[39mwarn(\n\u001b[0;32m    246\u001b[0m         \u001b[38;5;124m\"\u001b[39m\u001b[38;5;124mPdfReader stream/file object is not in binary mode. \u001b[39m\u001b[38;5;124m\"\u001b[39m\n\u001b[0;32m    247\u001b[0m         \u001b[38;5;124m\"\u001b[39m\u001b[38;5;124mIt may not be read correctly.\u001b[39m\u001b[38;5;124m\"\u001b[39m,\n\u001b[0;32m    248\u001b[0m         PdfReadWarning,\n\u001b[0;32m    249\u001b[0m     )\n\u001b[0;32m    250\u001b[0m \u001b[38;5;28;01mif\u001b[39;00m \u001b[38;5;28misinstance\u001b[39m(stream, \u001b[38;5;28mstr\u001b[39m):\n\u001b[1;32m--> 251\u001b[0m     \u001b[38;5;28;01mwith\u001b[39;00m \u001b[38;5;28;43mopen\u001b[39;49m\u001b[43m(\u001b[49m\u001b[43mstream\u001b[49m\u001b[43m,\u001b[49m\u001b[43m \u001b[49m\u001b[38;5;124;43m\"\u001b[39;49m\u001b[38;5;124;43mrb\u001b[39;49m\u001b[38;5;124;43m\"\u001b[39;49m\u001b[43m)\u001b[49m \u001b[38;5;28;01mas\u001b[39;00m fh:\n\u001b[0;32m    252\u001b[0m         stream \u001b[38;5;241m=\u001b[39m BytesIO(b_(fh\u001b[38;5;241m.\u001b[39mread()))\n\u001b[0;32m    253\u001b[0m \u001b[38;5;28mself\u001b[39m\u001b[38;5;241m.\u001b[39mread(stream)\n",
      "\u001b[1;31mOSError\u001b[0m: [Errno 22] Invalid argument: '\\u202aD:\\\\Personal_Doc\\\\Allegis_INR009451__Dec2021.pdf'"
     ]
    }
   ],
   "source": [
    "from PyPDF2 import PdfFileReader, PdfFileMerger\n",
    "pdf_file1 = PdfFileReader(\"‪D:\\\\Personal_Doc\\\\Allegis_INR009451__Dec2021.pdf\")\n",
    "pdf_file2 = PdfFileReader(\"‪E:\\\\Allegis_INR009451__Feb2022.pdf\")\n",
    "output = PdfFileMerger()\n",
    "output.append(pdf_file1)\n",
    "output.append(pdf_file2)\n",
    "\n",
    "with open(\"merged.pdf\", \"wb\") as output_stream:\n",
    "    output.write(output_stream)"
   ]
  },
  {
   "cell_type": "code",
   "execution_count": 3,
   "id": "edaae4d5",
   "metadata": {},
   "outputs": [
    {
     "name": "stdout",
     "output_type": "stream",
     "text": [
      "Collecting PyPDF2\n",
      "  Downloading PyPDF2-2.0.0-py3-none-any.whl (88 kB)\n",
      "     ---------------------------------------- 88.5/88.5 KB 1.7 MB/s eta 0:00:00\n",
      "Requirement already satisfied: typing-extensions in c:\\users\\rajesh\\pythonnew\\lib\\site-packages (from PyPDF2) (4.1.1)\n",
      "Installing collected packages: PyPDF2\n",
      "Successfully installed PyPDF2-2.0.0\n"
     ]
    },
    {
     "name": "stderr",
     "output_type": "stream",
     "text": [
      "WARNING: You are using pip version 22.0.4; however, version 22.1.2 is available.\n",
      "You should consider upgrading via the 'C:\\Users\\Rajesh\\pythonnew\\Scripts\\python.exe -m pip install --upgrade pip' command.\n"
     ]
    }
   ],
   "source": [
    "!pip install PyPDF2"
   ]
  },
  {
   "cell_type": "code",
   "execution_count": null,
   "id": "1072995d",
   "metadata": {},
   "outputs": [],
   "source": []
  }
 ],
 "metadata": {
  "kernelspec": {
   "display_name": "Python 3 (ipykernel)",
   "language": "python",
   "name": "python3"
  },
  "language_info": {
   "codemirror_mode": {
    "name": "ipython",
    "version": 3
   },
   "file_extension": ".py",
   "mimetype": "text/x-python",
   "name": "python",
   "nbconvert_exporter": "python",
   "pygments_lexer": "ipython3",
   "version": "3.9.7"
  }
 },
 "nbformat": 4,
 "nbformat_minor": 5
}
