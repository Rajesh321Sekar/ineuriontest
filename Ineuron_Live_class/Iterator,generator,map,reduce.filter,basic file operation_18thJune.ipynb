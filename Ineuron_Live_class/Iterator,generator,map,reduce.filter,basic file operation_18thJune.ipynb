{
 "cells": [
  {
   "cell_type": "markdown",
   "id": "e096fe65",
   "metadata": {},
   "source": [
    "# Iterable, Iterator Explanation"
   ]
  },
  {
   "cell_type": "code",
   "execution_count": 1,
   "id": "98722b4a",
   "metadata": {},
   "outputs": [
    {
     "ename": "NameError",
     "evalue": "name 'l' is not defined",
     "output_type": "error",
     "traceback": [
      "\u001b[1;31m---------------------------------------------------------------------------\u001b[0m",
      "\u001b[1;31mNameError\u001b[0m                                 Traceback (most recent call last)",
      "Input \u001b[1;32mIn [1]\u001b[0m, in \u001b[0;36m<cell line: 1>\u001b[1;34m()\u001b[0m\n\u001b[1;32m----> 1\u001b[0m \u001b[38;5;28;01mfor\u001b[39;00m i \u001b[38;5;129;01min\u001b[39;00m \u001b[43ml\u001b[49m:\n\u001b[0;32m      2\u001b[0m     \u001b[38;5;28mprint\u001b[39m(i)\n",
      "\u001b[1;31mNameError\u001b[0m: name 'l' is not defined"
     ]
    }
   ],
   "source": [
    "for i in l:\n",
    "    print(i)"
   ]
  },
  {
   "cell_type": "code",
   "execution_count": 2,
   "id": "bae38c2a",
   "metadata": {},
   "outputs": [],
   "source": [
    "l = [1,3,4,5,5]"
   ]
  },
  {
   "cell_type": "code",
   "execution_count": 3,
   "id": "22e577d8",
   "metadata": {},
   "outputs": [
    {
     "ename": "TypeError",
     "evalue": "'list' object is not an iterator",
     "output_type": "error",
     "traceback": [
      "\u001b[1;31m---------------------------------------------------------------------------\u001b[0m",
      "\u001b[1;31mTypeError\u001b[0m                                 Traceback (most recent call last)",
      "Input \u001b[1;32mIn [3]\u001b[0m, in \u001b[0;36m<cell line: 1>\u001b[1;34m()\u001b[0m\n\u001b[1;32m----> 1\u001b[0m \u001b[38;5;28;43mnext\u001b[39;49m\u001b[43m(\u001b[49m\u001b[43ml\u001b[49m\u001b[43m)\u001b[49m\n",
      "\u001b[1;31mTypeError\u001b[0m: 'list' object is not an iterator"
     ]
    }
   ],
   "source": [
    "next(l) #inbuild function"
   ]
  },
  {
   "cell_type": "code",
   "execution_count": 4,
   "id": "eaa3a1ed",
   "metadata": {},
   "outputs": [],
   "source": [
    "b = iter(l)"
   ]
  },
  {
   "cell_type": "code",
   "execution_count": 5,
   "id": "08e86548",
   "metadata": {},
   "outputs": [
    {
     "data": {
      "text/plain": [
       "1"
      ]
     },
     "execution_count": 5,
     "metadata": {},
     "output_type": "execute_result"
    }
   ],
   "source": [
    "next(b)"
   ]
  },
  {
   "cell_type": "code",
   "execution_count": 6,
   "id": "5d098dec",
   "metadata": {},
   "outputs": [
    {
     "data": {
      "text/plain": [
       "3"
      ]
     },
     "execution_count": 6,
     "metadata": {},
     "output_type": "execute_result"
    }
   ],
   "source": [
    "next(b)"
   ]
  },
  {
   "cell_type": "code",
   "execution_count": 7,
   "id": "7e3ebcda",
   "metadata": {},
   "outputs": [
    {
     "data": {
      "text/plain": [
       "4"
      ]
     },
     "execution_count": 7,
     "metadata": {},
     "output_type": "execute_result"
    }
   ],
   "source": [
    "next(b)"
   ]
  },
  {
   "cell_type": "code",
   "execution_count": 8,
   "id": "92f58f50",
   "metadata": {},
   "outputs": [
    {
     "data": {
      "text/plain": [
       "5"
      ]
     },
     "execution_count": 8,
     "metadata": {},
     "output_type": "execute_result"
    }
   ],
   "source": [
    "next(b)"
   ]
  },
  {
   "cell_type": "code",
   "execution_count": 9,
   "id": "0764327a",
   "metadata": {},
   "outputs": [
    {
     "data": {
      "text/plain": [
       "5"
      ]
     },
     "execution_count": 9,
     "metadata": {},
     "output_type": "execute_result"
    }
   ],
   "source": [
    "next(b)"
   ]
  },
  {
   "cell_type": "code",
   "execution_count": 10,
   "id": "b2871c91",
   "metadata": {},
   "outputs": [
    {
     "ename": "StopIteration",
     "evalue": "",
     "output_type": "error",
     "traceback": [
      "\u001b[1;31m---------------------------------------------------------------------------\u001b[0m",
      "\u001b[1;31mStopIteration\u001b[0m                             Traceback (most recent call last)",
      "Input \u001b[1;32mIn [10]\u001b[0m, in \u001b[0;36m<cell line: 1>\u001b[1;34m()\u001b[0m\n\u001b[1;32m----> 1\u001b[0m \u001b[38;5;28;43mnext\u001b[39;49m\u001b[43m(\u001b[49m\u001b[43mb\u001b[49m\u001b[43m)\u001b[49m\n",
      "\u001b[1;31mStopIteration\u001b[0m: "
     ]
    }
   ],
   "source": [
    "next(b)"
   ]
  },
  {
   "cell_type": "code",
   "execution_count": 11,
   "id": "aa254126",
   "metadata": {},
   "outputs": [
    {
     "ename": "StopIteration",
     "evalue": "",
     "output_type": "error",
     "traceback": [
      "\u001b[1;31m---------------------------------------------------------------------------\u001b[0m",
      "\u001b[1;31mStopIteration\u001b[0m                             Traceback (most recent call last)",
      "Input \u001b[1;32mIn [11]\u001b[0m, in \u001b[0;36m<cell line: 1>\u001b[1;34m()\u001b[0m\n\u001b[1;32m----> 1\u001b[0m \u001b[38;5;28;43mnext\u001b[39;49m\u001b[43m(\u001b[49m\u001b[43mb\u001b[49m\u001b[43m)\u001b[49m\n",
      "\u001b[1;31mStopIteration\u001b[0m: "
     ]
    }
   ],
   "source": [
    "next(b)"
   ]
  },
  {
   "cell_type": "code",
   "execution_count": 12,
   "id": "2aa02855",
   "metadata": {},
   "outputs": [
    {
     "ename": "TypeError",
     "evalue": "'int' object is not an iterator",
     "output_type": "error",
     "traceback": [
      "\u001b[1;31m---------------------------------------------------------------------------\u001b[0m",
      "\u001b[1;31mTypeError\u001b[0m                                 Traceback (most recent call last)",
      "Input \u001b[1;32mIn [12]\u001b[0m, in \u001b[0;36m<cell line: 1>\u001b[1;34m()\u001b[0m\n\u001b[1;32m----> 1\u001b[0m \u001b[38;5;28;43mnext\u001b[39;49m\u001b[43m(\u001b[49m\u001b[38;5;241;43m45\u001b[39;49m\u001b[43m)\u001b[49m\n",
      "\u001b[1;31mTypeError\u001b[0m: 'int' object is not an iterator"
     ]
    }
   ],
   "source": [
    "next(45)"
   ]
  },
  {
   "cell_type": "code",
   "execution_count": 13,
   "id": "c270c30f",
   "metadata": {},
   "outputs": [
    {
     "ename": "TypeError",
     "evalue": "'int' object is not iterable",
     "output_type": "error",
     "traceback": [
      "\u001b[1;31m---------------------------------------------------------------------------\u001b[0m",
      "\u001b[1;31mTypeError\u001b[0m                                 Traceback (most recent call last)",
      "Input \u001b[1;32mIn [13]\u001b[0m, in \u001b[0;36m<cell line: 1>\u001b[1;34m()\u001b[0m\n\u001b[1;32m----> 1\u001b[0m \u001b[38;5;28;43miter\u001b[39;49m\u001b[43m(\u001b[49m\u001b[38;5;241;43m45\u001b[39;49m\u001b[43m)\u001b[49m\n",
      "\u001b[1;31mTypeError\u001b[0m: 'int' object is not iterable"
     ]
    }
   ],
   "source": [
    "iter(45)"
   ]
  },
  {
   "cell_type": "code",
   "execution_count": 14,
   "id": "2ec863d6",
   "metadata": {},
   "outputs": [
    {
     "ename": "TypeError",
     "evalue": "'int' object is not iterable",
     "output_type": "error",
     "traceback": [
      "\u001b[1;31m---------------------------------------------------------------------------\u001b[0m",
      "\u001b[1;31mTypeError\u001b[0m                                 Traceback (most recent call last)",
      "Input \u001b[1;32mIn [14]\u001b[0m, in \u001b[0;36m<cell line: 1>\u001b[1;34m()\u001b[0m\n\u001b[1;32m----> 1\u001b[0m \u001b[38;5;28;01mfor\u001b[39;00m i \u001b[38;5;129;01min\u001b[39;00m \u001b[38;5;241m45456\u001b[39m:\n\u001b[0;32m      2\u001b[0m     \u001b[38;5;28mprint\u001b[39m(i)\n",
      "\u001b[1;31mTypeError\u001b[0m: 'int' object is not iterable"
     ]
    }
   ],
   "source": [
    "for i in 45456:\n",
    "    print(i)"
   ]
  },
  {
   "cell_type": "code",
   "execution_count": 15,
   "id": "dfe91009",
   "metadata": {},
   "outputs": [
    {
     "data": {
      "text/plain": [
       "[1, 3, 4, 5, 5]"
      ]
     },
     "execution_count": 15,
     "metadata": {},
     "output_type": "execute_result"
    }
   ],
   "source": [
    "l"
   ]
  },
  {
   "cell_type": "code",
   "execution_count": 16,
   "id": "ca046898",
   "metadata": {},
   "outputs": [
    {
     "name": "stdout",
     "output_type": "stream",
     "text": [
      "1\n",
      "3\n",
      "4\n",
      "5\n",
      "5\n"
     ]
    }
   ],
   "source": [
    "for i in l:\n",
    "    print(i)"
   ]
  },
  {
   "cell_type": "code",
   "execution_count": 17,
   "id": "3bac1b94",
   "metadata": {},
   "outputs": [],
   "source": [
    "s = \"sudh\""
   ]
  },
  {
   "cell_type": "code",
   "execution_count": 18,
   "id": "bbc3c8e8",
   "metadata": {},
   "outputs": [
    {
     "ename": "TypeError",
     "evalue": "'str' object is not an iterator",
     "output_type": "error",
     "traceback": [
      "\u001b[1;31m---------------------------------------------------------------------------\u001b[0m",
      "\u001b[1;31mTypeError\u001b[0m                                 Traceback (most recent call last)",
      "Input \u001b[1;32mIn [18]\u001b[0m, in \u001b[0;36m<cell line: 1>\u001b[1;34m()\u001b[0m\n\u001b[1;32m----> 1\u001b[0m \u001b[38;5;28;43mnext\u001b[39;49m\u001b[43m(\u001b[49m\u001b[43ms\u001b[49m\u001b[43m)\u001b[49m\n",
      "\u001b[1;31mTypeError\u001b[0m: 'str' object is not an iterator"
     ]
    }
   ],
   "source": [
    "next(s)"
   ]
  },
  {
   "cell_type": "code",
   "execution_count": 19,
   "id": "7d26b42d",
   "metadata": {},
   "outputs": [],
   "source": [
    "s = iter(s)"
   ]
  },
  {
   "cell_type": "code",
   "execution_count": 20,
   "id": "f64f6e1b",
   "metadata": {},
   "outputs": [
    {
     "data": {
      "text/plain": [
       "'s'"
      ]
     },
     "execution_count": 20,
     "metadata": {},
     "output_type": "execute_result"
    }
   ],
   "source": [
    "next(s)"
   ]
  },
  {
   "cell_type": "code",
   "execution_count": 21,
   "id": "783b59d8",
   "metadata": {},
   "outputs": [
    {
     "data": {
      "text/plain": [
       "'u'"
      ]
     },
     "execution_count": 21,
     "metadata": {},
     "output_type": "execute_result"
    }
   ],
   "source": [
    "next(s)"
   ]
  },
  {
   "cell_type": "code",
   "execution_count": 22,
   "id": "defbb227",
   "metadata": {},
   "outputs": [
    {
     "data": {
      "text/plain": [
       "'d'"
      ]
     },
     "execution_count": 22,
     "metadata": {},
     "output_type": "execute_result"
    }
   ],
   "source": [
    "next(s)"
   ]
  },
  {
   "cell_type": "code",
   "execution_count": 23,
   "id": "5b0edbd2",
   "metadata": {},
   "outputs": [
    {
     "data": {
      "text/plain": [
       "'h'"
      ]
     },
     "execution_count": 23,
     "metadata": {},
     "output_type": "execute_result"
    }
   ],
   "source": [
    "next(s)"
   ]
  },
  {
   "cell_type": "code",
   "execution_count": 24,
   "id": "0b8d87dd",
   "metadata": {},
   "outputs": [
    {
     "ename": "StopIteration",
     "evalue": "",
     "output_type": "error",
     "traceback": [
      "\u001b[1;31m---------------------------------------------------------------------------\u001b[0m",
      "\u001b[1;31mStopIteration\u001b[0m                             Traceback (most recent call last)",
      "Input \u001b[1;32mIn [24]\u001b[0m, in \u001b[0;36m<cell line: 1>\u001b[1;34m()\u001b[0m\n\u001b[1;32m----> 1\u001b[0m \u001b[38;5;28;43mnext\u001b[39;49m\u001b[43m(\u001b[49m\u001b[43ms\u001b[49m\u001b[43m)\u001b[49m\n",
      "\u001b[1;31mStopIteration\u001b[0m: "
     ]
    }
   ],
   "source": [
    "next(s)"
   ]
  },
  {
   "cell_type": "code",
   "execution_count": 25,
   "id": "97310e35",
   "metadata": {},
   "outputs": [
    {
     "name": "stdout",
     "output_type": "stream",
     "text": [
      "s\n",
      "u\n",
      "d\n",
      "h\n"
     ]
    }
   ],
   "source": [
    "s = \"sudh\"\n",
    "for i in s:\n",
    "    print(i)"
   ]
  },
  {
   "cell_type": "code",
   "execution_count": 26,
   "id": "2b99222b",
   "metadata": {},
   "outputs": [],
   "source": [
    "t = (5,6,7,8,8)"
   ]
  },
  {
   "cell_type": "code",
   "execution_count": 27,
   "id": "cab6646a",
   "metadata": {},
   "outputs": [
    {
     "ename": "TypeError",
     "evalue": "'tuple' object is not an iterator",
     "output_type": "error",
     "traceback": [
      "\u001b[1;31m---------------------------------------------------------------------------\u001b[0m",
      "\u001b[1;31mTypeError\u001b[0m                                 Traceback (most recent call last)",
      "Input \u001b[1;32mIn [27]\u001b[0m, in \u001b[0;36m<cell line: 1>\u001b[1;34m()\u001b[0m\n\u001b[1;32m----> 1\u001b[0m \u001b[38;5;28;43mnext\u001b[39;49m\u001b[43m(\u001b[49m\u001b[43mt\u001b[49m\u001b[43m)\u001b[49m\n",
      "\u001b[1;31mTypeError\u001b[0m: 'tuple' object is not an iterator"
     ]
    }
   ],
   "source": [
    "next(t)"
   ]
  },
  {
   "cell_type": "code",
   "execution_count": 28,
   "id": "c8be1422",
   "metadata": {},
   "outputs": [],
   "source": [
    "t = iter(t)"
   ]
  },
  {
   "cell_type": "code",
   "execution_count": 29,
   "id": "9146ee30",
   "metadata": {},
   "outputs": [
    {
     "data": {
      "text/plain": [
       "5"
      ]
     },
     "execution_count": 29,
     "metadata": {},
     "output_type": "execute_result"
    }
   ],
   "source": [
    "next(t)"
   ]
  },
  {
   "cell_type": "code",
   "execution_count": 30,
   "id": "22ee4387",
   "metadata": {},
   "outputs": [
    {
     "data": {
      "text/plain": [
       "6"
      ]
     },
     "execution_count": 30,
     "metadata": {},
     "output_type": "execute_result"
    }
   ],
   "source": [
    "next(t)"
   ]
  },
  {
   "cell_type": "code",
   "execution_count": 31,
   "id": "208a34ca",
   "metadata": {},
   "outputs": [
    {
     "data": {
      "text/plain": [
       "7"
      ]
     },
     "execution_count": 31,
     "metadata": {},
     "output_type": "execute_result"
    }
   ],
   "source": [
    "next(t)"
   ]
  },
  {
   "cell_type": "code",
   "execution_count": 32,
   "id": "99963f28",
   "metadata": {},
   "outputs": [
    {
     "data": {
      "text/plain": [
       "8"
      ]
     },
     "execution_count": 32,
     "metadata": {},
     "output_type": "execute_result"
    }
   ],
   "source": [
    "next(t)"
   ]
  },
  {
   "cell_type": "code",
   "execution_count": 33,
   "id": "a7890fed",
   "metadata": {},
   "outputs": [
    {
     "data": {
      "text/plain": [
       "8"
      ]
     },
     "execution_count": 33,
     "metadata": {},
     "output_type": "execute_result"
    }
   ],
   "source": [
    "next(t)"
   ]
  },
  {
   "cell_type": "code",
   "execution_count": 34,
   "id": "55c84791",
   "metadata": {},
   "outputs": [
    {
     "ename": "StopIteration",
     "evalue": "",
     "output_type": "error",
     "traceback": [
      "\u001b[1;31m---------------------------------------------------------------------------\u001b[0m",
      "\u001b[1;31mStopIteration\u001b[0m                             Traceback (most recent call last)",
      "Input \u001b[1;32mIn [34]\u001b[0m, in \u001b[0;36m<cell line: 1>\u001b[1;34m()\u001b[0m\n\u001b[1;32m----> 1\u001b[0m \u001b[38;5;28;43mnext\u001b[39;49m\u001b[43m(\u001b[49m\u001b[43mt\u001b[49m\u001b[43m)\u001b[49m\n",
      "\u001b[1;31mStopIteration\u001b[0m: "
     ]
    }
   ],
   "source": [
    "next(t)"
   ]
  },
  {
   "cell_type": "markdown",
   "id": "61c64a76",
   "metadata": {},
   "source": [
    "# Generator Function\n",
    "Yield -keyword for generating dataset later wheneve we require extract"
   ]
  },
  {
   "cell_type": "code",
   "execution_count": 35,
   "id": "a378e713",
   "metadata": {},
   "outputs": [
    {
     "data": {
      "text/plain": [
       "[1, 2, 3, 4, 5, 6, 7, 8, 9]"
      ]
     },
     "execution_count": 35,
     "metadata": {},
     "output_type": "execute_result"
    }
   ],
   "source": [
    "list(range(1,10))"
   ]
  },
  {
   "cell_type": "code",
   "execution_count": 36,
   "id": "545814e2",
   "metadata": {},
   "outputs": [],
   "source": [
    "def square_fun(n):\n",
    "    x = [i*i for i in range(n)] #list comprehension\n",
    "    return x"
   ]
  },
  {
   "cell_type": "code",
   "execution_count": 37,
   "id": "f404325a",
   "metadata": {},
   "outputs": [
    {
     "data": {
      "text/plain": [
       "[0, 1, 4, 9]"
      ]
     },
     "execution_count": 37,
     "metadata": {},
     "output_type": "execute_result"
    }
   ],
   "source": [
    "square_fun(4)"
   ]
  },
  {
   "cell_type": "code",
   "execution_count": 38,
   "id": "cffbb3a3",
   "metadata": {},
   "outputs": [
    {
     "data": {
      "text/plain": [
       "[0, 1, 2, 3]"
      ]
     },
     "execution_count": 38,
     "metadata": {},
     "output_type": "execute_result"
    }
   ],
   "source": [
    "list(range(4))"
   ]
  },
  {
   "cell_type": "code",
   "execution_count": 39,
   "id": "723fce2e",
   "metadata": {},
   "outputs": [],
   "source": [
    "def square_fun1(n):\n",
    "    x = [i*i for i in range(n)] #list comprehension\n",
    "    yield x"
   ]
  },
  {
   "cell_type": "code",
   "execution_count": 40,
   "id": "fc655c1f",
   "metadata": {},
   "outputs": [
    {
     "data": {
      "text/plain": [
       "<generator object square_fun1 at 0x0000026A2742E740>"
      ]
     },
     "execution_count": 40,
     "metadata": {},
     "output_type": "execute_result"
    }
   ],
   "source": [
    "square_fun1(4)"
   ]
  },
  {
   "cell_type": "code",
   "execution_count": 41,
   "id": "42b6bfd3",
   "metadata": {},
   "outputs": [
    {
     "data": {
      "text/plain": [
       "range(0, 5)"
      ]
     },
     "execution_count": 41,
     "metadata": {},
     "output_type": "execute_result"
    }
   ],
   "source": [
    "range(5)"
   ]
  },
  {
   "cell_type": "code",
   "execution_count": 42,
   "id": "2870256e",
   "metadata": {},
   "outputs": [
    {
     "name": "stdout",
     "output_type": "stream",
     "text": [
      "[0, 1, 4, 9]\n"
     ]
    }
   ],
   "source": [
    "for i in square_fun1(4):\n",
    "    print(i)"
   ]
  },
  {
   "cell_type": "code",
   "execution_count": 43,
   "id": "2e4533d0",
   "metadata": {},
   "outputs": [
    {
     "name": "stdout",
     "output_type": "stream",
     "text": [
      "0\n",
      "1\n",
      "2\n",
      "3\n"
     ]
    }
   ],
   "source": [
    "for i in range(4):\n",
    "    print(i)"
   ]
  },
  {
   "cell_type": "code",
   "execution_count": 44,
   "id": "d08ed9e4",
   "metadata": {},
   "outputs": [
    {
     "ename": "TypeError",
     "evalue": "square_fun1() missing 1 required positional argument: 'n'",
     "output_type": "error",
     "traceback": [
      "\u001b[1;31m---------------------------------------------------------------------------\u001b[0m",
      "\u001b[1;31mTypeError\u001b[0m                                 Traceback (most recent call last)",
      "Input \u001b[1;32mIn [44]\u001b[0m, in \u001b[0;36m<cell line: 1>\u001b[1;34m()\u001b[0m\n\u001b[1;32m----> 1\u001b[0m \u001b[38;5;28mnext\u001b[39m(\u001b[43msquare_fun1\u001b[49m\u001b[43m(\u001b[49m\u001b[43m)\u001b[49m)\n",
      "\u001b[1;31mTypeError\u001b[0m: square_fun1() missing 1 required positional argument: 'n'"
     ]
    }
   ],
   "source": [
    "next(square_fun1())"
   ]
  },
  {
   "cell_type": "code",
   "execution_count": 45,
   "id": "d5dc74c9",
   "metadata": {},
   "outputs": [],
   "source": [
    "r = iter(range(4))"
   ]
  },
  {
   "cell_type": "code",
   "execution_count": 46,
   "id": "4364242b",
   "metadata": {},
   "outputs": [
    {
     "data": {
      "text/plain": [
       "0"
      ]
     },
     "execution_count": 46,
     "metadata": {},
     "output_type": "execute_result"
    }
   ],
   "source": [
    "next(r)"
   ]
  },
  {
   "cell_type": "code",
   "execution_count": 47,
   "id": "20b4137c",
   "metadata": {},
   "outputs": [
    {
     "data": {
      "text/plain": [
       "1"
      ]
     },
     "execution_count": 47,
     "metadata": {},
     "output_type": "execute_result"
    }
   ],
   "source": [
    "next(r)"
   ]
  },
  {
   "cell_type": "code",
   "execution_count": 48,
   "id": "c1b7c375",
   "metadata": {},
   "outputs": [
    {
     "data": {
      "text/plain": [
       "2"
      ]
     },
     "execution_count": 48,
     "metadata": {},
     "output_type": "execute_result"
    }
   ],
   "source": [
    "next(r)"
   ]
  },
  {
   "cell_type": "code",
   "execution_count": 49,
   "id": "79b031b1",
   "metadata": {},
   "outputs": [
    {
     "data": {
      "text/plain": [
       "3"
      ]
     },
     "execution_count": 49,
     "metadata": {},
     "output_type": "execute_result"
    }
   ],
   "source": [
    "next(r)"
   ]
  },
  {
   "cell_type": "code",
   "execution_count": 50,
   "id": "0a500228",
   "metadata": {},
   "outputs": [
    {
     "ename": "StopIteration",
     "evalue": "",
     "output_type": "error",
     "traceback": [
      "\u001b[1;31m---------------------------------------------------------------------------\u001b[0m",
      "\u001b[1;31mStopIteration\u001b[0m                             Traceback (most recent call last)",
      "Input \u001b[1;32mIn [50]\u001b[0m, in \u001b[0;36m<cell line: 1>\u001b[1;34m()\u001b[0m\n\u001b[1;32m----> 1\u001b[0m \u001b[38;5;28;43mnext\u001b[39;49m\u001b[43m(\u001b[49m\u001b[43mr\u001b[49m\u001b[43m)\u001b[49m\n",
      "\u001b[1;31mStopIteration\u001b[0m: "
     ]
    }
   ],
   "source": [
    "next(r)"
   ]
  },
  {
   "cell_type": "markdown",
   "id": "a85a5a6f",
   "metadata": {},
   "source": [
    "# Fibanoci series"
   ]
  },
  {
   "cell_type": "code",
   "execution_count": 51,
   "id": "ee53725b",
   "metadata": {},
   "outputs": [],
   "source": [
    "def genfib(n):\n",
    "    a = 1\n",
    "    b = 1\n",
    "    l = []\n",
    "    for i in range(n):\n",
    "        l.append(a)\n",
    "        a,b = b, a+b\n",
    "    return l    "
   ]
  },
  {
   "cell_type": "code",
   "execution_count": 52,
   "id": "6a1fe6ac",
   "metadata": {},
   "outputs": [
    {
     "data": {
      "text/plain": [
       "[1, 1, 2, 3, 5, 8, 13, 21, 34, 55]"
      ]
     },
     "execution_count": 52,
     "metadata": {},
     "output_type": "execute_result"
    }
   ],
   "source": [
    "genfib(10)"
   ]
  },
  {
   "cell_type": "code",
   "execution_count": 53,
   "id": "5bc611da",
   "metadata": {},
   "outputs": [],
   "source": [
    "def genfib1(n):\n",
    "    a = 1\n",
    "    b = 1\n",
    "    for i in range(n):\n",
    "        yield a\n",
    "        a,b = b, a+b"
   ]
  },
  {
   "cell_type": "code",
   "execution_count": 54,
   "id": "3043d485",
   "metadata": {},
   "outputs": [
    {
     "data": {
      "text/plain": [
       "<generator object genfib1 at 0x0000026A27456510>"
      ]
     },
     "execution_count": 54,
     "metadata": {},
     "output_type": "execute_result"
    }
   ],
   "source": [
    "genfib1(10)"
   ]
  },
  {
   "cell_type": "code",
   "execution_count": 55,
   "id": "21aa5f22",
   "metadata": {},
   "outputs": [
    {
     "name": "stdout",
     "output_type": "stream",
     "text": [
      "1\n",
      "1\n",
      "2\n",
      "3\n",
      "5\n",
      "8\n",
      "13\n",
      "21\n",
      "34\n",
      "55\n"
     ]
    }
   ],
   "source": [
    "for i in genfib1(10):\n",
    "    print(i)"
   ]
  },
  {
   "cell_type": "markdown",
   "id": "a7f28842",
   "metadata": {},
   "source": [
    "# File Handling"
   ]
  },
  {
   "cell_type": "code",
   "execution_count": 56,
   "id": "93d5b35b",
   "metadata": {},
   "outputs": [],
   "source": [
    "#File operation"
   ]
  },
  {
   "cell_type": "code",
   "execution_count": 57,
   "id": "8fb1147e",
   "metadata": {},
   "outputs": [],
   "source": [
    "f = open(\"rajesh.txt\", 'w')"
   ]
  },
  {
   "cell_type": "code",
   "execution_count": 58,
   "id": "5f6cad41",
   "metadata": {},
   "outputs": [
    {
     "data": {
      "text/plain": [
       "['In',\n",
       " 'Out',\n",
       " '_',\n",
       " '_15',\n",
       " '_20',\n",
       " '_21',\n",
       " '_22',\n",
       " '_23',\n",
       " '_29',\n",
       " '_30',\n",
       " '_31',\n",
       " '_32',\n",
       " '_33',\n",
       " '_35',\n",
       " '_37',\n",
       " '_38',\n",
       " '_40',\n",
       " '_41',\n",
       " '_46',\n",
       " '_47',\n",
       " '_48',\n",
       " '_49',\n",
       " '_5',\n",
       " '_52',\n",
       " '_54',\n",
       " '_6',\n",
       " '_7',\n",
       " '_8',\n",
       " '_9',\n",
       " '__',\n",
       " '___',\n",
       " '__builtin__',\n",
       " '__builtins__',\n",
       " '__doc__',\n",
       " '__loader__',\n",
       " '__name__',\n",
       " '__package__',\n",
       " '__spec__',\n",
       " '_dh',\n",
       " '_i',\n",
       " '_i1',\n",
       " '_i10',\n",
       " '_i11',\n",
       " '_i12',\n",
       " '_i13',\n",
       " '_i14',\n",
       " '_i15',\n",
       " '_i16',\n",
       " '_i17',\n",
       " '_i18',\n",
       " '_i19',\n",
       " '_i2',\n",
       " '_i20',\n",
       " '_i21',\n",
       " '_i22',\n",
       " '_i23',\n",
       " '_i24',\n",
       " '_i25',\n",
       " '_i26',\n",
       " '_i27',\n",
       " '_i28',\n",
       " '_i29',\n",
       " '_i3',\n",
       " '_i30',\n",
       " '_i31',\n",
       " '_i32',\n",
       " '_i33',\n",
       " '_i34',\n",
       " '_i35',\n",
       " '_i36',\n",
       " '_i37',\n",
       " '_i38',\n",
       " '_i39',\n",
       " '_i4',\n",
       " '_i40',\n",
       " '_i41',\n",
       " '_i42',\n",
       " '_i43',\n",
       " '_i44',\n",
       " '_i45',\n",
       " '_i46',\n",
       " '_i47',\n",
       " '_i48',\n",
       " '_i49',\n",
       " '_i5',\n",
       " '_i50',\n",
       " '_i51',\n",
       " '_i52',\n",
       " '_i53',\n",
       " '_i54',\n",
       " '_i55',\n",
       " '_i56',\n",
       " '_i57',\n",
       " '_i58',\n",
       " '_i6',\n",
       " '_i7',\n",
       " '_i8',\n",
       " '_i9',\n",
       " '_ih',\n",
       " '_ii',\n",
       " '_iii',\n",
       " '_oh',\n",
       " 'b',\n",
       " 'exit',\n",
       " 'f',\n",
       " 'genfib',\n",
       " 'genfib1',\n",
       " 'get_ipython',\n",
       " 'i',\n",
       " 'l',\n",
       " 'quit',\n",
       " 'r',\n",
       " 's',\n",
       " 'square_fun',\n",
       " 'square_fun1',\n",
       " 't']"
      ]
     },
     "execution_count": 58,
     "metadata": {},
     "output_type": "execute_result"
    }
   ],
   "source": [
    "dir()"
   ]
  },
  {
   "cell_type": "code",
   "execution_count": 59,
   "id": "246ba36c",
   "metadata": {},
   "outputs": [
    {
     "name": "stdout",
     "output_type": "stream",
     "text": [
      " Volume in drive C is OS\n",
      " Volume Serial Number is 0800-7B7C\n",
      "\n",
      " Directory of C:\\Users\\Rajesh\\pythonnew\n",
      "\n",
      "18-06-2022  19:10    <DIR>          .\n",
      "11-06-2022  00:21    <DIR>          ..\n",
      "13-03-2022  18:08                42 .gitignore\n",
      "18-06-2022  17:45    <DIR>          .ipynb_checkpoints\n",
      "26-03-2022  15:06    <DIR>          __pycache__\n",
      "26-03-2022  15:06    <DIR>          _skbuild\n",
      "14-04-2022  17:59               191 animail.csv\n",
      "09-06-2022  12:52               191 ?animail.csv\n",
      "09-06-2022  12:53             5,217 animal.xlsx\n",
      "10-06-2022  17:55           720,408 Car_Price_Prediction.ipynb\n",
      "26-03-2022  15:06               485 CMakeLists.txt\n",
      "04-06-2022  19:36            72,931 controlflow_statements.ipynb\n",
      "13-03-2022  18:26    <DIR>          etc\n",
      "15-03-2022  11:25                23 Excel_shortcuts.txt\n",
      "05-06-2022  17:19            18,192 Function Continued.ipynb\n",
      "16-03-2022  22:17                 0 g4g.jpg\n",
      "26-03-2022  15:06    <DIR>          images\n",
      "16-03-2022  21:21    <DIR>          include\n",
      "18-06-2022  19:10            37,391 Iterator,generator,map,reduce.filter,basic file operation_18thJune.ipynb\n",
      "13-03-2022  18:08    <DIR>          Lib\n",
      "26-03-2022  15:06               803 LICENSE\n",
      "22-05-2022  15:16            54,101 list_operation.ipynb\n",
      "26-03-2022  15:06               913 NOTICE\n",
      "07-05-2022  15:26            18,694 OOPS_Concepts.ipynb\n",
      "19-04-2022  19:32         2,105,022 Pandas pyplot.ipynb\n",
      "19-04-2022  19:10         2,064,515 Pandas pyplot-Copy1.ipynb\n",
      "09-06-2022  15:19           764,478 Pandas_tutorial.ipynb\n",
      "19-05-2022  23:22            16,052 Python_Assignment1.ipynb\n",
      "18-06-2022  18:51               415 python_notes.txt\n",
      "13-03-2022  18:08               293 pyvenv.cfg\n",
      "18-06-2022  19:10                 0 rajesh.txt\n",
      "26-03-2022  15:06             4,864 README.rst\n",
      "09-06-2022  15:18    <DIR>          Scripts\n",
      "26-03-2022  15:06             4,573 setup.py\n",
      "26-03-2022  14:52    <DIR>          share\n",
      "16-03-2022  21:46            48,983 spider.png\n",
      "15-05-2022  19:31            39,739 string_ops.ipynb\n",
      "18-06-2022  16:41                36 sudh.txt\n",
      "04-06-2022  21:08            58,221 Task_Challenge.ipynb\n",
      "18-06-2022  16:49                11 test.sudh\n",
      "18-06-2022  19:05                92 test.txt\n",
      "18-06-2022  16:44                52 test1.txt\n",
      "18-06-2022  16:45                28 test2.txt\n",
      "18-06-2022  16:54               310 test5.txt\n",
      "15-06-2022  21:52            64,445 Untitled.ipynb\n",
      "14-05-2022  18:44            12,494 variable_inpython.ipynb\n",
      "03-06-2022  17:13            10,272 welcome.mp3\n",
      "31-05-2022  17:12        52,780,323 while loop session.ipynb\n",
      "03-06-2022  18:53            25,026 while loop_basfun_assignment.ipynb\n",
      "              38 File(s)     58,929,826 bytes\n",
      "              11 Dir(s)  69,222,957,056 bytes free\n"
     ]
    }
   ],
   "source": [
    "ls"
   ]
  },
  {
   "cell_type": "code",
   "execution_count": 60,
   "id": "766d38b7",
   "metadata": {},
   "outputs": [
    {
     "data": {
      "text/plain": [
       "36"
      ]
     },
     "execution_count": 60,
     "metadata": {},
     "output_type": "execute_result"
    }
   ],
   "source": [
    "f.write(\"this is my very first file operation\")"
   ]
  },
  {
   "cell_type": "code",
   "execution_count": 61,
   "id": "2b81de5c",
   "metadata": {},
   "outputs": [],
   "source": [
    "f.close()"
   ]
  },
  {
   "cell_type": "code",
   "execution_count": 62,
   "id": "112f0d6b",
   "metadata": {},
   "outputs": [
    {
     "data": {
      "text/plain": [
       "[1, 3, 4, 5, 5]"
      ]
     },
     "execution_count": 62,
     "metadata": {},
     "output_type": "execute_result"
    }
   ],
   "source": [
    "l"
   ]
  },
  {
   "cell_type": "code",
   "execution_count": 63,
   "id": "97b32761",
   "metadata": {},
   "outputs": [
    {
     "name": "stdout",
     "output_type": "stream",
     "text": [
      " Volume in drive C is OS\n",
      " Volume Serial Number is 0800-7B7C\n",
      "\n",
      " Directory of C:\\Users\\Rajesh\\pythonnew\n",
      "\n",
      "18-06-2022  19:10    <DIR>          .\n",
      "11-06-2022  00:21    <DIR>          ..\n",
      "13-03-2022  18:08                42 .gitignore\n",
      "18-06-2022  17:45    <DIR>          .ipynb_checkpoints\n",
      "26-03-2022  15:06    <DIR>          __pycache__\n",
      "26-03-2022  15:06    <DIR>          _skbuild\n",
      "14-04-2022  17:59               191 animail.csv\n",
      "09-06-2022  12:52               191 ?animail.csv\n",
      "09-06-2022  12:53             5,217 animal.xlsx\n",
      "10-06-2022  17:55           720,408 Car_Price_Prediction.ipynb\n",
      "26-03-2022  15:06               485 CMakeLists.txt\n",
      "04-06-2022  19:36            72,931 controlflow_statements.ipynb\n",
      "13-03-2022  18:26    <DIR>          etc\n",
      "15-03-2022  11:25                23 Excel_shortcuts.txt\n",
      "05-06-2022  17:19            18,192 Function Continued.ipynb\n",
      "16-03-2022  22:17                 0 g4g.jpg\n",
      "26-03-2022  15:06    <DIR>          images\n",
      "16-03-2022  21:21    <DIR>          include\n",
      "18-06-2022  19:10            37,391 Iterator,generator,map,reduce.filter,basic file operation_18thJune.ipynb\n",
      "13-03-2022  18:08    <DIR>          Lib\n",
      "26-03-2022  15:06               803 LICENSE\n",
      "22-05-2022  15:16            54,101 list_operation.ipynb\n",
      "26-03-2022  15:06               913 NOTICE\n",
      "07-05-2022  15:26            18,694 OOPS_Concepts.ipynb\n",
      "19-04-2022  19:32         2,105,022 Pandas pyplot.ipynb\n",
      "19-04-2022  19:10         2,064,515 Pandas pyplot-Copy1.ipynb\n",
      "09-06-2022  15:19           764,478 Pandas_tutorial.ipynb\n",
      "19-05-2022  23:22            16,052 Python_Assignment1.ipynb\n",
      "18-06-2022  18:51               415 python_notes.txt\n",
      "13-03-2022  18:08               293 pyvenv.cfg\n",
      "18-06-2022  19:10                36 rajesh.txt\n",
      "26-03-2022  15:06             4,864 README.rst\n",
      "09-06-2022  15:18    <DIR>          Scripts\n",
      "26-03-2022  15:06             4,573 setup.py\n",
      "26-03-2022  14:52    <DIR>          share\n",
      "16-03-2022  21:46            48,983 spider.png\n",
      "15-05-2022  19:31            39,739 string_ops.ipynb\n",
      "18-06-2022  16:41                36 sudh.txt\n",
      "04-06-2022  21:08            58,221 Task_Challenge.ipynb\n",
      "18-06-2022  16:49                11 test.sudh\n",
      "18-06-2022  19:05                92 test.txt\n",
      "18-06-2022  16:44                52 test1.txt\n",
      "18-06-2022  16:45                28 test2.txt\n",
      "18-06-2022  16:54               310 test5.txt\n",
      "15-06-2022  21:52            64,445 Untitled.ipynb\n",
      "14-05-2022  18:44            12,494 variable_inpython.ipynb\n",
      "03-06-2022  17:13            10,272 welcome.mp3\n",
      "31-05-2022  17:12        52,780,323 while loop session.ipynb\n",
      "03-06-2022  18:53            25,026 while loop_basfun_assignment.ipynb\n",
      "              38 File(s)     58,929,862 bytes\n",
      "              11 Dir(s)  69,222,957,056 bytes free\n"
     ]
    }
   ],
   "source": [
    "ls"
   ]
  },
  {
   "cell_type": "code",
   "execution_count": 64,
   "id": "13c405b4",
   "metadata": {},
   "outputs": [],
   "source": [
    "f1 = open(\"test1.txt\", \"w\")"
   ]
  },
  {
   "cell_type": "code",
   "execution_count": 65,
   "id": "85cfab1e",
   "metadata": {},
   "outputs": [
    {
     "data": {
      "text/plain": [
       "52"
      ]
     },
     "execution_count": 65,
     "metadata": {},
     "output_type": "execute_result"
    }
   ],
   "source": [
    "f1.write(\"this is a file opeation in i am trying to in my fsds\")"
   ]
  },
  {
   "cell_type": "code",
   "execution_count": 66,
   "id": "b9076964",
   "metadata": {},
   "outputs": [],
   "source": [
    "f1.close()"
   ]
  },
  {
   "cell_type": "code",
   "execution_count": 67,
   "id": "9451700b",
   "metadata": {},
   "outputs": [],
   "source": [
    "l = [1,2,3,4,5,6,7,67,6]"
   ]
  },
  {
   "cell_type": "code",
   "execution_count": 68,
   "id": "306d2b6e",
   "metadata": {},
   "outputs": [],
   "source": [
    "f2 = open(\"test2.txt\", 'w')"
   ]
  },
  {
   "cell_type": "code",
   "execution_count": 69,
   "id": "a302ee1a",
   "metadata": {},
   "outputs": [
    {
     "data": {
      "text/plain": [
       "28"
      ]
     },
     "execution_count": 69,
     "metadata": {},
     "output_type": "execute_result"
    }
   ],
   "source": [
    "f2.write(str(l))"
   ]
  },
  {
   "cell_type": "code",
   "execution_count": 70,
   "id": "7a82d954",
   "metadata": {},
   "outputs": [],
   "source": [
    "f2.close()"
   ]
  },
  {
   "cell_type": "code",
   "execution_count": 71,
   "id": "423cc97e",
   "metadata": {},
   "outputs": [
    {
     "name": "stdout",
     "output_type": "stream",
     "text": [
      " Volume in drive C is OS\n",
      " Volume Serial Number is 0800-7B7C\n",
      "\n",
      " Directory of C:\\Users\\Rajesh\\pythonnew\n",
      "\n",
      "18-06-2022  19:10    <DIR>          .\n",
      "11-06-2022  00:21    <DIR>          ..\n",
      "13-03-2022  18:08                42 .gitignore\n",
      "18-06-2022  17:45    <DIR>          .ipynb_checkpoints\n",
      "26-03-2022  15:06    <DIR>          __pycache__\n",
      "26-03-2022  15:06    <DIR>          _skbuild\n",
      "14-04-2022  17:59               191 animail.csv\n",
      "09-06-2022  12:52               191 ?animail.csv\n",
      "09-06-2022  12:53             5,217 animal.xlsx\n",
      "10-06-2022  17:55           720,408 Car_Price_Prediction.ipynb\n",
      "26-03-2022  15:06               485 CMakeLists.txt\n",
      "04-06-2022  19:36            72,931 controlflow_statements.ipynb\n",
      "13-03-2022  18:26    <DIR>          etc\n",
      "15-03-2022  11:25                23 Excel_shortcuts.txt\n",
      "05-06-2022  17:19            18,192 Function Continued.ipynb\n",
      "16-03-2022  22:17                 0 g4g.jpg\n",
      "26-03-2022  15:06    <DIR>          images\n",
      "16-03-2022  21:21    <DIR>          include\n",
      "18-06-2022  19:10            37,391 Iterator,generator,map,reduce.filter,basic file operation_18thJune.ipynb\n",
      "13-03-2022  18:08    <DIR>          Lib\n",
      "26-03-2022  15:06               803 LICENSE\n",
      "22-05-2022  15:16            54,101 list_operation.ipynb\n",
      "26-03-2022  15:06               913 NOTICE\n",
      "07-05-2022  15:26            18,694 OOPS_Concepts.ipynb\n",
      "19-04-2022  19:32         2,105,022 Pandas pyplot.ipynb\n",
      "19-04-2022  19:10         2,064,515 Pandas pyplot-Copy1.ipynb\n",
      "09-06-2022  15:19           764,478 Pandas_tutorial.ipynb\n",
      "19-05-2022  23:22            16,052 Python_Assignment1.ipynb\n",
      "18-06-2022  18:51               415 python_notes.txt\n",
      "13-03-2022  18:08               293 pyvenv.cfg\n",
      "18-06-2022  19:10                36 rajesh.txt\n",
      "26-03-2022  15:06             4,864 README.rst\n",
      "09-06-2022  15:18    <DIR>          Scripts\n",
      "26-03-2022  15:06             4,573 setup.py\n",
      "26-03-2022  14:52    <DIR>          share\n",
      "16-03-2022  21:46            48,983 spider.png\n",
      "15-05-2022  19:31            39,739 string_ops.ipynb\n",
      "18-06-2022  16:41                36 sudh.txt\n",
      "04-06-2022  21:08            58,221 Task_Challenge.ipynb\n",
      "18-06-2022  16:49                11 test.sudh\n",
      "18-06-2022  19:05                92 test.txt\n",
      "18-06-2022  19:10                52 test1.txt\n",
      "18-06-2022  19:10                28 test2.txt\n",
      "18-06-2022  16:54               310 test5.txt\n",
      "15-06-2022  21:52            64,445 Untitled.ipynb\n",
      "14-05-2022  18:44            12,494 variable_inpython.ipynb\n",
      "03-06-2022  17:13            10,272 welcome.mp3\n",
      "31-05-2022  17:12        52,780,323 while loop session.ipynb\n",
      "03-06-2022  18:53            25,026 while loop_basfun_assignment.ipynb\n",
      "              38 File(s)     58,929,862 bytes\n",
      "              11 Dir(s)  69,223,022,592 bytes free\n"
     ]
    }
   ],
   "source": [
    "ls"
   ]
  },
  {
   "cell_type": "code",
   "execution_count": 72,
   "id": "53d16339",
   "metadata": {},
   "outputs": [],
   "source": [
    "f3 = open(\"test.sudh\", 'w')\n",
    "f3.write(\"fssddsdssdd\")\n",
    "f3.close()"
   ]
  },
  {
   "cell_type": "code",
   "execution_count": 73,
   "id": "27e98a7a",
   "metadata": {},
   "outputs": [
    {
     "name": "stdout",
     "output_type": "stream",
     "text": [
      "Overwriting test5.txt\n"
     ]
    }
   ],
   "source": [
    "%%writefile test5.txt\n",
    "this is my python program to write into a file different way\n",
    "this is my python program to write into a file different way\n",
    "this is my python program to write into a file different way\n",
    "this is my python program to write into a file different way\n",
    "this is my python program to write into a file different way"
   ]
  },
  {
   "cell_type": "code",
   "execution_count": 74,
   "id": "afd8912b",
   "metadata": {},
   "outputs": [],
   "source": [
    "f  =open('test5.txt')"
   ]
  },
  {
   "cell_type": "code",
   "execution_count": 75,
   "id": "8221a6f9",
   "metadata": {},
   "outputs": [
    {
     "data": {
      "text/plain": [
       "'this is my python program to write into a file different way\\nthis is my python program to write into a file different way\\nthis is my python program to write into a file different way\\nthis is my python program to write into a file different way\\nthis is my python program to write into a file different way\\n'"
      ]
     },
     "execution_count": 75,
     "metadata": {},
     "output_type": "execute_result"
    }
   ],
   "source": [
    "f.read() #able to read the entire dataset"
   ]
  },
  {
   "cell_type": "code",
   "execution_count": 76,
   "id": "29f8eb65",
   "metadata": {},
   "outputs": [
    {
     "data": {
      "text/plain": [
       "''"
      ]
     },
     "execution_count": 76,
     "metadata": {},
     "output_type": "execute_result"
    }
   ],
   "source": [
    "f.read() #pointer(cursor) ended in last location"
   ]
  },
  {
   "cell_type": "code",
   "execution_count": 77,
   "id": "cd867f94",
   "metadata": {},
   "outputs": [
    {
     "data": {
      "text/plain": [
       "0"
      ]
     },
     "execution_count": 77,
     "metadata": {},
     "output_type": "execute_result"
    }
   ],
   "source": [
    "f.seek(0) #poiter starts from index"
   ]
  },
  {
   "cell_type": "code",
   "execution_count": 78,
   "id": "00736029",
   "metadata": {},
   "outputs": [
    {
     "data": {
      "text/plain": [
       "'this is my python program to write into a file different way\\nthis is my python program to write into a file different way\\nthis is my python program to write into a file different way\\nthis is my python program to write into a file different way\\nthis is my python program to write into a file different way\\n'"
      ]
     },
     "execution_count": 78,
     "metadata": {},
     "output_type": "execute_result"
    }
   ],
   "source": [
    "f.read()"
   ]
  },
  {
   "cell_type": "code",
   "execution_count": 79,
   "id": "cce97b07",
   "metadata": {},
   "outputs": [
    {
     "data": {
      "text/plain": [
       "4"
      ]
     },
     "execution_count": 79,
     "metadata": {},
     "output_type": "execute_result"
    }
   ],
   "source": [
    "f.seek(4)"
   ]
  },
  {
   "cell_type": "code",
   "execution_count": 80,
   "id": "d9adeea1",
   "metadata": {},
   "outputs": [
    {
     "data": {
      "text/plain": [
       "' is my python program to write into a file different way\\nthis is my python program to write into a file different way\\nthis is my python program to write into a file different way\\nthis is my python program to write into a file different way\\nthis is my python program to write into a file different way\\n'"
      ]
     },
     "execution_count": 80,
     "metadata": {},
     "output_type": "execute_result"
    }
   ],
   "source": [
    "f.read()"
   ]
  },
  {
   "cell_type": "code",
   "execution_count": 81,
   "id": "6ca2cf67",
   "metadata": {},
   "outputs": [
    {
     "data": {
      "text/plain": [
       "15"
      ]
     },
     "execution_count": 81,
     "metadata": {},
     "output_type": "execute_result"
    }
   ],
   "source": [
    "f.seek(15)"
   ]
  },
  {
   "cell_type": "code",
   "execution_count": 82,
   "id": "d288089b",
   "metadata": {},
   "outputs": [
    {
     "data": {
      "text/plain": [
       "'on program to write into a file different way\\nthis is my python program to write into a file different way\\nthis is my python program to write into a file different way\\nthis is my python program to write into a file different way\\nthis is my python program to write into a file different way\\n'"
      ]
     },
     "execution_count": 82,
     "metadata": {},
     "output_type": "execute_result"
    }
   ],
   "source": [
    "f.read()"
   ]
  },
  {
   "cell_type": "code",
   "execution_count": 83,
   "id": "81b4bca3",
   "metadata": {},
   "outputs": [],
   "source": [
    "f1 = open('test5.txt')"
   ]
  },
  {
   "cell_type": "code",
   "execution_count": 84,
   "id": "7b2ac84e",
   "metadata": {},
   "outputs": [
    {
     "data": {
      "text/plain": [
       "0"
      ]
     },
     "execution_count": 84,
     "metadata": {},
     "output_type": "execute_result"
    }
   ],
   "source": [
    "f1.tell()"
   ]
  },
  {
   "cell_type": "code",
   "execution_count": 85,
   "id": "a14bbb61",
   "metadata": {},
   "outputs": [
    {
     "data": {
      "text/plain": [
       "'this is my python program to write into a file different way\\nthis is my python program to write into a file different way\\nthis is my python program to write into a file different way\\nthis is my python program to write into a file different way\\nthis is my python program to write into a file different way\\n'"
      ]
     },
     "execution_count": 85,
     "metadata": {},
     "output_type": "execute_result"
    }
   ],
   "source": [
    "f1.read()"
   ]
  },
  {
   "cell_type": "code",
   "execution_count": 86,
   "id": "9f664761",
   "metadata": {},
   "outputs": [
    {
     "data": {
      "text/plain": [
       "310"
      ]
     },
     "execution_count": 86,
     "metadata": {},
     "output_type": "execute_result"
    }
   ],
   "source": [
    "f1.tell()"
   ]
  },
  {
   "cell_type": "code",
   "execution_count": 87,
   "id": "c4861307",
   "metadata": {},
   "outputs": [
    {
     "data": {
      "text/plain": [
       "5"
      ]
     },
     "execution_count": 87,
     "metadata": {},
     "output_type": "execute_result"
    }
   ],
   "source": [
    "f1.seek(5)"
   ]
  },
  {
   "cell_type": "code",
   "execution_count": 88,
   "id": "92824a6d",
   "metadata": {},
   "outputs": [
    {
     "data": {
      "text/plain": [
       "5"
      ]
     },
     "execution_count": 88,
     "metadata": {},
     "output_type": "execute_result"
    }
   ],
   "source": [
    "f1.tell()"
   ]
  },
  {
   "cell_type": "code",
   "execution_count": 89,
   "id": "997c055a",
   "metadata": {},
   "outputs": [
    {
     "data": {
      "text/plain": [
       "0"
      ]
     },
     "execution_count": 89,
     "metadata": {},
     "output_type": "execute_result"
    }
   ],
   "source": [
    "f.seek(0)"
   ]
  },
  {
   "cell_type": "code",
   "execution_count": 90,
   "id": "df4ea857",
   "metadata": {},
   "outputs": [
    {
     "data": {
      "text/plain": [
       "'is my python program to write into a file different way\\nthis is my python program to write into a file different way\\nthis is my python program to write into a file different way\\nthis is my python program to write into a file different way\\nthis is my python program to write into a file different way\\n'"
      ]
     },
     "execution_count": 90,
     "metadata": {},
     "output_type": "execute_result"
    }
   ],
   "source": [
    "f1.read()"
   ]
  },
  {
   "cell_type": "code",
   "execution_count": 91,
   "id": "d2ea8fa8",
   "metadata": {},
   "outputs": [
    {
     "data": {
      "text/plain": [
       "310"
      ]
     },
     "execution_count": 91,
     "metadata": {},
     "output_type": "execute_result"
    }
   ],
   "source": [
    "f1.tell()"
   ]
  },
  {
   "cell_type": "code",
   "execution_count": 92,
   "id": "b3eacf6a",
   "metadata": {},
   "outputs": [
    {
     "data": {
      "text/plain": [
       "''"
      ]
     },
     "execution_count": 92,
     "metadata": {},
     "output_type": "execute_result"
    }
   ],
   "source": [
    "f1.read(15)"
   ]
  },
  {
   "cell_type": "code",
   "execution_count": 93,
   "id": "73bd1b6f",
   "metadata": {},
   "outputs": [],
   "source": [
    "f2 = open('test5.txt')"
   ]
  },
  {
   "cell_type": "code",
   "execution_count": 94,
   "id": "904045ea",
   "metadata": {},
   "outputs": [
    {
     "data": {
      "text/plain": [
       "'this is my python program to write into a file different way\\nthis is my python program to write into a file different way\\nthis is my python program to write into a file different way\\nthis is my python program to write into a file different way\\nthis is my python program to write into a file different way\\n'"
      ]
     },
     "execution_count": 94,
     "metadata": {},
     "output_type": "execute_result"
    }
   ],
   "source": [
    "f2.read()"
   ]
  },
  {
   "cell_type": "code",
   "execution_count": 95,
   "id": "c23b0d94",
   "metadata": {},
   "outputs": [
    {
     "data": {
      "text/plain": [
       "0"
      ]
     },
     "execution_count": 95,
     "metadata": {},
     "output_type": "execute_result"
    }
   ],
   "source": [
    "f2.seek(0)"
   ]
  },
  {
   "cell_type": "code",
   "execution_count": 96,
   "id": "0915c083",
   "metadata": {},
   "outputs": [
    {
     "data": {
      "text/plain": [
       "'this is my python program to write into a file different way\\n'"
      ]
     },
     "execution_count": 96,
     "metadata": {},
     "output_type": "execute_result"
    }
   ],
   "source": [
    "f2.readline()"
   ]
  },
  {
   "cell_type": "code",
   "execution_count": 97,
   "id": "620e28e4",
   "metadata": {},
   "outputs": [
    {
     "data": {
      "text/plain": [
       "['this is my python program to write into a file different way\\n',\n",
       " 'this is my python program to write into a file different way\\n',\n",
       " 'this is my python program to write into a file different way\\n',\n",
       " 'this is my python program to write into a file different way\\n']"
      ]
     },
     "execution_count": 97,
     "metadata": {},
     "output_type": "execute_result"
    }
   ],
   "source": [
    "f2.readlines()"
   ]
  },
  {
   "cell_type": "code",
   "execution_count": 98,
   "id": "5812aadc",
   "metadata": {},
   "outputs": [
    {
     "data": {
      "text/plain": [
       "<_io.TextIOWrapper name='test5.txt' mode='r' encoding='cp1252'>"
      ]
     },
     "execution_count": 98,
     "metadata": {},
     "output_type": "execute_result"
    }
   ],
   "source": [
    "f2"
   ]
  },
  {
   "cell_type": "code",
   "execution_count": 99,
   "id": "18d4f4eb",
   "metadata": {},
   "outputs": [
    {
     "data": {
      "text/plain": [
       "6"
      ]
     },
     "execution_count": 99,
     "metadata": {},
     "output_type": "execute_result"
    }
   ],
   "source": [
    "f2.fileno()"
   ]
  },
  {
   "cell_type": "code",
   "execution_count": 100,
   "id": "a5252a15",
   "metadata": {},
   "outputs": [],
   "source": [
    "f = open(\"test.txt\",'w')"
   ]
  },
  {
   "cell_type": "code",
   "execution_count": 101,
   "id": "47e52be2",
   "metadata": {},
   "outputs": [
    {
     "data": {
      "text/plain": [
       "60"
      ]
     },
     "execution_count": 101,
     "metadata": {},
     "output_type": "execute_result"
    }
   ],
   "source": [
    "f.write(\"\"\"this is my python program to write into a file different way\"\"\")"
   ]
  },
  {
   "cell_type": "code",
   "execution_count": 102,
   "id": "8499da35",
   "metadata": {},
   "outputs": [
    {
     "data": {
      "text/plain": [
       "32"
      ]
     },
     "execution_count": 102,
     "metadata": {},
     "output_type": "execute_result"
    }
   ],
   "source": [
    "f.write(\"ffssdddddadk kkffk kkakf kkkfhhf\")"
   ]
  },
  {
   "cell_type": "code",
   "execution_count": 103,
   "id": "72eaaa01",
   "metadata": {},
   "outputs": [],
   "source": [
    "f.close()"
   ]
  },
  {
   "cell_type": "code",
   "execution_count": 104,
   "id": "c10c0b06",
   "metadata": {},
   "outputs": [
    {
     "data": {
      "text/plain": [
       "['In',\n",
       " 'Out',\n",
       " '_',\n",
       " '_101',\n",
       " '_102',\n",
       " '_15',\n",
       " '_20',\n",
       " '_21',\n",
       " '_22',\n",
       " '_23',\n",
       " '_29',\n",
       " '_30',\n",
       " '_31',\n",
       " '_32',\n",
       " '_33',\n",
       " '_35',\n",
       " '_37',\n",
       " '_38',\n",
       " '_40',\n",
       " '_41',\n",
       " '_46',\n",
       " '_47',\n",
       " '_48',\n",
       " '_49',\n",
       " '_5',\n",
       " '_52',\n",
       " '_54',\n",
       " '_58',\n",
       " '_6',\n",
       " '_60',\n",
       " '_62',\n",
       " '_65',\n",
       " '_69',\n",
       " '_7',\n",
       " '_75',\n",
       " '_76',\n",
       " '_77',\n",
       " '_78',\n",
       " '_79',\n",
       " '_8',\n",
       " '_80',\n",
       " '_81',\n",
       " '_82',\n",
       " '_84',\n",
       " '_85',\n",
       " '_86',\n",
       " '_87',\n",
       " '_88',\n",
       " '_89',\n",
       " '_9',\n",
       " '_90',\n",
       " '_91',\n",
       " '_92',\n",
       " '_94',\n",
       " '_95',\n",
       " '_96',\n",
       " '_97',\n",
       " '_98',\n",
       " '_99',\n",
       " '__',\n",
       " '___',\n",
       " '__builtin__',\n",
       " '__builtins__',\n",
       " '__doc__',\n",
       " '__loader__',\n",
       " '__name__',\n",
       " '__package__',\n",
       " '__spec__',\n",
       " '_dh',\n",
       " '_exit_code',\n",
       " '_i',\n",
       " '_i1',\n",
       " '_i10',\n",
       " '_i100',\n",
       " '_i101',\n",
       " '_i102',\n",
       " '_i103',\n",
       " '_i104',\n",
       " '_i11',\n",
       " '_i12',\n",
       " '_i13',\n",
       " '_i14',\n",
       " '_i15',\n",
       " '_i16',\n",
       " '_i17',\n",
       " '_i18',\n",
       " '_i19',\n",
       " '_i2',\n",
       " '_i20',\n",
       " '_i21',\n",
       " '_i22',\n",
       " '_i23',\n",
       " '_i24',\n",
       " '_i25',\n",
       " '_i26',\n",
       " '_i27',\n",
       " '_i28',\n",
       " '_i29',\n",
       " '_i3',\n",
       " '_i30',\n",
       " '_i31',\n",
       " '_i32',\n",
       " '_i33',\n",
       " '_i34',\n",
       " '_i35',\n",
       " '_i36',\n",
       " '_i37',\n",
       " '_i38',\n",
       " '_i39',\n",
       " '_i4',\n",
       " '_i40',\n",
       " '_i41',\n",
       " '_i42',\n",
       " '_i43',\n",
       " '_i44',\n",
       " '_i45',\n",
       " '_i46',\n",
       " '_i47',\n",
       " '_i48',\n",
       " '_i49',\n",
       " '_i5',\n",
       " '_i50',\n",
       " '_i51',\n",
       " '_i52',\n",
       " '_i53',\n",
       " '_i54',\n",
       " '_i55',\n",
       " '_i56',\n",
       " '_i57',\n",
       " '_i58',\n",
       " '_i59',\n",
       " '_i6',\n",
       " '_i60',\n",
       " '_i61',\n",
       " '_i62',\n",
       " '_i63',\n",
       " '_i64',\n",
       " '_i65',\n",
       " '_i66',\n",
       " '_i67',\n",
       " '_i68',\n",
       " '_i69',\n",
       " '_i7',\n",
       " '_i70',\n",
       " '_i71',\n",
       " '_i72',\n",
       " '_i73',\n",
       " '_i74',\n",
       " '_i75',\n",
       " '_i76',\n",
       " '_i77',\n",
       " '_i78',\n",
       " '_i79',\n",
       " '_i8',\n",
       " '_i80',\n",
       " '_i81',\n",
       " '_i82',\n",
       " '_i83',\n",
       " '_i84',\n",
       " '_i85',\n",
       " '_i86',\n",
       " '_i87',\n",
       " '_i88',\n",
       " '_i89',\n",
       " '_i9',\n",
       " '_i90',\n",
       " '_i91',\n",
       " '_i92',\n",
       " '_i93',\n",
       " '_i94',\n",
       " '_i95',\n",
       " '_i96',\n",
       " '_i97',\n",
       " '_i98',\n",
       " '_i99',\n",
       " '_ih',\n",
       " '_ii',\n",
       " '_iii',\n",
       " '_oh',\n",
       " 'b',\n",
       " 'exit',\n",
       " 'f',\n",
       " 'f1',\n",
       " 'f2',\n",
       " 'f3',\n",
       " 'genfib',\n",
       " 'genfib1',\n",
       " 'get_ipython',\n",
       " 'i',\n",
       " 'l',\n",
       " 'quit',\n",
       " 'r',\n",
       " 's',\n",
       " 'square_fun',\n",
       " 'square_fun1',\n",
       " 't']"
      ]
     },
     "execution_count": 104,
     "metadata": {},
     "output_type": "execute_result"
    }
   ],
   "source": [
    "dir()"
   ]
  },
  {
   "cell_type": "code",
   "execution_count": 105,
   "id": "94d5185a",
   "metadata": {},
   "outputs": [
    {
     "name": "stdout",
     "output_type": "stream",
     "text": [
      " Volume in drive C is OS\n",
      " Volume Serial Number is 0800-7B7C\n",
      "\n",
      " Directory of C:\\Users\\Rajesh\\pythonnew\n",
      "\n",
      "18-06-2022  19:10    <DIR>          .\n",
      "11-06-2022  00:21    <DIR>          ..\n",
      "13-03-2022  18:08                42 .gitignore\n",
      "18-06-2022  17:45    <DIR>          .ipynb_checkpoints\n",
      "26-03-2022  15:06    <DIR>          __pycache__\n",
      "26-03-2022  15:06    <DIR>          _skbuild\n",
      "14-04-2022  17:59               191 animail.csv\n",
      "09-06-2022  12:52               191 ?animail.csv\n",
      "09-06-2022  12:53             5,217 animal.xlsx\n",
      "10-06-2022  17:55           720,408 Car_Price_Prediction.ipynb\n",
      "26-03-2022  15:06               485 CMakeLists.txt\n",
      "04-06-2022  19:36            72,931 controlflow_statements.ipynb\n",
      "13-03-2022  18:26    <DIR>          etc\n",
      "15-03-2022  11:25                23 Excel_shortcuts.txt\n",
      "05-06-2022  17:19            18,192 Function Continued.ipynb\n",
      "16-03-2022  22:17                 0 g4g.jpg\n",
      "26-03-2022  15:06    <DIR>          images\n",
      "16-03-2022  21:21    <DIR>          include\n",
      "18-06-2022  19:10            37,391 Iterator,generator,map,reduce.filter,basic file operation_18thJune.ipynb\n",
      "13-03-2022  18:08    <DIR>          Lib\n",
      "26-03-2022  15:06               803 LICENSE\n",
      "22-05-2022  15:16            54,101 list_operation.ipynb\n",
      "26-03-2022  15:06               913 NOTICE\n",
      "07-05-2022  15:26            18,694 OOPS_Concepts.ipynb\n",
      "19-04-2022  19:32         2,105,022 Pandas pyplot.ipynb\n",
      "19-04-2022  19:10         2,064,515 Pandas pyplot-Copy1.ipynb\n",
      "09-06-2022  15:19           764,478 Pandas_tutorial.ipynb\n",
      "19-05-2022  23:22            16,052 Python_Assignment1.ipynb\n",
      "18-06-2022  18:51               415 python_notes.txt\n",
      "13-03-2022  18:08               293 pyvenv.cfg\n",
      "18-06-2022  19:10                36 rajesh.txt\n",
      "26-03-2022  15:06             4,864 README.rst\n",
      "09-06-2022  15:18    <DIR>          Scripts\n",
      "26-03-2022  15:06             4,573 setup.py\n",
      "26-03-2022  14:52    <DIR>          share\n",
      "16-03-2022  21:46            48,983 spider.png\n",
      "15-05-2022  19:31            39,739 string_ops.ipynb\n",
      "18-06-2022  16:41                36 sudh.txt\n",
      "04-06-2022  21:08            58,221 Task_Challenge.ipynb\n",
      "18-06-2022  19:10                11 test.sudh\n",
      "18-06-2022  19:10                92 test.txt\n",
      "18-06-2022  19:10                52 test1.txt\n",
      "18-06-2022  19:10                28 test2.txt\n",
      "18-06-2022  19:10               310 test5.txt\n",
      "15-06-2022  21:52            64,445 Untitled.ipynb\n",
      "14-05-2022  18:44            12,494 variable_inpython.ipynb\n",
      "03-06-2022  17:13            10,272 welcome.mp3\n",
      "31-05-2022  17:12        52,780,323 while loop session.ipynb\n",
      "03-06-2022  18:53            25,026 while loop_basfun_assignment.ipynb\n",
      "              38 File(s)     58,929,862 bytes\n",
      "              11 Dir(s)  69,222,928,384 bytes free\n"
     ]
    }
   ],
   "source": [
    "ls"
   ]
  },
  {
   "cell_type": "code",
   "execution_count": 41,
   "id": "e3611a8b",
   "metadata": {},
   "outputs": [],
   "source": [
    "f8 = open(\"test.txt\", 'r+')"
   ]
  },
  {
   "cell_type": "code",
   "execution_count": 42,
   "id": "e375bf55",
   "metadata": {},
   "outputs": [
    {
     "data": {
      "text/plain": [
       "22"
      ]
     },
     "execution_count": 42,
     "metadata": {},
     "output_type": "execute_result"
    }
   ],
   "source": [
    "f8.write(\"this is my new dataset\")"
   ]
  },
  {
   "cell_type": "code",
   "execution_count": 44,
   "id": "826727cc",
   "metadata": {},
   "outputs": [
    {
     "ename": "ValueError",
     "evalue": "I/O operation on closed file.",
     "output_type": "error",
     "traceback": [
      "\u001b[1;31m---------------------------------------------------------------------------\u001b[0m",
      "\u001b[1;31mValueError\u001b[0m                                Traceback (most recent call last)",
      "Input \u001b[1;32mIn [44]\u001b[0m, in \u001b[0;36m<cell line: 1>\u001b[1;34m()\u001b[0m\n\u001b[1;32m----> 1\u001b[0m \u001b[43mf8\u001b[49m\u001b[38;5;241;43m.\u001b[39;49m\u001b[43mread\u001b[49m\u001b[43m(\u001b[49m\u001b[43m)\u001b[49m\n",
      "\u001b[1;31mValueError\u001b[0m: I/O operation on closed file."
     ]
    }
   ],
   "source": [
    "f8.read()"
   ]
  },
  {
   "cell_type": "code",
   "execution_count": 43,
   "id": "7b6af131",
   "metadata": {},
   "outputs": [],
   "source": [
    "f8.close()"
   ]
  },
  {
   "cell_type": "code",
   "execution_count": 109,
   "id": "4bbceb4a",
   "metadata": {},
   "outputs": [
    {
     "data": {
      "text/plain": [
       "'test.txt'"
      ]
     },
     "execution_count": 109,
     "metadata": {},
     "output_type": "execute_result"
    }
   ],
   "source": [
    "f.name"
   ]
  },
  {
   "cell_type": "code",
   "execution_count": null,
   "id": "a57b7b97",
   "metadata": {},
   "outputs": [],
   "source": [
    "f.mode"
   ]
  },
  {
   "cell_type": "code",
   "execution_count": null,
   "id": "23ab7ed1",
   "metadata": {},
   "outputs": [],
   "source": [
    "f.seee(15)"
   ]
  },
  {
   "cell_type": "markdown",
   "id": "49b6ad8b",
   "metadata": {},
   "source": [
    "# map,reduce, filter Functions"
   ]
  },
  {
   "cell_type": "code",
   "execution_count": null,
   "id": "1d0f4d0a",
   "metadata": {},
   "outputs": [],
   "source": [
    "l = [2,3,4,5,6]\n",
    "l1 = []\n",
    "for i in l:\n",
    "    l1.append(i**2)"
   ]
  },
  {
   "cell_type": "code",
   "execution_count": null,
   "id": "3696ec59",
   "metadata": {},
   "outputs": [],
   "source": [
    "l1"
   ]
  },
  {
   "cell_type": "code",
   "execution_count": null,
   "id": "1aef93d6",
   "metadata": {},
   "outputs": [],
   "source": [
    "def sq(n):\n",
    "    return n**2"
   ]
  },
  {
   "cell_type": "code",
   "execution_count": null,
   "id": "ddcd5a65",
   "metadata": {},
   "outputs": [],
   "source": [
    "list(map(sq, l))"
   ]
  },
  {
   "cell_type": "code",
   "execution_count": null,
   "id": "692f3733",
   "metadata": {},
   "outputs": [],
   "source": [
    "map(lambda x : x*2,l)"
   ]
  },
  {
   "cell_type": "code",
   "execution_count": null,
   "id": "bfde0d61",
   "metadata": {},
   "outputs": [],
   "source": [
    "list(map(lambda x : x**2,l))"
   ]
  },
  {
   "cell_type": "code",
   "execution_count": null,
   "id": "737369be",
   "metadata": {},
   "outputs": [],
   "source": [
    "l"
   ]
  },
  {
   "cell_type": "code",
   "execution_count": null,
   "id": "282e72e6",
   "metadata": {},
   "outputs": [],
   "source": [
    "list(map(lambda x: str(x), l))"
   ]
  },
  {
   "cell_type": "code",
   "execution_count": null,
   "id": "8381e6be",
   "metadata": {},
   "outputs": [],
   "source": [
    "def str_c(n):\n",
    "    return str(n)"
   ]
  },
  {
   "cell_type": "code",
   "execution_count": null,
   "id": "9b33fdbb",
   "metadata": {},
   "outputs": [],
   "source": [
    "list(map(str_c, l))"
   ]
  },
  {
   "cell_type": "code",
   "execution_count": null,
   "id": "455d67c4",
   "metadata": {},
   "outputs": [],
   "source": [
    "list(map(str, l))"
   ]
  },
  {
   "cell_type": "code",
   "execution_count": null,
   "id": "5a52f0eb",
   "metadata": {},
   "outputs": [],
   "source": [
    "from functools import reduce"
   ]
  },
  {
   "cell_type": "code",
   "execution_count": null,
   "id": "e3aac649",
   "metadata": {},
   "outputs": [],
   "source": [
    "l = [3,4,5,6,7,8,9]"
   ]
  },
  {
   "cell_type": "code",
   "execution_count": null,
   "id": "f272d4ff",
   "metadata": {},
   "outputs": [],
   "source": [
    "sum(l)"
   ]
  },
  {
   "cell_type": "code",
   "execution_count": null,
   "id": "1c23d6a8",
   "metadata": {},
   "outputs": [],
   "source": [
    "reduce(lambda a, b : a*b , l) # aggerate operation"
   ]
  },
  {
   "cell_type": "code",
   "execution_count": null,
   "id": "bda18356",
   "metadata": {},
   "outputs": [],
   "source": [
    "reduce(lambda a, b,c : a*b*c , l)"
   ]
  },
  {
   "cell_type": "markdown",
   "id": "bd59d9e0",
   "metadata": {},
   "source": [
    "# Filter Function"
   ]
  },
  {
   "cell_type": "code",
   "execution_count": null,
   "id": "2fe846f9",
   "metadata": {},
   "outputs": [],
   "source": [
    "l = [1,2,3,4,45,5]"
   ]
  },
  {
   "cell_type": "code",
   "execution_count": null,
   "id": "ffc2a50d",
   "metadata": {},
   "outputs": [],
   "source": [
    "list(filter(lambda x : x%2 == 0, l))"
   ]
  },
  {
   "cell_type": "code",
   "execution_count": null,
   "id": "b1012fe5",
   "metadata": {},
   "outputs": [],
   "source": [
    "def check_even(n):\n",
    "    if n%2 == 0:\n",
    "        return True"
   ]
  },
  {
   "cell_type": "code",
   "execution_count": null,
   "id": "071d2f59",
   "metadata": {},
   "outputs": [],
   "source": [
    "list(filter(check_even, l))"
   ]
  },
  {
   "cell_type": "raw",
   "id": "852356e5",
   "metadata": {},
   "source": [
    "Tomorrow session is logging topic"
   ]
  },
  {
   "cell_type": "code",
   "execution_count": 66,
   "id": "c75b8995",
   "metadata": {},
   "outputs": [],
   "source": [
    "f = open(\"python_notes.txt\",'w')"
   ]
  },
  {
   "cell_type": "code",
   "execution_count": 67,
   "id": "175d0a99",
   "metadata": {},
   "outputs": [
    {
     "data": {
      "text/plain": [
       "402"
      ]
     },
     "execution_count": 67,
     "metadata": {},
     "output_type": "execute_result"
    }
   ],
   "source": [
    "f.write(\"\"\"Iterator vs Iterable\n",
    "Lists, tuples, dictionaries, and sets are all iterable objects. They are iterable containers which you can get an iterator from\n",
    "\n",
    "All these objects have a iter() method which is used to get an iterator:\n",
    "\n",
    "Example\n",
    "Return an iterator from a tuple, and print each value:\n",
    "\n",
    "mytuple = (\"apple\", \"banana\", \"cherry\")\n",
    "myit = iter(mytuple)\n",
    "\n",
    "print(next(myit))\n",
    "print(next(myit))\n",
    "print(next(myit)\"\"\")"
   ]
  },
  {
   "cell_type": "code",
   "execution_count": 75,
   "id": "9c132757",
   "metadata": {},
   "outputs": [],
   "source": [
    "f = open(\"python_notes.txt\")"
   ]
  },
  {
   "cell_type": "code",
   "execution_count": 76,
   "id": "355aefee",
   "metadata": {},
   "outputs": [
    {
     "ename": "TypeError",
     "evalue": "argument should be integer or None, not 'str'",
     "output_type": "error",
     "traceback": [
      "\u001b[1;31m---------------------------------------------------------------------------\u001b[0m",
      "\u001b[1;31mTypeError\u001b[0m                                 Traceback (most recent call last)",
      "Input \u001b[1;32mIn [76]\u001b[0m, in \u001b[0;36m<cell line: 1>\u001b[1;34m()\u001b[0m\n\u001b[1;32m----> 1\u001b[0m \u001b[43mf\u001b[49m\u001b[38;5;241;43m.\u001b[39;49m\u001b[43mread\u001b[49m\u001b[43m(\u001b[49m\u001b[38;5;124;43m'\u001b[39;49m\u001b[38;5;130;43;01m\\n\u001b[39;49;00m\u001b[38;5;124;43m'\u001b[39;49m\u001b[43m)\u001b[49m\n",
      "\u001b[1;31mTypeError\u001b[0m: argument should be integer or None, not 'str'"
     ]
    }
   ],
   "source": [
    "f.read('\\n')"
   ]
  },
  {
   "cell_type": "code",
   "execution_count": null,
   "id": "7bffbd9b",
   "metadata": {},
   "outputs": [],
   "source": [
    "mkdir"
   ]
  }
 ],
 "metadata": {
  "kernelspec": {
   "display_name": "Python 3 (ipykernel)",
   "language": "python",
   "name": "python3"
  },
  "language_info": {
   "codemirror_mode": {
    "name": "ipython",
    "version": 3
   },
   "file_extension": ".py",
   "mimetype": "text/x-python",
   "name": "python",
   "nbconvert_exporter": "python",
   "pygments_lexer": "ipython3",
   "version": "3.9.7"
  }
 },
 "nbformat": 4,
 "nbformat_minor": 5
}
