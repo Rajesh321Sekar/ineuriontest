{
  "cells": [
    {
      "cell_type": "markdown",
      "source": [
        "**TASK**\n",
        "\n",
        "TASK\n",
        " 1 .Find out there avarage rating on weekly basis keep this in a mind   that  they take two days of leave<br> \n",
        "2 .Total working days for each agents<br> \n",
        "3. Total query that you hvae taken<br>  \n",
        "4. total Feedback that you have received <br> \n",
        "5. a agent name who have average rating between 3.5 to 4<br> \n",
        "6 . Agent name who have rating lesss then 3.5<br>  \n",
        "7 . agent name who have rating more then 4.5<br>  \n",
        "8 . how many feedaback agents have received more then 4.5 average<br> \n",
        "9 . average weekly response time for each agent<br>  \n",
        "10 . average weekely resolution time for each agents<br>  \n",
        "11 . list of all agents name <br> \n",
        "12 . percentage of chat on which they have received a feedback<br>  \n",
        "13 . Total contributation hour for each and every agents weekly basis<br>  \n",
        "14. total percentage of active hour for a month<br> "
      ],
      "metadata": {
        "id": "YZFRFhiCQho4"
      }
    },
    {
      "cell_type": "code",
      "source": [
        "import pandas as pd"
      ],
      "metadata": {
        "id": "wf1b5__SRZFI"
      },
      "execution_count": 130,
      "outputs": []
    },
    {
      "cell_type": "code",
      "source": [
        "agent_login_df = pd.read_csv('/content/AgentLogingReport.csv')\n",
        "agent_login_df  "
      ],
      "metadata": {
        "colab": {
          "base_uri": "https://localhost:8080/",
          "height": 424
        },
        "id": "cz_Dr3EISDKX",
        "outputId": "8bbc3d68-b2c1-4135-9b4c-78f21341ec95"
      },
      "execution_count": 131,
      "outputs": [
        {
          "output_type": "execute_result",
          "data": {
            "text/plain": [
              "     SL No               Agent       Date Login Time Logout Time   Duration\n",
              "0        1  Shivananda Sonwane  30-Jul-22   15:35:29    17:39:39   02:04:10\n",
              "1        2      Khushboo Priya  30-Jul-22   15:06:59    15:07:16   00:00:17\n",
              "2        3       Nandani Gupta  30-Jul-22   15:04:24    17:31:07   02:26:42\n",
              "3        4     Hrisikesh Neogi  30-Jul-22   14:34:29    15:19:35   00:45:06\n",
              "4        5              Mukesh  30-Jul-22   14:03:15    15:11:52   01:08:36\n",
              "..     ...                 ...        ...        ...         ...        ...\n",
              "995    996        Manjunatha A  20-Jul-22   09:03:51    15:02:28   05:58:37\n",
              "996    997             Bharath  20-Jul-22   09:00:49    15:01:32   06:00:43\n",
              "997    998      Khushboo Priya  20-Jul-22   08:59:20    14:26:55   05:27:34\n",
              "998    999        Nishtha Jain  20-Jul-22   08:43:55    14:00:33   05:16:38\n",
              "999   1000               Tarun  01-Jul-22   01:52:47    12:01:07  514:08:20\n",
              "\n",
              "[1000 rows x 6 columns]"
            ],
            "text/html": [
              "\n",
              "  <div id=\"df-06608dbe-0aed-47dc-b97f-d19e0edcd1a9\">\n",
              "    <div class=\"colab-df-container\">\n",
              "      <div>\n",
              "<style scoped>\n",
              "    .dataframe tbody tr th:only-of-type {\n",
              "        vertical-align: middle;\n",
              "    }\n",
              "\n",
              "    .dataframe tbody tr th {\n",
              "        vertical-align: top;\n",
              "    }\n",
              "\n",
              "    .dataframe thead th {\n",
              "        text-align: right;\n",
              "    }\n",
              "</style>\n",
              "<table border=\"1\" class=\"dataframe\">\n",
              "  <thead>\n",
              "    <tr style=\"text-align: right;\">\n",
              "      <th></th>\n",
              "      <th>SL No</th>\n",
              "      <th>Agent</th>\n",
              "      <th>Date</th>\n",
              "      <th>Login Time</th>\n",
              "      <th>Logout Time</th>\n",
              "      <th>Duration</th>\n",
              "    </tr>\n",
              "  </thead>\n",
              "  <tbody>\n",
              "    <tr>\n",
              "      <th>0</th>\n",
              "      <td>1</td>\n",
              "      <td>Shivananda Sonwane</td>\n",
              "      <td>30-Jul-22</td>\n",
              "      <td>15:35:29</td>\n",
              "      <td>17:39:39</td>\n",
              "      <td>02:04:10</td>\n",
              "    </tr>\n",
              "    <tr>\n",
              "      <th>1</th>\n",
              "      <td>2</td>\n",
              "      <td>Khushboo Priya</td>\n",
              "      <td>30-Jul-22</td>\n",
              "      <td>15:06:59</td>\n",
              "      <td>15:07:16</td>\n",
              "      <td>00:00:17</td>\n",
              "    </tr>\n",
              "    <tr>\n",
              "      <th>2</th>\n",
              "      <td>3</td>\n",
              "      <td>Nandani Gupta</td>\n",
              "      <td>30-Jul-22</td>\n",
              "      <td>15:04:24</td>\n",
              "      <td>17:31:07</td>\n",
              "      <td>02:26:42</td>\n",
              "    </tr>\n",
              "    <tr>\n",
              "      <th>3</th>\n",
              "      <td>4</td>\n",
              "      <td>Hrisikesh Neogi</td>\n",
              "      <td>30-Jul-22</td>\n",
              "      <td>14:34:29</td>\n",
              "      <td>15:19:35</td>\n",
              "      <td>00:45:06</td>\n",
              "    </tr>\n",
              "    <tr>\n",
              "      <th>4</th>\n",
              "      <td>5</td>\n",
              "      <td>Mukesh</td>\n",
              "      <td>30-Jul-22</td>\n",
              "      <td>14:03:15</td>\n",
              "      <td>15:11:52</td>\n",
              "      <td>01:08:36</td>\n",
              "    </tr>\n",
              "    <tr>\n",
              "      <th>...</th>\n",
              "      <td>...</td>\n",
              "      <td>...</td>\n",
              "      <td>...</td>\n",
              "      <td>...</td>\n",
              "      <td>...</td>\n",
              "      <td>...</td>\n",
              "    </tr>\n",
              "    <tr>\n",
              "      <th>995</th>\n",
              "      <td>996</td>\n",
              "      <td>Manjunatha A</td>\n",
              "      <td>20-Jul-22</td>\n",
              "      <td>09:03:51</td>\n",
              "      <td>15:02:28</td>\n",
              "      <td>05:58:37</td>\n",
              "    </tr>\n",
              "    <tr>\n",
              "      <th>996</th>\n",
              "      <td>997</td>\n",
              "      <td>Bharath</td>\n",
              "      <td>20-Jul-22</td>\n",
              "      <td>09:00:49</td>\n",
              "      <td>15:01:32</td>\n",
              "      <td>06:00:43</td>\n",
              "    </tr>\n",
              "    <tr>\n",
              "      <th>997</th>\n",
              "      <td>998</td>\n",
              "      <td>Khushboo Priya</td>\n",
              "      <td>20-Jul-22</td>\n",
              "      <td>08:59:20</td>\n",
              "      <td>14:26:55</td>\n",
              "      <td>05:27:34</td>\n",
              "    </tr>\n",
              "    <tr>\n",
              "      <th>998</th>\n",
              "      <td>999</td>\n",
              "      <td>Nishtha Jain</td>\n",
              "      <td>20-Jul-22</td>\n",
              "      <td>08:43:55</td>\n",
              "      <td>14:00:33</td>\n",
              "      <td>05:16:38</td>\n",
              "    </tr>\n",
              "    <tr>\n",
              "      <th>999</th>\n",
              "      <td>1000</td>\n",
              "      <td>Tarun</td>\n",
              "      <td>01-Jul-22</td>\n",
              "      <td>01:52:47</td>\n",
              "      <td>12:01:07</td>\n",
              "      <td>514:08:20</td>\n",
              "    </tr>\n",
              "  </tbody>\n",
              "</table>\n",
              "<p>1000 rows × 6 columns</p>\n",
              "</div>\n",
              "      <button class=\"colab-df-convert\" onclick=\"convertToInteractive('df-06608dbe-0aed-47dc-b97f-d19e0edcd1a9')\"\n",
              "              title=\"Convert this dataframe to an interactive table.\"\n",
              "              style=\"display:none;\">\n",
              "        \n",
              "  <svg xmlns=\"http://www.w3.org/2000/svg\" height=\"24px\"viewBox=\"0 0 24 24\"\n",
              "       width=\"24px\">\n",
              "    <path d=\"M0 0h24v24H0V0z\" fill=\"none\"/>\n",
              "    <path d=\"M18.56 5.44l.94 2.06.94-2.06 2.06-.94-2.06-.94-.94-2.06-.94 2.06-2.06.94zm-11 1L8.5 8.5l.94-2.06 2.06-.94-2.06-.94L8.5 2.5l-.94 2.06-2.06.94zm10 10l.94 2.06.94-2.06 2.06-.94-2.06-.94-.94-2.06-.94 2.06-2.06.94z\"/><path d=\"M17.41 7.96l-1.37-1.37c-.4-.4-.92-.59-1.43-.59-.52 0-1.04.2-1.43.59L10.3 9.45l-7.72 7.72c-.78.78-.78 2.05 0 2.83L4 21.41c.39.39.9.59 1.41.59.51 0 1.02-.2 1.41-.59l7.78-7.78 2.81-2.81c.8-.78.8-2.07 0-2.86zM5.41 20L4 18.59l7.72-7.72 1.47 1.35L5.41 20z\"/>\n",
              "  </svg>\n",
              "      </button>\n",
              "      \n",
              "  <style>\n",
              "    .colab-df-container {\n",
              "      display:flex;\n",
              "      flex-wrap:wrap;\n",
              "      gap: 12px;\n",
              "    }\n",
              "\n",
              "    .colab-df-convert {\n",
              "      background-color: #E8F0FE;\n",
              "      border: none;\n",
              "      border-radius: 50%;\n",
              "      cursor: pointer;\n",
              "      display: none;\n",
              "      fill: #1967D2;\n",
              "      height: 32px;\n",
              "      padding: 0 0 0 0;\n",
              "      width: 32px;\n",
              "    }\n",
              "\n",
              "    .colab-df-convert:hover {\n",
              "      background-color: #E2EBFA;\n",
              "      box-shadow: 0px 1px 2px rgba(60, 64, 67, 0.3), 0px 1px 3px 1px rgba(60, 64, 67, 0.15);\n",
              "      fill: #174EA6;\n",
              "    }\n",
              "\n",
              "    [theme=dark] .colab-df-convert {\n",
              "      background-color: #3B4455;\n",
              "      fill: #D2E3FC;\n",
              "    }\n",
              "\n",
              "    [theme=dark] .colab-df-convert:hover {\n",
              "      background-color: #434B5C;\n",
              "      box-shadow: 0px 1px 3px 1px rgba(0, 0, 0, 0.15);\n",
              "      filter: drop-shadow(0px 1px 2px rgba(0, 0, 0, 0.3));\n",
              "      fill: #FFFFFF;\n",
              "    }\n",
              "  </style>\n",
              "\n",
              "      <script>\n",
              "        const buttonEl =\n",
              "          document.querySelector('#df-06608dbe-0aed-47dc-b97f-d19e0edcd1a9 button.colab-df-convert');\n",
              "        buttonEl.style.display =\n",
              "          google.colab.kernel.accessAllowed ? 'block' : 'none';\n",
              "\n",
              "        async function convertToInteractive(key) {\n",
              "          const element = document.querySelector('#df-06608dbe-0aed-47dc-b97f-d19e0edcd1a9');\n",
              "          const dataTable =\n",
              "            await google.colab.kernel.invokeFunction('convertToInteractive',\n",
              "                                                     [key], {});\n",
              "          if (!dataTable) return;\n",
              "\n",
              "          const docLinkHtml = 'Like what you see? Visit the ' +\n",
              "            '<a target=\"_blank\" href=https://colab.research.google.com/notebooks/data_table.ipynb>data table notebook</a>'\n",
              "            + ' to learn more about interactive tables.';\n",
              "          element.innerHTML = '';\n",
              "          dataTable['output_type'] = 'display_data';\n",
              "          await google.colab.output.renderOutput(dataTable, element);\n",
              "          const docLink = document.createElement('div');\n",
              "          docLink.innerHTML = docLinkHtml;\n",
              "          element.appendChild(docLink);\n",
              "        }\n",
              "      </script>\n",
              "    </div>\n",
              "  </div>\n",
              "  "
            ]
          },
          "metadata": {},
          "execution_count": 131
        }
      ]
    },
    {
      "cell_type": "code",
      "source": [
        ""
      ],
      "metadata": {
        "id": "S5zoJH8XSd3t"
      },
      "execution_count": 131,
      "outputs": []
    },
    {
      "cell_type": "code",
      "source": [
        "agent_performance_df =  pd.read_csv('/content/AgentPerformance.csv')\n"
      ],
      "metadata": {
        "id": "AVFYnOz4ZYxt"
      },
      "execution_count": 132,
      "outputs": []
    },
    {
      "cell_type": "code",
      "source": [
        "agent_performance_df"
      ],
      "metadata": {
        "colab": {
          "base_uri": "https://localhost:8080/",
          "height": 520
        },
        "id": "mhFkCQzIatDO",
        "outputId": "a302ab97-674e-49ca-973c-8b4121f174e6"
      },
      "execution_count": 133,
      "outputs": [
        {
          "output_type": "execute_result",
          "data": {
            "text/plain": [
              "      SL No       Date          Agent Name  Total Chats Average Response Time  \\\n",
              "0         1  7/30/2022        Prerna Singh           11               0:00:38   \n",
              "1         2  7/30/2022       Nandani Gupta           11               0:01:15   \n",
              "2         3  7/30/2022          Ameya Jain           14               0:00:30   \n",
              "3         4  7/30/2022       Mahesh Sarade           14               0:01:04   \n",
              "4         5  7/30/2022              Swati            14               0:01:11   \n",
              "...     ...        ...                 ...          ...                   ...   \n",
              "2155   2156   7/1/2022   Sowmiya Sivakumar            0               0:00:00   \n",
              "2156   2157   7/1/2022             Nitin M            0               0:00:00   \n",
              "2157   2158   7/1/2022              Vivek             0               0:00:00   \n",
              "2158   2159   7/1/2022       Ayushi Mishra            0               0:00:00   \n",
              "2159   2160   7/1/2022  Chaitra K Hiremath            0               0:00:00   \n",
              "\n",
              "     Average Resolution Time  Average Rating  Total Feedback  \n",
              "0                    0:04:20            4.11               9  \n",
              "1                    0:28:25            3.14               7  \n",
              "2                    0:11:36            4.55              11  \n",
              "3                    0:15:46            4.71               7  \n",
              "4                    0:16:33            3.67               6  \n",
              "...                      ...             ...             ...  \n",
              "2155                 0:00:00            0.00               0  \n",
              "2156                 0:00:00            0.00               0  \n",
              "2157                 0:00:00            0.00               0  \n",
              "2158                 0:00:00            0.00               0  \n",
              "2159                 0:00:00            0.00               0  \n",
              "\n",
              "[2160 rows x 8 columns]"
            ],
            "text/html": [
              "\n",
              "  <div id=\"df-ff20b4cd-1adc-4982-8b53-6fb279dbf7ae\">\n",
              "    <div class=\"colab-df-container\">\n",
              "      <div>\n",
              "<style scoped>\n",
              "    .dataframe tbody tr th:only-of-type {\n",
              "        vertical-align: middle;\n",
              "    }\n",
              "\n",
              "    .dataframe tbody tr th {\n",
              "        vertical-align: top;\n",
              "    }\n",
              "\n",
              "    .dataframe thead th {\n",
              "        text-align: right;\n",
              "    }\n",
              "</style>\n",
              "<table border=\"1\" class=\"dataframe\">\n",
              "  <thead>\n",
              "    <tr style=\"text-align: right;\">\n",
              "      <th></th>\n",
              "      <th>SL No</th>\n",
              "      <th>Date</th>\n",
              "      <th>Agent Name</th>\n",
              "      <th>Total Chats</th>\n",
              "      <th>Average Response Time</th>\n",
              "      <th>Average Resolution Time</th>\n",
              "      <th>Average Rating</th>\n",
              "      <th>Total Feedback</th>\n",
              "    </tr>\n",
              "  </thead>\n",
              "  <tbody>\n",
              "    <tr>\n",
              "      <th>0</th>\n",
              "      <td>1</td>\n",
              "      <td>7/30/2022</td>\n",
              "      <td>Prerna Singh</td>\n",
              "      <td>11</td>\n",
              "      <td>0:00:38</td>\n",
              "      <td>0:04:20</td>\n",
              "      <td>4.11</td>\n",
              "      <td>9</td>\n",
              "    </tr>\n",
              "    <tr>\n",
              "      <th>1</th>\n",
              "      <td>2</td>\n",
              "      <td>7/30/2022</td>\n",
              "      <td>Nandani Gupta</td>\n",
              "      <td>11</td>\n",
              "      <td>0:01:15</td>\n",
              "      <td>0:28:25</td>\n",
              "      <td>3.14</td>\n",
              "      <td>7</td>\n",
              "    </tr>\n",
              "    <tr>\n",
              "      <th>2</th>\n",
              "      <td>3</td>\n",
              "      <td>7/30/2022</td>\n",
              "      <td>Ameya Jain</td>\n",
              "      <td>14</td>\n",
              "      <td>0:00:30</td>\n",
              "      <td>0:11:36</td>\n",
              "      <td>4.55</td>\n",
              "      <td>11</td>\n",
              "    </tr>\n",
              "    <tr>\n",
              "      <th>3</th>\n",
              "      <td>4</td>\n",
              "      <td>7/30/2022</td>\n",
              "      <td>Mahesh Sarade</td>\n",
              "      <td>14</td>\n",
              "      <td>0:01:04</td>\n",
              "      <td>0:15:46</td>\n",
              "      <td>4.71</td>\n",
              "      <td>7</td>\n",
              "    </tr>\n",
              "    <tr>\n",
              "      <th>4</th>\n",
              "      <td>5</td>\n",
              "      <td>7/30/2022</td>\n",
              "      <td>Swati</td>\n",
              "      <td>14</td>\n",
              "      <td>0:01:11</td>\n",
              "      <td>0:16:33</td>\n",
              "      <td>3.67</td>\n",
              "      <td>6</td>\n",
              "    </tr>\n",
              "    <tr>\n",
              "      <th>...</th>\n",
              "      <td>...</td>\n",
              "      <td>...</td>\n",
              "      <td>...</td>\n",
              "      <td>...</td>\n",
              "      <td>...</td>\n",
              "      <td>...</td>\n",
              "      <td>...</td>\n",
              "      <td>...</td>\n",
              "    </tr>\n",
              "    <tr>\n",
              "      <th>2155</th>\n",
              "      <td>2156</td>\n",
              "      <td>7/1/2022</td>\n",
              "      <td>Sowmiya Sivakumar</td>\n",
              "      <td>0</td>\n",
              "      <td>0:00:00</td>\n",
              "      <td>0:00:00</td>\n",
              "      <td>0.00</td>\n",
              "      <td>0</td>\n",
              "    </tr>\n",
              "    <tr>\n",
              "      <th>2156</th>\n",
              "      <td>2157</td>\n",
              "      <td>7/1/2022</td>\n",
              "      <td>Nitin M</td>\n",
              "      <td>0</td>\n",
              "      <td>0:00:00</td>\n",
              "      <td>0:00:00</td>\n",
              "      <td>0.00</td>\n",
              "      <td>0</td>\n",
              "    </tr>\n",
              "    <tr>\n",
              "      <th>2157</th>\n",
              "      <td>2158</td>\n",
              "      <td>7/1/2022</td>\n",
              "      <td>Vivek</td>\n",
              "      <td>0</td>\n",
              "      <td>0:00:00</td>\n",
              "      <td>0:00:00</td>\n",
              "      <td>0.00</td>\n",
              "      <td>0</td>\n",
              "    </tr>\n",
              "    <tr>\n",
              "      <th>2158</th>\n",
              "      <td>2159</td>\n",
              "      <td>7/1/2022</td>\n",
              "      <td>Ayushi Mishra</td>\n",
              "      <td>0</td>\n",
              "      <td>0:00:00</td>\n",
              "      <td>0:00:00</td>\n",
              "      <td>0.00</td>\n",
              "      <td>0</td>\n",
              "    </tr>\n",
              "    <tr>\n",
              "      <th>2159</th>\n",
              "      <td>2160</td>\n",
              "      <td>7/1/2022</td>\n",
              "      <td>Chaitra K Hiremath</td>\n",
              "      <td>0</td>\n",
              "      <td>0:00:00</td>\n",
              "      <td>0:00:00</td>\n",
              "      <td>0.00</td>\n",
              "      <td>0</td>\n",
              "    </tr>\n",
              "  </tbody>\n",
              "</table>\n",
              "<p>2160 rows × 8 columns</p>\n",
              "</div>\n",
              "      <button class=\"colab-df-convert\" onclick=\"convertToInteractive('df-ff20b4cd-1adc-4982-8b53-6fb279dbf7ae')\"\n",
              "              title=\"Convert this dataframe to an interactive table.\"\n",
              "              style=\"display:none;\">\n",
              "        \n",
              "  <svg xmlns=\"http://www.w3.org/2000/svg\" height=\"24px\"viewBox=\"0 0 24 24\"\n",
              "       width=\"24px\">\n",
              "    <path d=\"M0 0h24v24H0V0z\" fill=\"none\"/>\n",
              "    <path d=\"M18.56 5.44l.94 2.06.94-2.06 2.06-.94-2.06-.94-.94-2.06-.94 2.06-2.06.94zm-11 1L8.5 8.5l.94-2.06 2.06-.94-2.06-.94L8.5 2.5l-.94 2.06-2.06.94zm10 10l.94 2.06.94-2.06 2.06-.94-2.06-.94-.94-2.06-.94 2.06-2.06.94z\"/><path d=\"M17.41 7.96l-1.37-1.37c-.4-.4-.92-.59-1.43-.59-.52 0-1.04.2-1.43.59L10.3 9.45l-7.72 7.72c-.78.78-.78 2.05 0 2.83L4 21.41c.39.39.9.59 1.41.59.51 0 1.02-.2 1.41-.59l7.78-7.78 2.81-2.81c.8-.78.8-2.07 0-2.86zM5.41 20L4 18.59l7.72-7.72 1.47 1.35L5.41 20z\"/>\n",
              "  </svg>\n",
              "      </button>\n",
              "      \n",
              "  <style>\n",
              "    .colab-df-container {\n",
              "      display:flex;\n",
              "      flex-wrap:wrap;\n",
              "      gap: 12px;\n",
              "    }\n",
              "\n",
              "    .colab-df-convert {\n",
              "      background-color: #E8F0FE;\n",
              "      border: none;\n",
              "      border-radius: 50%;\n",
              "      cursor: pointer;\n",
              "      display: none;\n",
              "      fill: #1967D2;\n",
              "      height: 32px;\n",
              "      padding: 0 0 0 0;\n",
              "      width: 32px;\n",
              "    }\n",
              "\n",
              "    .colab-df-convert:hover {\n",
              "      background-color: #E2EBFA;\n",
              "      box-shadow: 0px 1px 2px rgba(60, 64, 67, 0.3), 0px 1px 3px 1px rgba(60, 64, 67, 0.15);\n",
              "      fill: #174EA6;\n",
              "    }\n",
              "\n",
              "    [theme=dark] .colab-df-convert {\n",
              "      background-color: #3B4455;\n",
              "      fill: #D2E3FC;\n",
              "    }\n",
              "\n",
              "    [theme=dark] .colab-df-convert:hover {\n",
              "      background-color: #434B5C;\n",
              "      box-shadow: 0px 1px 3px 1px rgba(0, 0, 0, 0.15);\n",
              "      filter: drop-shadow(0px 1px 2px rgba(0, 0, 0, 0.3));\n",
              "      fill: #FFFFFF;\n",
              "    }\n",
              "  </style>\n",
              "\n",
              "      <script>\n",
              "        const buttonEl =\n",
              "          document.querySelector('#df-ff20b4cd-1adc-4982-8b53-6fb279dbf7ae button.colab-df-convert');\n",
              "        buttonEl.style.display =\n",
              "          google.colab.kernel.accessAllowed ? 'block' : 'none';\n",
              "\n",
              "        async function convertToInteractive(key) {\n",
              "          const element = document.querySelector('#df-ff20b4cd-1adc-4982-8b53-6fb279dbf7ae');\n",
              "          const dataTable =\n",
              "            await google.colab.kernel.invokeFunction('convertToInteractive',\n",
              "                                                     [key], {});\n",
              "          if (!dataTable) return;\n",
              "\n",
              "          const docLinkHtml = 'Like what you see? Visit the ' +\n",
              "            '<a target=\"_blank\" href=https://colab.research.google.com/notebooks/data_table.ipynb>data table notebook</a>'\n",
              "            + ' to learn more about interactive tables.';\n",
              "          element.innerHTML = '';\n",
              "          dataTable['output_type'] = 'display_data';\n",
              "          await google.colab.output.renderOutput(dataTable, element);\n",
              "          const docLink = document.createElement('div');\n",
              "          docLink.innerHTML = docLinkHtml;\n",
              "          element.appendChild(docLink);\n",
              "        }\n",
              "      </script>\n",
              "    </div>\n",
              "  </div>\n",
              "  "
            ]
          },
          "metadata": {},
          "execution_count": 133
        }
      ]
    },
    {
      "cell_type": "markdown",
      "source": [
        "\n",
        "**Data Cleaning**"
      ],
      "metadata": {
        "id": "gIq-cVcxe7Pg"
      }
    },
    {
      "cell_type": "code",
      "source": [
        "agent_performance_df.dtypes"
      ],
      "metadata": {
        "colab": {
          "base_uri": "https://localhost:8080/"
        },
        "id": "oSTMfexUfMZR",
        "outputId": "e0648650-7f9c-4e73-bad5-dc5b08981175"
      },
      "execution_count": 134,
      "outputs": [
        {
          "output_type": "execute_result",
          "data": {
            "text/plain": [
              "SL No                        int64\n",
              "Date                        object\n",
              "Agent Name                  object\n",
              "Total Chats                  int64\n",
              "Average Response Time       object\n",
              "Average Resolution Time     object\n",
              "Average Rating             float64\n",
              "Total Feedback               int64\n",
              "dtype: object"
            ]
          },
          "metadata": {},
          "execution_count": 134
        }
      ]
    },
    {
      "cell_type": "code",
      "source": [
        "agent_performance_df['Date'] = agent_performance_df['Date'].apply(pd.to_datetime)"
      ],
      "metadata": {
        "id": "T7dza5vvgt_l"
      },
      "execution_count": 135,
      "outputs": []
    },
    {
      "cell_type": "code",
      "source": [
        "agent_login_df['Date'] = pd.to_datetime(agent_login_df['Date'])"
      ],
      "metadata": {
        "id": "vCS0o64Nguuz"
      },
      "execution_count": 136,
      "outputs": []
    },
    {
      "cell_type": "code",
      "source": [
        "agent_performance_df['week'] = agent_performance_df['Date'].dt.isocalendar().week"
      ],
      "metadata": {
        "id": "GrTNO2nig32w"
      },
      "execution_count": 137,
      "outputs": []
    },
    {
      "cell_type": "markdown",
      "source": [
        "**1. Find out there average rating on weekly basis keep this in mind that they take two day leave in a week**"
      ],
      "metadata": {
        "id": "oFeV3bB8xEDL"
      }
    },
    {
      "cell_type": "code",
      "source": [
        "agent_performance_df.groupby('week')['Average Rating'].mean()"
      ],
      "metadata": {
        "colab": {
          "base_uri": "https://localhost:8080/"
        },
        "id": "A5RMlA9ThAUh",
        "outputId": "212c73d4-9e1b-4ec9-9812-38f0506a211b"
      },
      "execution_count": 138,
      "outputs": [
        {
          "output_type": "execute_result",
          "data": {
            "text/plain": [
              "week\n",
              "26    0.998704\n",
              "27    1.386647\n",
              "28    1.548492\n",
              "29    1.511389\n",
              "30    1.617847\n",
              "Name: Average Rating, dtype: float64"
            ]
          },
          "metadata": {},
          "execution_count": 138
        }
      ]
    },
    {
      "cell_type": "code",
      "source": [
        "agent_performance_df.dtypes\n"
      ],
      "metadata": {
        "colab": {
          "base_uri": "https://localhost:8080/"
        },
        "id": "NIr_rH1Z0tuY",
        "outputId": "1beab447-6e01-4a9e-f3a0-3bd909241008"
      },
      "execution_count": 139,
      "outputs": [
        {
          "output_type": "execute_result",
          "data": {
            "text/plain": [
              "SL No                               int64\n",
              "Date                       datetime64[ns]\n",
              "Agent Name                         object\n",
              "Total Chats                         int64\n",
              "Average Response Time              object\n",
              "Average Resolution Time            object\n",
              "Average Rating                    float64\n",
              "Total Feedback                      int64\n",
              "week                               UInt32\n",
              "dtype: object"
            ]
          },
          "metadata": {},
          "execution_count": 139
        }
      ]
    },
    {
      "cell_type": "code",
      "source": [
        "agent_performance_df.groupby('week') \\\n",
        " ['Average Rating'].mean()"
      ],
      "metadata": {
        "colab": {
          "base_uri": "https://localhost:8080/"
        },
        "id": "YZ0VjwEHxJRe",
        "outputId": "f953f128-2e68-42c4-dbe4-32279256489d"
      },
      "execution_count": 140,
      "outputs": [
        {
          "output_type": "execute_result",
          "data": {
            "text/plain": [
              "week\n",
              "26    0.998704\n",
              "27    1.386647\n",
              "28    1.548492\n",
              "29    1.511389\n",
              "30    1.617847\n",
              "Name: Average Rating, dtype: float64"
            ]
          },
          "metadata": {},
          "execution_count": 140
        }
      ]
    },
    {
      "cell_type": "markdown",
      "source": [
        "**2. Total working days for each agents**"
      ],
      "metadata": {
        "id": "0mmT9o8Yywtp"
      }
    },
    {
      "cell_type": "code",
      "source": [
        "agent_performance_df.groupby('Agent Name')['Date'].count()"
      ],
      "metadata": {
        "colab": {
          "base_uri": "https://localhost:8080/"
        },
        "id": "r3tv22Dwyyx8",
        "outputId": "1c99a412-368a-4841-c06b-b763880701c9"
      },
      "execution_count": 141,
      "outputs": [
        {
          "output_type": "execute_result",
          "data": {
            "text/plain": [
              "Agent Name\n",
              "Abhishek         30\n",
              "Aditya           30\n",
              "Aditya Shinde    30\n",
              "Aditya_iot       30\n",
              "Amersh           30\n",
              "                 ..\n",
              "Uday Mishra      30\n",
              "Vasanth P        30\n",
              "Vivek            30\n",
              "Wasim            30\n",
              "Zeeshan          30\n",
              "Name: Date, Length: 70, dtype: int64"
            ]
          },
          "metadata": {},
          "execution_count": 141
        }
      ]
    },
    {
      "cell_type": "markdown",
      "source": [
        "**3.Total query that you hvae taken**"
      ],
      "metadata": {
        "id": "FvVlhZ8CzoUR"
      }
    },
    {
      "cell_type": "code",
      "source": [
        "agent_performance_df.groupby('Agent Name')['Total Chats'].sum()"
      ],
      "metadata": {
        "colab": {
          "base_uri": "https://localhost:8080/"
        },
        "id": "cm2p4JoMzxRW",
        "outputId": "77727bf1-ef9c-4b1e-8cdf-5bb674aa0ba1"
      },
      "execution_count": 142,
      "outputs": [
        {
          "output_type": "execute_result",
          "data": {
            "text/plain": [
              "Agent Name\n",
              "Abhishek           0\n",
              "Aditya             0\n",
              "Aditya Shinde    277\n",
              "Aditya_iot       231\n",
              "Amersh             0\n",
              "                ... \n",
              "Uday Mishra        0\n",
              "Vasanth P          0\n",
              "Vivek             44\n",
              "Wasim            433\n",
              "Zeeshan          542\n",
              "Name: Total Chats, Length: 70, dtype: int64"
            ]
          },
          "metadata": {},
          "execution_count": 142
        }
      ]
    },
    {
      "cell_type": "markdown",
      "source": [
        "**4. Total Feedback that you have received**"
      ],
      "metadata": {
        "id": "y-qb2jbx1_zz"
      }
    },
    {
      "cell_type": "code",
      "source": [
        "agent_performance_df.groupby('Agent Name')['Total Feedback'].sum()"
      ],
      "metadata": {
        "colab": {
          "base_uri": "https://localhost:8080/"
        },
        "id": "QDyMI_jE13rX",
        "outputId": "1a968c55-f193-4d9c-c3ab-ca62b447108a"
      },
      "execution_count": 143,
      "outputs": [
        {
          "output_type": "execute_result",
          "data": {
            "text/plain": [
              "Agent Name\n",
              "Abhishek           0\n",
              "Aditya             0\n",
              "Aditya Shinde    153\n",
              "Aditya_iot       131\n",
              "Amersh             0\n",
              "                ... \n",
              "Uday Mishra        0\n",
              "Vasanth P          0\n",
              "Vivek             20\n",
              "Wasim            284\n",
              "Zeeshan          335\n",
              "Name: Total Feedback, Length: 70, dtype: int64"
            ]
          },
          "metadata": {},
          "execution_count": 143
        }
      ]
    },
    {
      "cell_type": "markdown",
      "source": [
        "**5. Agent name who have average rating between 3.5 to 4**"
      ],
      "metadata": {
        "id": "4OBsO3Er2L7o"
      }
    },
    {
      "cell_type": "code",
      "source": [
        " agent_performance_df[(agent_performance_df['Average Rating']>3.5)&(agent_performance_df['Average Rating']<4)]['Agent Name'].unique()"
      ],
      "metadata": {
        "colab": {
          "base_uri": "https://localhost:8080/"
        },
        "id": "sbDChRYM2Gyt",
        "outputId": "4dd7be95-b4b1-490f-e187-f93fe08e0bca"
      },
      "execution_count": 144,
      "outputs": [
        {
          "output_type": "execute_result",
          "data": {
            "text/plain": [
              "array(['Swati ', 'Manjunatha A', 'Prateek _iot ', 'Nandani Gupta',\n",
              "       'Jaydeep Dixit', 'Mahesh Sarade', 'Zeeshan ', 'Hrisikesh Neogi',\n",
              "       'Khushboo Priya', 'Wasim ', 'Jawala Prakash', 'Nishtha Jain',\n",
              "       'Prerna Singh', 'Boktiar Ahmed Bappy', 'Muskan Garg',\n",
              "       'Harikrishnan Shaji', 'Deepranjan Gupta', 'Shivan K',\n",
              "       'Madhulika G', 'Rishav Dash', 'Maitry ', 'Mithun S', 'Aditya_iot ',\n",
              "       'Ishawant Kumar', 'Ayushi Mishra', 'Shivananda Sonwane',\n",
              "       'Sandipan Saha', 'Anirudh ', 'Jayant Kumar', 'Saurabh Shukla',\n",
              "       'Aditya Shinde'], dtype=object)"
            ]
          },
          "metadata": {},
          "execution_count": 144
        }
      ]
    },
    {
      "cell_type": "markdown",
      "source": [
        "**6. Agent name who have rating less than 3.5**"
      ],
      "metadata": {
        "id": "6MTHILsZ9GIL"
      }
    },
    {
      "cell_type": "code",
      "source": [
        "agent_performance_df[agent_performance_df['Average Rating']<3.5]['Agent Name'].unique()"
      ],
      "metadata": {
        "colab": {
          "base_uri": "https://localhost:8080/"
        },
        "id": "AdTS1ATD9I09",
        "outputId": "33896862-4b4a-4b40-c6b1-3402a9da08d5"
      },
      "execution_count": 145,
      "outputs": [
        {
          "output_type": "execute_result",
          "data": {
            "text/plain": [
              "array(['Nandani Gupta', 'Hitesh Choudhary', 'Sanjeevan ', 'Anirudh ',\n",
              "       'Shiva Srivastava', 'Dibyanshu ', 'Ashish ', 'Uday Mishra',\n",
              "       'Aditya Shinde', 'Jayant Kumar', 'Aditya_iot ',\n",
              "       'Prabir Kumar Satapathy', 'Saurabh Shukla', 'Wasim ', 'Samprit ',\n",
              "       'Maitry ', 'Abhishek ', 'Rishav Dash', 'Aravind ', 'Tarun ',\n",
              "       'Muskan Garg', 'Ankit Sharma', 'Bharath ', 'Ashad Nasim',\n",
              "       'Vasanth P', 'Aditya ', 'Amersh ', 'Sandipan Saha',\n",
              "       'Ineuron Intelligence ', 'Mahak ', 'Mukesh Rao ', 'Zeeshan ',\n",
              "       'Anurag Tiwari', 'Ankitjha ', 'Saif Khan', 'Jaydeep Dixit',\n",
              "       'Sudhanshu Kumar', 'Maneesh ', 'Hyder Abbas', 'Rohan ', 'Vivek ',\n",
              "       'Nitin M', 'Shivan_S ', 'Spuri ', 'Ayushi Mishra',\n",
              "       'Chaitra K Hiremath', 'Prateek _iot ', 'Jawala Prakash',\n",
              "       'Sowmiya Sivakumar', 'Nishtha Jain', 'Swati ', 'Khushboo Priya',\n",
              "       'Shubham Sharma', 'Manjunatha A', 'Ameya Jain',\n",
              "       'Harikrishnan Shaji', 'Saikumarreddy N', 'Sanjeev Kumar',\n",
              "       'Mukesh ', 'Hrisikesh Neogi', 'Mithun S', 'Prerna Singh',\n",
              "       'Suraj S Bilgi', 'Shivan K', 'Mahesh Sarade', 'Madhulika G',\n",
              "       'Boktiar Ahmed Bappy', 'Deepranjan Gupta', 'Ishawant Kumar',\n",
              "       'Shivananda Sonwane'], dtype=object)"
            ]
          },
          "metadata": {},
          "execution_count": 145
        }
      ]
    },
    {
      "cell_type": "markdown",
      "source": [
        "**7. Agent name who have rating more then 4.5**"
      ],
      "metadata": {
        "id": "dtkgeN01-O74"
      }
    },
    {
      "cell_type": "code",
      "source": [
        "agent_performance_df[agent_performance_df['Average Rating']>4.5]['Agent Name'].unique()  "
      ],
      "metadata": {
        "colab": {
          "base_uri": "https://localhost:8080/"
        },
        "id": "tKuTaD-P-XOH",
        "outputId": "0c20c82f-67b6-45df-8ebb-d6c1d6267e65"
      },
      "execution_count": 146,
      "outputs": [
        {
          "output_type": "execute_result",
          "data": {
            "text/plain": [
              "array(['Ameya Jain', 'Mahesh Sarade', 'Mukesh ', 'Saikumarreddy N',\n",
              "       'Sanjeev Kumar', 'Harikrishnan Shaji', 'Sowmiya Sivakumar',\n",
              "       'Boktiar Ahmed Bappy', 'Shivananda Sonwane', 'Ishawant Kumar',\n",
              "       'Deepranjan Gupta', 'Muskan Garg', 'Aditya_iot ',\n",
              "       'Chaitra K Hiremath', 'Suraj S Bilgi', 'Mithun S', 'Wasim ',\n",
              "       'Bharath ', 'Jawala Prakash', 'Ayushi Mishra', 'Prateek _iot ',\n",
              "       'Nandani Gupta', 'Khushboo Priya', 'Manjunatha A', 'Maitry ',\n",
              "       'Jaydeep Dixit', 'Madhulika G', 'Prerna Singh', 'Shivan K',\n",
              "       'Shiva Srivastava', 'Swati ', 'Shubham Sharma', 'Aravind ',\n",
              "       'Zeeshan ', 'Hrisikesh Neogi', 'Prabir Kumar Satapathy',\n",
              "       'Rishav Dash', 'Sudhanshu Kumar', 'Aditya Shinde', 'Sandipan Saha',\n",
              "       'Nishtha Jain', 'Saurabh Shukla', 'Anirudh ', 'Jayant Kumar',\n",
              "       'Mukesh Rao ', 'Vivek ', 'Ankitjha '], dtype=object)"
            ]
          },
          "metadata": {},
          "execution_count": 146
        }
      ]
    },
    {
      "cell_type": "markdown",
      "source": [
        "**8. how many feedback agents have recieved more than 4.5 average**"
      ],
      "metadata": {
        "id": "hDtn8t25AFH0"
      }
    },
    {
      "cell_type": "code",
      "source": [
        "agent_performance_df[agent_performance_df['Average Rating']>4.5].groupby('Agent Name')['Total Feedback'].sum()"
      ],
      "metadata": {
        "colab": {
          "base_uri": "https://localhost:8080/"
        },
        "id": "zi3bPpjqAHYq",
        "outputId": "57b71ea6-a1e5-47e0-a6eb-432034e7fef0"
      },
      "execution_count": 147,
      "outputs": [
        {
          "output_type": "execute_result",
          "data": {
            "text/plain": [
              "Agent Name\n",
              "Aditya Shinde              73\n",
              "Aditya_iot                 43\n",
              "Ameya Jain                150\n",
              "Anirudh                     2\n",
              "Ankitjha                    1\n",
              "Aravind                   178\n",
              "Ayushi Mishra              75\n",
              "Bharath                   231\n",
              "Boktiar Ahmed Bappy        52\n",
              "Chaitra K Hiremath          5\n",
              "Deepranjan Gupta           83\n",
              "Harikrishnan Shaji         80\n",
              "Hrisikesh Neogi           183\n",
              "Ishawant Kumar             79\n",
              "Jawala Prakash             33\n",
              "Jayant Kumar                7\n",
              "Jaydeep Dixit             179\n",
              "Khushboo Priya            134\n",
              "Madhulika G                67\n",
              "Mahesh Sarade              46\n",
              "Maitry                     81\n",
              "Manjunatha A              132\n",
              "Mithun S                   93\n",
              "Mukesh                     17\n",
              "Mukesh Rao                  1\n",
              "Muskan Garg                14\n",
              "Nandani Gupta              91\n",
              "Nishtha Jain               18\n",
              "Prabir Kumar Satapathy     53\n",
              "Prateek _iot               54\n",
              "Prerna Singh               82\n",
              "Rishav Dash                27\n",
              "Saikumarreddy N           184\n",
              "Sandipan Saha               1\n",
              "Sanjeev Kumar             164\n",
              "Saurabh Shukla              3\n",
              "Shiva Srivastava            2\n",
              "Shivan K                  130\n",
              "Shivananda Sonwane        154\n",
              "Shubham Sharma            155\n",
              "Sowmiya Sivakumar          16\n",
              "Sudhanshu Kumar             2\n",
              "Suraj S Bilgi               4\n",
              "Swati                     103\n",
              "Vivek                       3\n",
              "Wasim                     156\n",
              "Zeeshan                    48\n",
              "Name: Total Feedback, dtype: int64"
            ]
          },
          "metadata": {},
          "execution_count": 147
        }
      ]
    },
    {
      "cell_type": "markdown",
      "source": [
        "**9. Average weekly response time for each agent**"
      ],
      "metadata": {
        "id": "mVhIERRwHmqs"
      }
    },
    {
      "cell_type": "code",
      "source": [
        "\n",
        "agent_performance_df['New Average Response Time'] = agent_performance_df['Date'].astype(str)+' '+agent_performance_df['Average Response Time'].astype(str)\n",
        "agent_performance_df['New Average Response Time'] = pd.to_datetime(agent_performance_df['New Average Response Time'])"
      ],
      "metadata": {
        "id": "RIfKKh0zJbzt"
      },
      "execution_count": 148,
      "outputs": []
    },
    {
      "cell_type": "code",
      "source": [
        "agent_performance_df.groupby(['week','Agent Name'])['New Average Response Time'].mean()"
      ],
      "metadata": {
        "colab": {
          "base_uri": "https://localhost:8080/"
        },
        "id": "nkVFKfvG52AB",
        "outputId": "ac83ea98-8ce5-4211-dca2-c2c5dbf1bd98"
      },
      "execution_count": 149,
      "outputs": [
        {
          "output_type": "execute_result",
          "data": {
            "text/plain": [
              "week  Agent Name   \n",
              "26    Abhishek        2022-07-02 00:00:00.000000000\n",
              "      Aditya          2022-07-02 00:00:00.000000000\n",
              "      Aditya Shinde   2022-07-02 00:00:55.333333248\n",
              "      Aditya_iot      2022-07-02 00:00:00.000000000\n",
              "      Amersh          2022-07-02 00:00:00.000000000\n",
              "                                   ...             \n",
              "30    Uday Mishra     2022-07-27 12:00:00.000000000\n",
              "      Vasanth P       2022-07-27 12:00:00.000000000\n",
              "      Vivek           2022-07-27 12:00:00.000000000\n",
              "      Wasim           2022-07-27 12:00:50.500000000\n",
              "      Zeeshan         2022-07-27 12:01:03.833333504\n",
              "Name: New Average Response Time, Length: 350, dtype: datetime64[ns]"
            ]
          },
          "metadata": {},
          "execution_count": 149
        }
      ]
    },
    {
      "cell_type": "markdown",
      "source": [
        "**10. Average weekly resolution time for each agents**"
      ],
      "metadata": {
        "id": "EqlfEx5LT3aQ"
      }
    },
    {
      "cell_type": "code",
      "source": [
        "agent_performance_df['New Average Resolution Time'] = agent_performance_df['Date'].astype(str)+' '+agent_performance_df['Average Resolution Time'].astype(str)\n",
        "agent_performance_df['New Average Resolution Time'] = pd.to_datetime(agent_performance_df['New Average Resolution Time'])"
      ],
      "metadata": {
        "id": "3TxNZeKE56rX"
      },
      "execution_count": 150,
      "outputs": []
    },
    {
      "cell_type": "code",
      "source": [
        "agent_performance_df"
      ],
      "metadata": {
        "colab": {
          "base_uri": "https://localhost:8080/",
          "height": 693
        },
        "id": "GZxiRQ736nwo",
        "outputId": "1d0eec97-4304-455f-b3c0-5ae98f55a505"
      },
      "execution_count": 151,
      "outputs": [
        {
          "output_type": "execute_result",
          "data": {
            "text/plain": [
              "      SL No       Date          Agent Name  Total Chats Average Response Time  \\\n",
              "0         1 2022-07-30        Prerna Singh           11               0:00:38   \n",
              "1         2 2022-07-30       Nandani Gupta           11               0:01:15   \n",
              "2         3 2022-07-30          Ameya Jain           14               0:00:30   \n",
              "3         4 2022-07-30       Mahesh Sarade           14               0:01:04   \n",
              "4         5 2022-07-30              Swati            14               0:01:11   \n",
              "...     ...        ...                 ...          ...                   ...   \n",
              "2155   2156 2022-07-01   Sowmiya Sivakumar            0               0:00:00   \n",
              "2156   2157 2022-07-01             Nitin M            0               0:00:00   \n",
              "2157   2158 2022-07-01              Vivek             0               0:00:00   \n",
              "2158   2159 2022-07-01       Ayushi Mishra            0               0:00:00   \n",
              "2159   2160 2022-07-01  Chaitra K Hiremath            0               0:00:00   \n",
              "\n",
              "     Average Resolution Time  Average Rating  Total Feedback  week  \\\n",
              "0                    0:04:20            4.11               9    30   \n",
              "1                    0:28:25            3.14               7    30   \n",
              "2                    0:11:36            4.55              11    30   \n",
              "3                    0:15:46            4.71               7    30   \n",
              "4                    0:16:33            3.67               6    30   \n",
              "...                      ...             ...             ...   ...   \n",
              "2155                 0:00:00            0.00               0    26   \n",
              "2156                 0:00:00            0.00               0    26   \n",
              "2157                 0:00:00            0.00               0    26   \n",
              "2158                 0:00:00            0.00               0    26   \n",
              "2159                 0:00:00            0.00               0    26   \n",
              "\n",
              "     New Average Response Time New Average Resolution Time  \n",
              "0          2022-07-30 00:00:38         2022-07-30 00:04:20  \n",
              "1          2022-07-30 00:01:15         2022-07-30 00:28:25  \n",
              "2          2022-07-30 00:00:30         2022-07-30 00:11:36  \n",
              "3          2022-07-30 00:01:04         2022-07-30 00:15:46  \n",
              "4          2022-07-30 00:01:11         2022-07-30 00:16:33  \n",
              "...                        ...                         ...  \n",
              "2155       2022-07-01 00:00:00         2022-07-01 00:00:00  \n",
              "2156       2022-07-01 00:00:00         2022-07-01 00:00:00  \n",
              "2157       2022-07-01 00:00:00         2022-07-01 00:00:00  \n",
              "2158       2022-07-01 00:00:00         2022-07-01 00:00:00  \n",
              "2159       2022-07-01 00:00:00         2022-07-01 00:00:00  \n",
              "\n",
              "[2160 rows x 11 columns]"
            ],
            "text/html": [
              "\n",
              "  <div id=\"df-19b5c5d5-be23-4934-a4f5-a49b90512d31\">\n",
              "    <div class=\"colab-df-container\">\n",
              "      <div>\n",
              "<style scoped>\n",
              "    .dataframe tbody tr th:only-of-type {\n",
              "        vertical-align: middle;\n",
              "    }\n",
              "\n",
              "    .dataframe tbody tr th {\n",
              "        vertical-align: top;\n",
              "    }\n",
              "\n",
              "    .dataframe thead th {\n",
              "        text-align: right;\n",
              "    }\n",
              "</style>\n",
              "<table border=\"1\" class=\"dataframe\">\n",
              "  <thead>\n",
              "    <tr style=\"text-align: right;\">\n",
              "      <th></th>\n",
              "      <th>SL No</th>\n",
              "      <th>Date</th>\n",
              "      <th>Agent Name</th>\n",
              "      <th>Total Chats</th>\n",
              "      <th>Average Response Time</th>\n",
              "      <th>Average Resolution Time</th>\n",
              "      <th>Average Rating</th>\n",
              "      <th>Total Feedback</th>\n",
              "      <th>week</th>\n",
              "      <th>New Average Response Time</th>\n",
              "      <th>New Average Resolution Time</th>\n",
              "    </tr>\n",
              "  </thead>\n",
              "  <tbody>\n",
              "    <tr>\n",
              "      <th>0</th>\n",
              "      <td>1</td>\n",
              "      <td>2022-07-30</td>\n",
              "      <td>Prerna Singh</td>\n",
              "      <td>11</td>\n",
              "      <td>0:00:38</td>\n",
              "      <td>0:04:20</td>\n",
              "      <td>4.11</td>\n",
              "      <td>9</td>\n",
              "      <td>30</td>\n",
              "      <td>2022-07-30 00:00:38</td>\n",
              "      <td>2022-07-30 00:04:20</td>\n",
              "    </tr>\n",
              "    <tr>\n",
              "      <th>1</th>\n",
              "      <td>2</td>\n",
              "      <td>2022-07-30</td>\n",
              "      <td>Nandani Gupta</td>\n",
              "      <td>11</td>\n",
              "      <td>0:01:15</td>\n",
              "      <td>0:28:25</td>\n",
              "      <td>3.14</td>\n",
              "      <td>7</td>\n",
              "      <td>30</td>\n",
              "      <td>2022-07-30 00:01:15</td>\n",
              "      <td>2022-07-30 00:28:25</td>\n",
              "    </tr>\n",
              "    <tr>\n",
              "      <th>2</th>\n",
              "      <td>3</td>\n",
              "      <td>2022-07-30</td>\n",
              "      <td>Ameya Jain</td>\n",
              "      <td>14</td>\n",
              "      <td>0:00:30</td>\n",
              "      <td>0:11:36</td>\n",
              "      <td>4.55</td>\n",
              "      <td>11</td>\n",
              "      <td>30</td>\n",
              "      <td>2022-07-30 00:00:30</td>\n",
              "      <td>2022-07-30 00:11:36</td>\n",
              "    </tr>\n",
              "    <tr>\n",
              "      <th>3</th>\n",
              "      <td>4</td>\n",
              "      <td>2022-07-30</td>\n",
              "      <td>Mahesh Sarade</td>\n",
              "      <td>14</td>\n",
              "      <td>0:01:04</td>\n",
              "      <td>0:15:46</td>\n",
              "      <td>4.71</td>\n",
              "      <td>7</td>\n",
              "      <td>30</td>\n",
              "      <td>2022-07-30 00:01:04</td>\n",
              "      <td>2022-07-30 00:15:46</td>\n",
              "    </tr>\n",
              "    <tr>\n",
              "      <th>4</th>\n",
              "      <td>5</td>\n",
              "      <td>2022-07-30</td>\n",
              "      <td>Swati</td>\n",
              "      <td>14</td>\n",
              "      <td>0:01:11</td>\n",
              "      <td>0:16:33</td>\n",
              "      <td>3.67</td>\n",
              "      <td>6</td>\n",
              "      <td>30</td>\n",
              "      <td>2022-07-30 00:01:11</td>\n",
              "      <td>2022-07-30 00:16:33</td>\n",
              "    </tr>\n",
              "    <tr>\n",
              "      <th>...</th>\n",
              "      <td>...</td>\n",
              "      <td>...</td>\n",
              "      <td>...</td>\n",
              "      <td>...</td>\n",
              "      <td>...</td>\n",
              "      <td>...</td>\n",
              "      <td>...</td>\n",
              "      <td>...</td>\n",
              "      <td>...</td>\n",
              "      <td>...</td>\n",
              "      <td>...</td>\n",
              "    </tr>\n",
              "    <tr>\n",
              "      <th>2155</th>\n",
              "      <td>2156</td>\n",
              "      <td>2022-07-01</td>\n",
              "      <td>Sowmiya Sivakumar</td>\n",
              "      <td>0</td>\n",
              "      <td>0:00:00</td>\n",
              "      <td>0:00:00</td>\n",
              "      <td>0.00</td>\n",
              "      <td>0</td>\n",
              "      <td>26</td>\n",
              "      <td>2022-07-01 00:00:00</td>\n",
              "      <td>2022-07-01 00:00:00</td>\n",
              "    </tr>\n",
              "    <tr>\n",
              "      <th>2156</th>\n",
              "      <td>2157</td>\n",
              "      <td>2022-07-01</td>\n",
              "      <td>Nitin M</td>\n",
              "      <td>0</td>\n",
              "      <td>0:00:00</td>\n",
              "      <td>0:00:00</td>\n",
              "      <td>0.00</td>\n",
              "      <td>0</td>\n",
              "      <td>26</td>\n",
              "      <td>2022-07-01 00:00:00</td>\n",
              "      <td>2022-07-01 00:00:00</td>\n",
              "    </tr>\n",
              "    <tr>\n",
              "      <th>2157</th>\n",
              "      <td>2158</td>\n",
              "      <td>2022-07-01</td>\n",
              "      <td>Vivek</td>\n",
              "      <td>0</td>\n",
              "      <td>0:00:00</td>\n",
              "      <td>0:00:00</td>\n",
              "      <td>0.00</td>\n",
              "      <td>0</td>\n",
              "      <td>26</td>\n",
              "      <td>2022-07-01 00:00:00</td>\n",
              "      <td>2022-07-01 00:00:00</td>\n",
              "    </tr>\n",
              "    <tr>\n",
              "      <th>2158</th>\n",
              "      <td>2159</td>\n",
              "      <td>2022-07-01</td>\n",
              "      <td>Ayushi Mishra</td>\n",
              "      <td>0</td>\n",
              "      <td>0:00:00</td>\n",
              "      <td>0:00:00</td>\n",
              "      <td>0.00</td>\n",
              "      <td>0</td>\n",
              "      <td>26</td>\n",
              "      <td>2022-07-01 00:00:00</td>\n",
              "      <td>2022-07-01 00:00:00</td>\n",
              "    </tr>\n",
              "    <tr>\n",
              "      <th>2159</th>\n",
              "      <td>2160</td>\n",
              "      <td>2022-07-01</td>\n",
              "      <td>Chaitra K Hiremath</td>\n",
              "      <td>0</td>\n",
              "      <td>0:00:00</td>\n",
              "      <td>0:00:00</td>\n",
              "      <td>0.00</td>\n",
              "      <td>0</td>\n",
              "      <td>26</td>\n",
              "      <td>2022-07-01 00:00:00</td>\n",
              "      <td>2022-07-01 00:00:00</td>\n",
              "    </tr>\n",
              "  </tbody>\n",
              "</table>\n",
              "<p>2160 rows × 11 columns</p>\n",
              "</div>\n",
              "      <button class=\"colab-df-convert\" onclick=\"convertToInteractive('df-19b5c5d5-be23-4934-a4f5-a49b90512d31')\"\n",
              "              title=\"Convert this dataframe to an interactive table.\"\n",
              "              style=\"display:none;\">\n",
              "        \n",
              "  <svg xmlns=\"http://www.w3.org/2000/svg\" height=\"24px\"viewBox=\"0 0 24 24\"\n",
              "       width=\"24px\">\n",
              "    <path d=\"M0 0h24v24H0V0z\" fill=\"none\"/>\n",
              "    <path d=\"M18.56 5.44l.94 2.06.94-2.06 2.06-.94-2.06-.94-.94-2.06-.94 2.06-2.06.94zm-11 1L8.5 8.5l.94-2.06 2.06-.94-2.06-.94L8.5 2.5l-.94 2.06-2.06.94zm10 10l.94 2.06.94-2.06 2.06-.94-2.06-.94-.94-2.06-.94 2.06-2.06.94z\"/><path d=\"M17.41 7.96l-1.37-1.37c-.4-.4-.92-.59-1.43-.59-.52 0-1.04.2-1.43.59L10.3 9.45l-7.72 7.72c-.78.78-.78 2.05 0 2.83L4 21.41c.39.39.9.59 1.41.59.51 0 1.02-.2 1.41-.59l7.78-7.78 2.81-2.81c.8-.78.8-2.07 0-2.86zM5.41 20L4 18.59l7.72-7.72 1.47 1.35L5.41 20z\"/>\n",
              "  </svg>\n",
              "      </button>\n",
              "      \n",
              "  <style>\n",
              "    .colab-df-container {\n",
              "      display:flex;\n",
              "      flex-wrap:wrap;\n",
              "      gap: 12px;\n",
              "    }\n",
              "\n",
              "    .colab-df-convert {\n",
              "      background-color: #E8F0FE;\n",
              "      border: none;\n",
              "      border-radius: 50%;\n",
              "      cursor: pointer;\n",
              "      display: none;\n",
              "      fill: #1967D2;\n",
              "      height: 32px;\n",
              "      padding: 0 0 0 0;\n",
              "      width: 32px;\n",
              "    }\n",
              "\n",
              "    .colab-df-convert:hover {\n",
              "      background-color: #E2EBFA;\n",
              "      box-shadow: 0px 1px 2px rgba(60, 64, 67, 0.3), 0px 1px 3px 1px rgba(60, 64, 67, 0.15);\n",
              "      fill: #174EA6;\n",
              "    }\n",
              "\n",
              "    [theme=dark] .colab-df-convert {\n",
              "      background-color: #3B4455;\n",
              "      fill: #D2E3FC;\n",
              "    }\n",
              "\n",
              "    [theme=dark] .colab-df-convert:hover {\n",
              "      background-color: #434B5C;\n",
              "      box-shadow: 0px 1px 3px 1px rgba(0, 0, 0, 0.15);\n",
              "      filter: drop-shadow(0px 1px 2px rgba(0, 0, 0, 0.3));\n",
              "      fill: #FFFFFF;\n",
              "    }\n",
              "  </style>\n",
              "\n",
              "      <script>\n",
              "        const buttonEl =\n",
              "          document.querySelector('#df-19b5c5d5-be23-4934-a4f5-a49b90512d31 button.colab-df-convert');\n",
              "        buttonEl.style.display =\n",
              "          google.colab.kernel.accessAllowed ? 'block' : 'none';\n",
              "\n",
              "        async function convertToInteractive(key) {\n",
              "          const element = document.querySelector('#df-19b5c5d5-be23-4934-a4f5-a49b90512d31');\n",
              "          const dataTable =\n",
              "            await google.colab.kernel.invokeFunction('convertToInteractive',\n",
              "                                                     [key], {});\n",
              "          if (!dataTable) return;\n",
              "\n",
              "          const docLinkHtml = 'Like what you see? Visit the ' +\n",
              "            '<a target=\"_blank\" href=https://colab.research.google.com/notebooks/data_table.ipynb>data table notebook</a>'\n",
              "            + ' to learn more about interactive tables.';\n",
              "          element.innerHTML = '';\n",
              "          dataTable['output_type'] = 'display_data';\n",
              "          await google.colab.output.renderOutput(dataTable, element);\n",
              "          const docLink = document.createElement('div');\n",
              "          docLink.innerHTML = docLinkHtml;\n",
              "          element.appendChild(docLink);\n",
              "        }\n",
              "      </script>\n",
              "    </div>\n",
              "  </div>\n",
              "  "
            ]
          },
          "metadata": {},
          "execution_count": 151
        }
      ]
    },
    {
      "cell_type": "code",
      "source": [
        "agent_performance_df.groupby(['week','Agent Name'])['New Average Resolution Time'].mean()"
      ],
      "metadata": {
        "colab": {
          "base_uri": "https://localhost:8080/"
        },
        "id": "bQXCowis7ZmQ",
        "outputId": "b0a01480-c8fa-484d-e02d-1abdf30ab34e"
      },
      "execution_count": 152,
      "outputs": [
        {
          "output_type": "execute_result",
          "data": {
            "text/plain": [
              "week  Agent Name   \n",
              "26    Abhishek        2022-07-02 00:00:00.000000000\n",
              "      Aditya          2022-07-02 00:00:00.000000000\n",
              "      Aditya Shinde   2022-07-02 00:15:26.999999744\n",
              "      Aditya_iot      2022-07-02 00:00:00.000000000\n",
              "      Amersh          2022-07-02 00:00:00.000000000\n",
              "                                   ...             \n",
              "30    Uday Mishra     2022-07-27 12:00:00.000000000\n",
              "      Vasanth P       2022-07-27 12:00:00.000000000\n",
              "      Vivek           2022-07-27 12:00:00.000000000\n",
              "      Wasim           2022-07-27 12:17:34.833333248\n",
              "      Zeeshan         2022-07-27 12:12:53.500000000\n",
              "Name: New Average Resolution Time, Length: 350, dtype: datetime64[ns]"
            ]
          },
          "metadata": {},
          "execution_count": 152
        }
      ]
    },
    {
      "cell_type": "markdown",
      "source": [
        "**11. list of all agents name**"
      ],
      "metadata": {
        "id": "xetmLhyJ7js6"
      }
    },
    {
      "cell_type": "code",
      "source": [
        "agent_performance_df['Agent Name'].unique()"
      ],
      "metadata": {
        "colab": {
          "base_uri": "https://localhost:8080/"
        },
        "id": "DNsj7bq97ofk",
        "outputId": "7e20179a-1476-4786-a916-57b59584eac1"
      },
      "execution_count": 153,
      "outputs": [
        {
          "output_type": "execute_result",
          "data": {
            "text/plain": [
              "array(['Prerna Singh', 'Nandani Gupta', 'Ameya Jain', 'Mahesh Sarade',\n",
              "       'Swati ', 'Mukesh ', 'Saikumarreddy N', 'Sanjeev Kumar',\n",
              "       'Shubham Sharma', 'Nishtha Jain', 'Manjunatha A', 'Khushboo Priya',\n",
              "       'Suraj S Bilgi', 'Harikrishnan Shaji', 'Hrisikesh Neogi',\n",
              "       'Shivan K', 'Sowmiya Sivakumar', 'Madhulika G', 'Mithun S',\n",
              "       'Hitesh Choudhary', 'Sanjeevan ', 'Anirudh ', 'Shiva Srivastava',\n",
              "       'Dibyanshu ', 'Ashish ', 'Uday Mishra', 'Aditya Shinde',\n",
              "       'Jayant Kumar', 'Aditya_iot ', 'Prabir Kumar Satapathy',\n",
              "       'Saurabh Shukla', 'Wasim ', 'Samprit ', 'Maitry ', 'Abhishek ',\n",
              "       'Rishav Dash', 'Aravind ', 'Tarun ', 'Muskan Garg', 'Ankit Sharma',\n",
              "       'Bharath ', 'Ashad Nasim', 'Vasanth P', 'Aditya ', 'Amersh ',\n",
              "       'Sandipan Saha', 'Ineuron Intelligence ', 'Mahak ', 'Mukesh Rao ',\n",
              "       'Zeeshan ', 'Anurag Tiwari', 'Ankitjha ', 'Saif Khan',\n",
              "       'Jaydeep Dixit', 'Sudhanshu Kumar', 'Maneesh ', 'Hyder Abbas',\n",
              "       'Rohan ', 'Vivek ', 'Nitin M', 'Shivan_S ', 'Spuri ',\n",
              "       'Ayushi Mishra', 'Chaitra K Hiremath', 'Prateek _iot ',\n",
              "       'Boktiar Ahmed Bappy', 'Shivananda Sonwane', 'Ishawant Kumar',\n",
              "       'Deepranjan Gupta', 'Jawala Prakash'], dtype=object)"
            ]
          },
          "metadata": {},
          "execution_count": 153
        }
      ]
    },
    {
      "cell_type": "markdown",
      "source": [
        "**12. percentage of chat on which they have recived a feedback**"
      ],
      "metadata": {
        "id": "5DOIMCjX7u1J"
      }
    },
    {
      "cell_type": "code",
      "source": [
        "agent_performance_df['Feedback Percentage']=agent_performance_df['Total Feedback']/agent_performance_df['Total Chats']*100"
      ],
      "metadata": {
        "id": "5jsDDubb7w2x"
      },
      "execution_count": 154,
      "outputs": []
    },
    {
      "cell_type": "code",
      "source": [
        "\n",
        "agent_performance_df['Feedback Percentage'].mean()"
      ],
      "metadata": {
        "colab": {
          "base_uri": "https://localhost:8080/"
        },
        "id": "TKba65t77z7f",
        "outputId": "62df5999-2af0-4d19-c193-2b98b9bf63f3"
      },
      "execution_count": 155,
      "outputs": [
        {
          "output_type": "execute_result",
          "data": {
            "text/plain": [
              "63.35686478378303"
            ]
          },
          "metadata": {},
          "execution_count": 155
        }
      ]
    },
    {
      "cell_type": "markdown",
      "source": [
        "Overall **63.35%** user will give feedback to the resolution of there querry"
      ],
      "metadata": {
        "id": "h1a_BLzF75EV"
      }
    },
    {
      "cell_type": "markdown",
      "source": [
        "**13. total contribution hour for each and every agents weekly basis**"
      ],
      "metadata": {
        "id": "By_hNE9K8Fle"
      }
    },
    {
      "cell_type": "code",
      "source": [
        "agent_login_df"
      ],
      "metadata": {
        "colab": {
          "base_uri": "https://localhost:8080/",
          "height": 424
        },
        "id": "dHfdnE4-8GX1",
        "outputId": "dfa74313-6a3b-4593-f6a7-aed8299523c4"
      },
      "execution_count": 157,
      "outputs": [
        {
          "output_type": "execute_result",
          "data": {
            "text/plain": [
              "     SL No               Agent       Date Login Time Logout Time   Duration\n",
              "0        1  Shivananda Sonwane 2022-07-30   15:35:29    17:39:39   02:04:10\n",
              "1        2      Khushboo Priya 2022-07-30   15:06:59    15:07:16   00:00:17\n",
              "2        3       Nandani Gupta 2022-07-30   15:04:24    17:31:07   02:26:42\n",
              "3        4     Hrisikesh Neogi 2022-07-30   14:34:29    15:19:35   00:45:06\n",
              "4        5              Mukesh 2022-07-30   14:03:15    15:11:52   01:08:36\n",
              "..     ...                 ...        ...        ...         ...        ...\n",
              "995    996        Manjunatha A 2022-07-20   09:03:51    15:02:28   05:58:37\n",
              "996    997             Bharath 2022-07-20   09:00:49    15:01:32   06:00:43\n",
              "997    998      Khushboo Priya 2022-07-20   08:59:20    14:26:55   05:27:34\n",
              "998    999        Nishtha Jain 2022-07-20   08:43:55    14:00:33   05:16:38\n",
              "999   1000               Tarun 2022-07-01   01:52:47    12:01:07  514:08:20\n",
              "\n",
              "[1000 rows x 6 columns]"
            ],
            "text/html": [
              "\n",
              "  <div id=\"df-60f79fb7-bc33-4684-8ed7-466ffbe73283\">\n",
              "    <div class=\"colab-df-container\">\n",
              "      <div>\n",
              "<style scoped>\n",
              "    .dataframe tbody tr th:only-of-type {\n",
              "        vertical-align: middle;\n",
              "    }\n",
              "\n",
              "    .dataframe tbody tr th {\n",
              "        vertical-align: top;\n",
              "    }\n",
              "\n",
              "    .dataframe thead th {\n",
              "        text-align: right;\n",
              "    }\n",
              "</style>\n",
              "<table border=\"1\" class=\"dataframe\">\n",
              "  <thead>\n",
              "    <tr style=\"text-align: right;\">\n",
              "      <th></th>\n",
              "      <th>SL No</th>\n",
              "      <th>Agent</th>\n",
              "      <th>Date</th>\n",
              "      <th>Login Time</th>\n",
              "      <th>Logout Time</th>\n",
              "      <th>Duration</th>\n",
              "    </tr>\n",
              "  </thead>\n",
              "  <tbody>\n",
              "    <tr>\n",
              "      <th>0</th>\n",
              "      <td>1</td>\n",
              "      <td>Shivananda Sonwane</td>\n",
              "      <td>2022-07-30</td>\n",
              "      <td>15:35:29</td>\n",
              "      <td>17:39:39</td>\n",
              "      <td>02:04:10</td>\n",
              "    </tr>\n",
              "    <tr>\n",
              "      <th>1</th>\n",
              "      <td>2</td>\n",
              "      <td>Khushboo Priya</td>\n",
              "      <td>2022-07-30</td>\n",
              "      <td>15:06:59</td>\n",
              "      <td>15:07:16</td>\n",
              "      <td>00:00:17</td>\n",
              "    </tr>\n",
              "    <tr>\n",
              "      <th>2</th>\n",
              "      <td>3</td>\n",
              "      <td>Nandani Gupta</td>\n",
              "      <td>2022-07-30</td>\n",
              "      <td>15:04:24</td>\n",
              "      <td>17:31:07</td>\n",
              "      <td>02:26:42</td>\n",
              "    </tr>\n",
              "    <tr>\n",
              "      <th>3</th>\n",
              "      <td>4</td>\n",
              "      <td>Hrisikesh Neogi</td>\n",
              "      <td>2022-07-30</td>\n",
              "      <td>14:34:29</td>\n",
              "      <td>15:19:35</td>\n",
              "      <td>00:45:06</td>\n",
              "    </tr>\n",
              "    <tr>\n",
              "      <th>4</th>\n",
              "      <td>5</td>\n",
              "      <td>Mukesh</td>\n",
              "      <td>2022-07-30</td>\n",
              "      <td>14:03:15</td>\n",
              "      <td>15:11:52</td>\n",
              "      <td>01:08:36</td>\n",
              "    </tr>\n",
              "    <tr>\n",
              "      <th>...</th>\n",
              "      <td>...</td>\n",
              "      <td>...</td>\n",
              "      <td>...</td>\n",
              "      <td>...</td>\n",
              "      <td>...</td>\n",
              "      <td>...</td>\n",
              "    </tr>\n",
              "    <tr>\n",
              "      <th>995</th>\n",
              "      <td>996</td>\n",
              "      <td>Manjunatha A</td>\n",
              "      <td>2022-07-20</td>\n",
              "      <td>09:03:51</td>\n",
              "      <td>15:02:28</td>\n",
              "      <td>05:58:37</td>\n",
              "    </tr>\n",
              "    <tr>\n",
              "      <th>996</th>\n",
              "      <td>997</td>\n",
              "      <td>Bharath</td>\n",
              "      <td>2022-07-20</td>\n",
              "      <td>09:00:49</td>\n",
              "      <td>15:01:32</td>\n",
              "      <td>06:00:43</td>\n",
              "    </tr>\n",
              "    <tr>\n",
              "      <th>997</th>\n",
              "      <td>998</td>\n",
              "      <td>Khushboo Priya</td>\n",
              "      <td>2022-07-20</td>\n",
              "      <td>08:59:20</td>\n",
              "      <td>14:26:55</td>\n",
              "      <td>05:27:34</td>\n",
              "    </tr>\n",
              "    <tr>\n",
              "      <th>998</th>\n",
              "      <td>999</td>\n",
              "      <td>Nishtha Jain</td>\n",
              "      <td>2022-07-20</td>\n",
              "      <td>08:43:55</td>\n",
              "      <td>14:00:33</td>\n",
              "      <td>05:16:38</td>\n",
              "    </tr>\n",
              "    <tr>\n",
              "      <th>999</th>\n",
              "      <td>1000</td>\n",
              "      <td>Tarun</td>\n",
              "      <td>2022-07-01</td>\n",
              "      <td>01:52:47</td>\n",
              "      <td>12:01:07</td>\n",
              "      <td>514:08:20</td>\n",
              "    </tr>\n",
              "  </tbody>\n",
              "</table>\n",
              "<p>1000 rows × 6 columns</p>\n",
              "</div>\n",
              "      <button class=\"colab-df-convert\" onclick=\"convertToInteractive('df-60f79fb7-bc33-4684-8ed7-466ffbe73283')\"\n",
              "              title=\"Convert this dataframe to an interactive table.\"\n",
              "              style=\"display:none;\">\n",
              "        \n",
              "  <svg xmlns=\"http://www.w3.org/2000/svg\" height=\"24px\"viewBox=\"0 0 24 24\"\n",
              "       width=\"24px\">\n",
              "    <path d=\"M0 0h24v24H0V0z\" fill=\"none\"/>\n",
              "    <path d=\"M18.56 5.44l.94 2.06.94-2.06 2.06-.94-2.06-.94-.94-2.06-.94 2.06-2.06.94zm-11 1L8.5 8.5l.94-2.06 2.06-.94-2.06-.94L8.5 2.5l-.94 2.06-2.06.94zm10 10l.94 2.06.94-2.06 2.06-.94-2.06-.94-.94-2.06-.94 2.06-2.06.94z\"/><path d=\"M17.41 7.96l-1.37-1.37c-.4-.4-.92-.59-1.43-.59-.52 0-1.04.2-1.43.59L10.3 9.45l-7.72 7.72c-.78.78-.78 2.05 0 2.83L4 21.41c.39.39.9.59 1.41.59.51 0 1.02-.2 1.41-.59l7.78-7.78 2.81-2.81c.8-.78.8-2.07 0-2.86zM5.41 20L4 18.59l7.72-7.72 1.47 1.35L5.41 20z\"/>\n",
              "  </svg>\n",
              "      </button>\n",
              "      \n",
              "  <style>\n",
              "    .colab-df-container {\n",
              "      display:flex;\n",
              "      flex-wrap:wrap;\n",
              "      gap: 12px;\n",
              "    }\n",
              "\n",
              "    .colab-df-convert {\n",
              "      background-color: #E8F0FE;\n",
              "      border: none;\n",
              "      border-radius: 50%;\n",
              "      cursor: pointer;\n",
              "      display: none;\n",
              "      fill: #1967D2;\n",
              "      height: 32px;\n",
              "      padding: 0 0 0 0;\n",
              "      width: 32px;\n",
              "    }\n",
              "\n",
              "    .colab-df-convert:hover {\n",
              "      background-color: #E2EBFA;\n",
              "      box-shadow: 0px 1px 2px rgba(60, 64, 67, 0.3), 0px 1px 3px 1px rgba(60, 64, 67, 0.15);\n",
              "      fill: #174EA6;\n",
              "    }\n",
              "\n",
              "    [theme=dark] .colab-df-convert {\n",
              "      background-color: #3B4455;\n",
              "      fill: #D2E3FC;\n",
              "    }\n",
              "\n",
              "    [theme=dark] .colab-df-convert:hover {\n",
              "      background-color: #434B5C;\n",
              "      box-shadow: 0px 1px 3px 1px rgba(0, 0, 0, 0.15);\n",
              "      filter: drop-shadow(0px 1px 2px rgba(0, 0, 0, 0.3));\n",
              "      fill: #FFFFFF;\n",
              "    }\n",
              "  </style>\n",
              "\n",
              "      <script>\n",
              "        const buttonEl =\n",
              "          document.querySelector('#df-60f79fb7-bc33-4684-8ed7-466ffbe73283 button.colab-df-convert');\n",
              "        buttonEl.style.display =\n",
              "          google.colab.kernel.accessAllowed ? 'block' : 'none';\n",
              "\n",
              "        async function convertToInteractive(key) {\n",
              "          const element = document.querySelector('#df-60f79fb7-bc33-4684-8ed7-466ffbe73283');\n",
              "          const dataTable =\n",
              "            await google.colab.kernel.invokeFunction('convertToInteractive',\n",
              "                                                     [key], {});\n",
              "          if (!dataTable) return;\n",
              "\n",
              "          const docLinkHtml = 'Like what you see? Visit the ' +\n",
              "            '<a target=\"_blank\" href=https://colab.research.google.com/notebooks/data_table.ipynb>data table notebook</a>'\n",
              "            + ' to learn more about interactive tables.';\n",
              "          element.innerHTML = '';\n",
              "          dataTable['output_type'] = 'display_data';\n",
              "          await google.colab.output.renderOutput(dataTable, element);\n",
              "          const docLink = document.createElement('div');\n",
              "          docLink.innerHTML = docLinkHtml;\n",
              "          element.appendChild(docLink);\n",
              "        }\n",
              "      </script>\n",
              "    </div>\n",
              "  </div>\n",
              "  "
            ]
          },
          "metadata": {},
          "execution_count": 157
        }
      ]
    },
    {
      "cell_type": "code",
      "source": [
        "agent_login_df['New Duration'] = pd.to_timedelta(agent_login_df['Duration'])"
      ],
      "metadata": {
        "id": "Jp05BFi88IAq"
      },
      "execution_count": 158,
      "outputs": []
    },
    {
      "cell_type": "code",
      "source": [
        "agent_login_df['week'] = agent_login_df['Date'].dt.isocalendar().week\n",
        "agent_login_df"
      ],
      "metadata": {
        "colab": {
          "base_uri": "https://localhost:8080/",
          "height": 424
        },
        "id": "W6QPfR5O8Tuj",
        "outputId": "1d970979-25e1-483b-848c-ca529000151a"
      },
      "execution_count": 159,
      "outputs": [
        {
          "output_type": "execute_result",
          "data": {
            "text/plain": [
              "     SL No               Agent       Date Login Time Logout Time   Duration  \\\n",
              "0        1  Shivananda Sonwane 2022-07-30   15:35:29    17:39:39   02:04:10   \n",
              "1        2      Khushboo Priya 2022-07-30   15:06:59    15:07:16   00:00:17   \n",
              "2        3       Nandani Gupta 2022-07-30   15:04:24    17:31:07   02:26:42   \n",
              "3        4     Hrisikesh Neogi 2022-07-30   14:34:29    15:19:35   00:45:06   \n",
              "4        5              Mukesh 2022-07-30   14:03:15    15:11:52   01:08:36   \n",
              "..     ...                 ...        ...        ...         ...        ...   \n",
              "995    996        Manjunatha A 2022-07-20   09:03:51    15:02:28   05:58:37   \n",
              "996    997             Bharath 2022-07-20   09:00:49    15:01:32   06:00:43   \n",
              "997    998      Khushboo Priya 2022-07-20   08:59:20    14:26:55   05:27:34   \n",
              "998    999        Nishtha Jain 2022-07-20   08:43:55    14:00:33   05:16:38   \n",
              "999   1000               Tarun 2022-07-01   01:52:47    12:01:07  514:08:20   \n",
              "\n",
              "        New Duration  week  \n",
              "0    0 days 02:04:10    30  \n",
              "1    0 days 00:00:17    30  \n",
              "2    0 days 02:26:42    30  \n",
              "3    0 days 00:45:06    30  \n",
              "4    0 days 01:08:36    30  \n",
              "..               ...   ...  \n",
              "995  0 days 05:58:37    29  \n",
              "996  0 days 06:00:43    29  \n",
              "997  0 days 05:27:34    29  \n",
              "998  0 days 05:16:38    29  \n",
              "999 21 days 10:08:20    26  \n",
              "\n",
              "[1000 rows x 8 columns]"
            ],
            "text/html": [
              "\n",
              "  <div id=\"df-ab4039a0-f14f-4b67-bb8d-5bbed3def662\">\n",
              "    <div class=\"colab-df-container\">\n",
              "      <div>\n",
              "<style scoped>\n",
              "    .dataframe tbody tr th:only-of-type {\n",
              "        vertical-align: middle;\n",
              "    }\n",
              "\n",
              "    .dataframe tbody tr th {\n",
              "        vertical-align: top;\n",
              "    }\n",
              "\n",
              "    .dataframe thead th {\n",
              "        text-align: right;\n",
              "    }\n",
              "</style>\n",
              "<table border=\"1\" class=\"dataframe\">\n",
              "  <thead>\n",
              "    <tr style=\"text-align: right;\">\n",
              "      <th></th>\n",
              "      <th>SL No</th>\n",
              "      <th>Agent</th>\n",
              "      <th>Date</th>\n",
              "      <th>Login Time</th>\n",
              "      <th>Logout Time</th>\n",
              "      <th>Duration</th>\n",
              "      <th>New Duration</th>\n",
              "      <th>week</th>\n",
              "    </tr>\n",
              "  </thead>\n",
              "  <tbody>\n",
              "    <tr>\n",
              "      <th>0</th>\n",
              "      <td>1</td>\n",
              "      <td>Shivananda Sonwane</td>\n",
              "      <td>2022-07-30</td>\n",
              "      <td>15:35:29</td>\n",
              "      <td>17:39:39</td>\n",
              "      <td>02:04:10</td>\n",
              "      <td>0 days 02:04:10</td>\n",
              "      <td>30</td>\n",
              "    </tr>\n",
              "    <tr>\n",
              "      <th>1</th>\n",
              "      <td>2</td>\n",
              "      <td>Khushboo Priya</td>\n",
              "      <td>2022-07-30</td>\n",
              "      <td>15:06:59</td>\n",
              "      <td>15:07:16</td>\n",
              "      <td>00:00:17</td>\n",
              "      <td>0 days 00:00:17</td>\n",
              "      <td>30</td>\n",
              "    </tr>\n",
              "    <tr>\n",
              "      <th>2</th>\n",
              "      <td>3</td>\n",
              "      <td>Nandani Gupta</td>\n",
              "      <td>2022-07-30</td>\n",
              "      <td>15:04:24</td>\n",
              "      <td>17:31:07</td>\n",
              "      <td>02:26:42</td>\n",
              "      <td>0 days 02:26:42</td>\n",
              "      <td>30</td>\n",
              "    </tr>\n",
              "    <tr>\n",
              "      <th>3</th>\n",
              "      <td>4</td>\n",
              "      <td>Hrisikesh Neogi</td>\n",
              "      <td>2022-07-30</td>\n",
              "      <td>14:34:29</td>\n",
              "      <td>15:19:35</td>\n",
              "      <td>00:45:06</td>\n",
              "      <td>0 days 00:45:06</td>\n",
              "      <td>30</td>\n",
              "    </tr>\n",
              "    <tr>\n",
              "      <th>4</th>\n",
              "      <td>5</td>\n",
              "      <td>Mukesh</td>\n",
              "      <td>2022-07-30</td>\n",
              "      <td>14:03:15</td>\n",
              "      <td>15:11:52</td>\n",
              "      <td>01:08:36</td>\n",
              "      <td>0 days 01:08:36</td>\n",
              "      <td>30</td>\n",
              "    </tr>\n",
              "    <tr>\n",
              "      <th>...</th>\n",
              "      <td>...</td>\n",
              "      <td>...</td>\n",
              "      <td>...</td>\n",
              "      <td>...</td>\n",
              "      <td>...</td>\n",
              "      <td>...</td>\n",
              "      <td>...</td>\n",
              "      <td>...</td>\n",
              "    </tr>\n",
              "    <tr>\n",
              "      <th>995</th>\n",
              "      <td>996</td>\n",
              "      <td>Manjunatha A</td>\n",
              "      <td>2022-07-20</td>\n",
              "      <td>09:03:51</td>\n",
              "      <td>15:02:28</td>\n",
              "      <td>05:58:37</td>\n",
              "      <td>0 days 05:58:37</td>\n",
              "      <td>29</td>\n",
              "    </tr>\n",
              "    <tr>\n",
              "      <th>996</th>\n",
              "      <td>997</td>\n",
              "      <td>Bharath</td>\n",
              "      <td>2022-07-20</td>\n",
              "      <td>09:00:49</td>\n",
              "      <td>15:01:32</td>\n",
              "      <td>06:00:43</td>\n",
              "      <td>0 days 06:00:43</td>\n",
              "      <td>29</td>\n",
              "    </tr>\n",
              "    <tr>\n",
              "      <th>997</th>\n",
              "      <td>998</td>\n",
              "      <td>Khushboo Priya</td>\n",
              "      <td>2022-07-20</td>\n",
              "      <td>08:59:20</td>\n",
              "      <td>14:26:55</td>\n",
              "      <td>05:27:34</td>\n",
              "      <td>0 days 05:27:34</td>\n",
              "      <td>29</td>\n",
              "    </tr>\n",
              "    <tr>\n",
              "      <th>998</th>\n",
              "      <td>999</td>\n",
              "      <td>Nishtha Jain</td>\n",
              "      <td>2022-07-20</td>\n",
              "      <td>08:43:55</td>\n",
              "      <td>14:00:33</td>\n",
              "      <td>05:16:38</td>\n",
              "      <td>0 days 05:16:38</td>\n",
              "      <td>29</td>\n",
              "    </tr>\n",
              "    <tr>\n",
              "      <th>999</th>\n",
              "      <td>1000</td>\n",
              "      <td>Tarun</td>\n",
              "      <td>2022-07-01</td>\n",
              "      <td>01:52:47</td>\n",
              "      <td>12:01:07</td>\n",
              "      <td>514:08:20</td>\n",
              "      <td>21 days 10:08:20</td>\n",
              "      <td>26</td>\n",
              "    </tr>\n",
              "  </tbody>\n",
              "</table>\n",
              "<p>1000 rows × 8 columns</p>\n",
              "</div>\n",
              "      <button class=\"colab-df-convert\" onclick=\"convertToInteractive('df-ab4039a0-f14f-4b67-bb8d-5bbed3def662')\"\n",
              "              title=\"Convert this dataframe to an interactive table.\"\n",
              "              style=\"display:none;\">\n",
              "        \n",
              "  <svg xmlns=\"http://www.w3.org/2000/svg\" height=\"24px\"viewBox=\"0 0 24 24\"\n",
              "       width=\"24px\">\n",
              "    <path d=\"M0 0h24v24H0V0z\" fill=\"none\"/>\n",
              "    <path d=\"M18.56 5.44l.94 2.06.94-2.06 2.06-.94-2.06-.94-.94-2.06-.94 2.06-2.06.94zm-11 1L8.5 8.5l.94-2.06 2.06-.94-2.06-.94L8.5 2.5l-.94 2.06-2.06.94zm10 10l.94 2.06.94-2.06 2.06-.94-2.06-.94-.94-2.06-.94 2.06-2.06.94z\"/><path d=\"M17.41 7.96l-1.37-1.37c-.4-.4-.92-.59-1.43-.59-.52 0-1.04.2-1.43.59L10.3 9.45l-7.72 7.72c-.78.78-.78 2.05 0 2.83L4 21.41c.39.39.9.59 1.41.59.51 0 1.02-.2 1.41-.59l7.78-7.78 2.81-2.81c.8-.78.8-2.07 0-2.86zM5.41 20L4 18.59l7.72-7.72 1.47 1.35L5.41 20z\"/>\n",
              "  </svg>\n",
              "      </button>\n",
              "      \n",
              "  <style>\n",
              "    .colab-df-container {\n",
              "      display:flex;\n",
              "      flex-wrap:wrap;\n",
              "      gap: 12px;\n",
              "    }\n",
              "\n",
              "    .colab-df-convert {\n",
              "      background-color: #E8F0FE;\n",
              "      border: none;\n",
              "      border-radius: 50%;\n",
              "      cursor: pointer;\n",
              "      display: none;\n",
              "      fill: #1967D2;\n",
              "      height: 32px;\n",
              "      padding: 0 0 0 0;\n",
              "      width: 32px;\n",
              "    }\n",
              "\n",
              "    .colab-df-convert:hover {\n",
              "      background-color: #E2EBFA;\n",
              "      box-shadow: 0px 1px 2px rgba(60, 64, 67, 0.3), 0px 1px 3px 1px rgba(60, 64, 67, 0.15);\n",
              "      fill: #174EA6;\n",
              "    }\n",
              "\n",
              "    [theme=dark] .colab-df-convert {\n",
              "      background-color: #3B4455;\n",
              "      fill: #D2E3FC;\n",
              "    }\n",
              "\n",
              "    [theme=dark] .colab-df-convert:hover {\n",
              "      background-color: #434B5C;\n",
              "      box-shadow: 0px 1px 3px 1px rgba(0, 0, 0, 0.15);\n",
              "      filter: drop-shadow(0px 1px 2px rgba(0, 0, 0, 0.3));\n",
              "      fill: #FFFFFF;\n",
              "    }\n",
              "  </style>\n",
              "\n",
              "      <script>\n",
              "        const buttonEl =\n",
              "          document.querySelector('#df-ab4039a0-f14f-4b67-bb8d-5bbed3def662 button.colab-df-convert');\n",
              "        buttonEl.style.display =\n",
              "          google.colab.kernel.accessAllowed ? 'block' : 'none';\n",
              "\n",
              "        async function convertToInteractive(key) {\n",
              "          const element = document.querySelector('#df-ab4039a0-f14f-4b67-bb8d-5bbed3def662');\n",
              "          const dataTable =\n",
              "            await google.colab.kernel.invokeFunction('convertToInteractive',\n",
              "                                                     [key], {});\n",
              "          if (!dataTable) return;\n",
              "\n",
              "          const docLinkHtml = 'Like what you see? Visit the ' +\n",
              "            '<a target=\"_blank\" href=https://colab.research.google.com/notebooks/data_table.ipynb>data table notebook</a>'\n",
              "            + ' to learn more about interactive tables.';\n",
              "          element.innerHTML = '';\n",
              "          dataTable['output_type'] = 'display_data';\n",
              "          await google.colab.output.renderOutput(dataTable, element);\n",
              "          const docLink = document.createElement('div');\n",
              "          docLink.innerHTML = docLinkHtml;\n",
              "          element.appendChild(docLink);\n",
              "        }\n",
              "      </script>\n",
              "    </div>\n",
              "  </div>\n",
              "  "
            ]
          },
          "metadata": {},
          "execution_count": 159
        }
      ]
    },
    {
      "cell_type": "code",
      "source": [
        "agent_login_df.groupby(['Agent','week'])['New Duration'].sum()"
      ],
      "metadata": {
        "colab": {
          "base_uri": "https://localhost:8080/"
        },
        "id": "Ft1S6U0v8X0J",
        "outputId": "bbac2926-ed08-4289-8913-33f342cd6ff0"
      },
      "execution_count": 160,
      "outputs": [
        {
          "output_type": "execute_result",
          "data": {
            "text/plain": [
              "Agent          week\n",
              "Aditya Shinde  30      0 days 00:02:10\n",
              "Aditya_iot     29      0 days 06:05:43\n",
              "               30      0 days 09:38:09\n",
              "Amersh         30      0 days 03:03:50\n",
              "Ameya Jain     29      1 days 00:04:59\n",
              "                            ...       \n",
              "Tarun          26     21 days 10:08:20\n",
              "Wasim          29      0 days 19:37:32\n",
              "               30      1 days 04:33:13\n",
              "Zeeshan        29      1 days 00:25:39\n",
              "               30      1 days 00:39:40\n",
              "Name: New Duration, Length: 89, dtype: timedelta64[ns]"
            ]
          },
          "metadata": {},
          "execution_count": 160
        }
      ]
    },
    {
      "cell_type": "markdown",
      "source": [
        "**14. total percentage of active hours for a month**"
      ],
      "metadata": {
        "id": "tTzxdkVM8lW-"
      }
    },
    {
      "cell_type": "code",
      "source": [
        "\n",
        "agent_login_df.groupby('Agent')['New Duration'].mean()"
      ],
      "metadata": {
        "colab": {
          "base_uri": "https://localhost:8080/"
        },
        "id": "WVsbjMto8rNU",
        "outputId": "bfc9e3db-6cda-4ad3-f9fd-59713b2cb4f1"
      },
      "execution_count": 163,
      "outputs": [
        {
          "output_type": "execute_result",
          "data": {
            "text/plain": [
              "Agent\n",
              "Aditya Shinde                      0 days 00:02:10\n",
              "Aditya_iot               0 days 01:44:52.444444444\n",
              "Amersh                      0 days 00:45:57.500000\n",
              "Ameya Jain                  0 days 04:12:27.200000\n",
              "Ankitjha                    0 days 00:34:00.250000\n",
              "Anurag Tiwari            0 days 00:04:30.378378378\n",
              "Aravind                     0 days 02:25:47.700000\n",
              "Ayushi Mishra            0 days 02:07:04.333333333\n",
              "Bharath                  0 days 05:20:30.666666666\n",
              "Boktiar Ahmed Bappy      0 days 02:22:07.470588235\n",
              "Chaitra K Hiremath       0 days 02:38:25.538461538\n",
              "Deepranjan Gupta         0 days 01:49:56.396551724\n",
              "Dibyanshu                   0 days 00:15:10.312500\n",
              "Harikrishnan Shaji       0 days 02:20:07.521739130\n",
              "Hrisikesh Neogi          0 days 01:33:21.270270270\n",
              "Hyder Abbas                 0 days 00:11:38.500000\n",
              "Ineuron Intelligence               0 days 01:26:55\n",
              "Ishawant Kumar           0 days 01:03:24.163265306\n",
              "Jawala Prakash              0 days 02:54:00.500000\n",
              "Jaydeep Dixit            0 days 05:26:24.181818181\n",
              "Khushboo Priya           0 days 02:25:11.722222222\n",
              "Madhulika G              0 days 02:42:33.941176470\n",
              "Mahesh Sarade            0 days 01:11:32.194444444\n",
              "Maitry                      0 days 06:11:20.400000\n",
              "Manjunatha A                0 days 05:09:33.625000\n",
              "Mithun S                 0 days 03:13:36.071428571\n",
              "Mukesh                             0 days 02:58:06\n",
              "Muskan Garg              0 days 01:26:40.666666666\n",
              "Nandani Gupta            0 days 03:39:07.272727272\n",
              "Nishtha Jain             0 days 02:26:10.555555555\n",
              "Nitin M                            0 days 00:47:56\n",
              "Prabir Kumar Satapathy   0 days 01:17:01.461538461\n",
              "Prateek _iot             0 days 01:05:00.294117647\n",
              "Prerna Singh             0 days 02:32:23.111111111\n",
              "Rishav Dash              0 days 03:28:52.666666666\n",
              "Saikumarreddy N             0 days 04:18:49.500000\n",
              "Sanjeev Kumar               0 days 02:14:03.700000\n",
              "Saurabh Shukla              0 days 00:24:59.675000\n",
              "Shiva Srivastava            0 days 00:59:58.600000\n",
              "Shivan K                 0 days 01:00:10.222222222\n",
              "Shivananda Sonwane       0 days 03:17:09.066666666\n",
              "Shubham Sharma           0 days 01:32:13.542857142\n",
              "Sowmiya Sivakumar           0 days 01:51:53.125000\n",
              "Sudhanshu Kumar          0 days 04:12:10.181818181\n",
              "Suraj S Bilgi               0 days 02:30:42.600000\n",
              "Swati                       0 days 05:00:00.800000\n",
              "Tarun                             21 days 10:08:20\n",
              "Wasim                       0 days 02:24:32.250000\n",
              "Zeeshan                     0 days 04:54:31.900000\n",
              "Name: New Duration, dtype: timedelta64[ns]"
            ]
          },
          "metadata": {},
          "execution_count": 163
        }
      ]
    },
    {
      "cell_type": "code",
      "source": [
        ""
      ],
      "metadata": {
        "id": "rXJdqqw88sI9"
      },
      "execution_count": null,
      "outputs": []
    }
  ],
  "metadata": {
    "colab": {
      "name": "Pandas_30_July_Task.ipynb.ipynb",
      "provenance": []
    },
    "kernelspec": {
      "display_name": "Python 3",
      "name": "python3"
    },
    "language_info": {
      "name": "python"
    }
  },
  "nbformat": 4,
  "nbformat_minor": 0
}